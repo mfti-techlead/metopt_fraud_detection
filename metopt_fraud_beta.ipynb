{
 "cells": [
  {
   "cell_type": "code",
   "execution_count": null,
   "metadata": {},
   "outputs": [],
   "source": [
    "# Ссылка на соревнование https://www.kaggle.com/kartik2112/fraud-detection"
   ]
  },
  {
   "cell_type": "code",
   "execution_count": 155,
   "metadata": {},
   "outputs": [],
   "source": [
    "#!pip install xgboost\n",
    "#!pip install scikit-plot\n",
    "#!pip install shap"
   ]
  },
  {
   "cell_type": "code",
   "execution_count": 1,
   "metadata": {},
   "outputs": [],
   "source": [
    "import pandas as pd\n",
    "import numpy as np\n",
    "import matplotlib.pyplot as plt\n",
    "from sklearn import preprocessing\n",
    "import pandasql as ps\n",
    "from varname import nameof\n",
    "\n",
    "from h3 import h3\n",
    "from geojson.feature import *\n",
    "import json\n",
    "from folium import Map, Marker, GeoJson\n",
    "from folium.plugins import MarkerCluster\n",
    "import branca.colormap as cm\n",
    "from branca.colormap import linear\n",
    "import folium\n",
    "\n",
    "from math import sin, cos, sqrt, atan2, radians\n",
    "\n",
    "from xgboost import XGBClassifier\n",
    "from sklearn.model_selection import train_test_split\n",
    "from sklearn.metrics import accuracy_score\n",
    "from sklearn import metrics\n",
    "from sklearn.metrics import plot_confusion_matrix\n",
    "\n",
    "import shap\n",
    "\n",
    "import scikitplot as skplt\n",
    "import matplotlib.pyplot as plt\n",
    "\n",
    "pd.set_option('display.max_rows', 500)\n",
    "pd.set_option('display.max_columns', 500)\n",
    "pd.set_option('display.width', 1000)"
   ]
  },
  {
   "cell_type": "code",
   "execution_count": 214,
   "metadata": {},
   "outputs": [],
   "source": [
    "train = pd.read_csv('fraudTrain.csv')"
   ]
  },
  {
   "cell_type": "code",
   "execution_count": 99,
   "metadata": {},
   "outputs": [],
   "source": [
    "def calc_distance(lat1, long1, lat2, long2):\n",
    "    R = 6373.0 # approximate radius of earth in km\n",
    "    lat1 = radians(lat1)\n",
    "    lon1 = radians(long1)\n",
    "    lat2 = radians(lat2)\n",
    "    lon2 = radians(long2)\n",
    "    dlon = lon2 - lon1\n",
    "    dlat = lat2 - lat1\n",
    "    a = sin(dlat / 2)**2 + cos(lat1) * cos(lat2) * sin(dlon / 2)**2\n",
    "    c = 2 * atan2(sqrt(a), sqrt(1 - a))\n",
    "    distance = R * c\n",
    "    return distance"
   ]
  },
  {
   "cell_type": "code",
   "execution_count": 100,
   "metadata": {},
   "outputs": [],
   "source": [
    "def get_feature_str(feature_name, target_name, df):\n",
    "    agg_df = df.groupby([feature_name,target_name], as_index=False)\\\n",
    "            .aggregate({'unix_time' : 'count'})\\\n",
    "            .rename(columns = {'unix_time': 'cnt'})\n",
    "    pivot_df = agg_df.pivot(index=feature_name, columns=target_name).fillna(0)\n",
    "    flat_df = pd.DataFrame(pivot_df.to_records())\n",
    "    flat_df.columns = [feature_name, 'target_0', 'target_1']\n",
    "    flat_df['target_share'] = flat_df['target_1'] / (flat_df['target_0'] + flat_df['target_1'])\n",
    "    flat_df.sort_values(by='target_share', ascending=False, inplace = True)\n",
    "    flat_df.columns = [feature_name, feature_name + '_target_0_cnt', feature_name + '_target_1_cnt', feature_name + '_target_share']\n",
    "    flat_df = flat_df.drop(feature_name + '_target_0_cnt', axis = 1)\n",
    "    return flat_df"
   ]
  },
  {
   "cell_type": "code",
   "execution_count": 101,
   "metadata": {},
   "outputs": [],
   "source": [
    "def preprocess_features(df):\n",
    "    print('Preprocess features: person_name, trans_hour, trans_dttm, dob, trans_week_day')\n",
    "    df['person_name'] = df['first'] + ' ' + df['last']\n",
    "    df['trans_hour'] = df['trans_date_trans_time'].str[11:13]\n",
    "    df['trans_dttm'] = pd.to_datetime(df['trans_date_trans_time'])\n",
    "    df['dob'] = pd.to_datetime(df['dob'])\n",
    "    df['dob'] = df['dob'].astype('int64') // 10**9\n",
    "    df['trans_week_day'] = df['trans_dttm'].apply(lambda x: x.strftime('%A'))\n",
    "    print('Preprocess feature: trans_coords_hex_id')\n",
    "    df['trans_coords_hex_id'] = df.apply(lambda row: h3.geo_to_h3(row[\"merch_lat\"], row[\"merch_long\"], 3), axis = 1)\n",
    "    print('Preprocess feature: person_coords_hex_id')\n",
    "    df['person_coords_hex_id'] = df.apply(lambda row: h3.geo_to_h3(row[\"lat\"], row[\"long\"], 3), axis = 1)\n",
    "    print('Preprocess feature: trans_distance')\n",
    "    df['trans_distance'] = df.apply(lambda row: calc_distance(row[\"lat\"], row[\"long\"], row[\"merch_lat\"], row[\"merch_long\"]), axis = 1)\n",
    "    return df"
   ]
  },
  {
   "cell_type": "code",
   "execution_count": 102,
   "metadata": {},
   "outputs": [],
   "source": [
    "categorical_feature_list = ['person_name', 'cc_num', 'dob', 'job', 'gender',          # person\n",
    "                            'zip', 'street', 'city', 'state', 'person_coords_hex_id', # person geo\n",
    "                            'trans_hour', 'trans_week_day', 'trans_coords_hex_id',    # transaction\n",
    "                            'merchant', 'category']                                   # merchant"
   ]
  },
  {
   "cell_type": "code",
   "execution_count": 103,
   "metadata": {},
   "outputs": [],
   "source": [
    "def convert_catorical_features_train(df_train, categorical_feature_list):\n",
    "    if len(set(df_train.columns) & set(categorical_feature_list)) < len(categorical_feature_list):\n",
    "        print('Not enough columns in df. Be shure that you run preprocess_features first')\n",
    "    for feature_name in categorical_feature_list:\n",
    "        print('Convert feature: ' + feature_name)\n",
    "        feature_str = get_feature_str(feature_name, 'is_fraud', df_train)\n",
    "        df_train = df_train.merge(feature_str, on=feature_name, how='left')\n",
    "    return df_train"
   ]
  },
  {
   "cell_type": "code",
   "execution_count": 104,
   "metadata": {},
   "outputs": [],
   "source": [
    "def convert_catorical_features_test(df_train, df_test, categorical_feature_list):\n",
    "    if len(set(df_test.columns) & set(categorical_feature_list)) < len(categorical_feature_list):\n",
    "        print('Not enough columns in df. Be shure that you run preprocess_features first')\n",
    "    for feature_name in categorical_feature_list:\n",
    "        print('Convert feature: ' + feature_name)\n",
    "        feature_str = get_feature_str(feature_name, 'is_fraud', df_train)\n",
    "        df_test = df_test.merge(feature_str, on=feature_name, how='left')\n",
    "        df_test[feature_name].fillna(df_test[feature_name].mean(skipna = True), inplace = True)\n",
    "    return df_test"
   ]
  },
  {
   "cell_type": "code",
   "execution_count": 105,
   "metadata": {},
   "outputs": [],
   "source": [
    "def one_hot_encode(df, col_name):\n",
    "    for i in list(col_name):\n",
    "        one_hot = pd.get_dummies(df[i])\n",
    "        one_hot.columns = i + '_' + one_hot.columns\n",
    "        df = df.drop(i, axis = 1)\n",
    "        df = df.join(one_hot)\n",
    "    return df"
   ]
  },
  {
   "cell_type": "code",
   "execution_count": 106,
   "metadata": {},
   "outputs": [],
   "source": [
    "def one_hot_encode_train(train_df, feature_list):\n",
    "    for i in list(feature_list):\n",
    "        one_hot = pd.get_dummies(train_df[i])\n",
    "        one_hot.columns = i + '_' + one_hot.columns\n",
    "        train_df = train_df.drop(i, axis = 1)\n",
    "        train_df = train_df.join(one_hot)\n",
    "    return train_df"
   ]
  },
  {
   "cell_type": "code",
   "execution_count": 107,
   "metadata": {},
   "outputs": [],
   "source": [
    "def one_hot_encode_test(train_df, test_df, feature_list):\n",
    "    for i in list(feature_list):\n",
    "        one_hot = pd.get_dummies(train_df[i])\n",
    "        one_hot.columns = i + '_' + one_hot.columns\n",
    "        train_df = train_df.drop(i, axis = 1)\n",
    "        train_df = train_df.join(one_hot)\n",
    "        train_df[i].fillna(value=train_df[i].mean(skipna=True), inplace=True)\n",
    "    return train_df"
   ]
  },
  {
   "cell_type": "code",
   "execution_count": 108,
   "metadata": {},
   "outputs": [
    {
     "name": "stdout",
     "output_type": "stream",
     "text": [
      "Preprocess features: person_name, trans_hour, trans_dttm, dob, trans_week_day\n",
      "Preprocess feature: trans_coords_hex_id\n",
      "Preprocess feature: person_coords_hex_id\n",
      "Preprocess feature: trans_distance\n"
     ]
    }
   ],
   "source": [
    "train_step_1 = preprocess_features(train)"
   ]
  },
  {
   "cell_type": "code",
   "execution_count": 109,
   "metadata": {},
   "outputs": [
    {
     "name": "stdout",
     "output_type": "stream",
     "text": [
      "Convert feature: person_name\n",
      "Convert feature: cc_num\n",
      "Convert feature: dob\n",
      "Convert feature: job\n",
      "Convert feature: gender\n",
      "Convert feature: zip\n",
      "Convert feature: street\n",
      "Convert feature: city\n",
      "Convert feature: state\n",
      "Convert feature: person_coords_hex_id\n",
      "Convert feature: trans_hour\n",
      "Convert feature: trans_week_day\n",
      "Convert feature: trans_coords_hex_id\n",
      "Convert feature: merchant\n",
      "Convert feature: category\n"
     ]
    }
   ],
   "source": [
    "train_step_2 = convert_catorical_features_train(train_step_1, categorical_feature_list)"
   ]
  },
  {
   "cell_type": "code",
   "execution_count": 110,
   "metadata": {},
   "outputs": [],
   "source": [
    "train_step_3 = one_hot_encode_train(train_step_2, ['gender'])"
   ]
  },
  {
   "cell_type": "code",
   "execution_count": 111,
   "metadata": {},
   "outputs": [],
   "source": [
    "cols_to_drop = ['Unnamed: 0','category', 'person_name', 'first', 'last', 'cc_num', 'dob', 'job', 'lat', 'long',                    # person\n",
    "                'zip', 'street', 'city', 'state', 'city_pop', 'person_coords_hex_id', # person geo\n",
    "                'trans_hour', 'trans_week_day', 'trans_coords_hex_id', 'trans_date_trans_time',\n",
    "                'trans_num','trans_dttm', 'unix_time', 'merch_lat', 'merch_long',# transaction\n",
    "                'merchant']\n",
    "train_step_4 = train_step_3.drop(cols_to_drop, axis = 1)"
   ]
  },
  {
   "cell_type": "markdown",
   "metadata": {},
   "source": [
    "# Learning Model"
   ]
  },
  {
   "cell_type": "code",
   "execution_count": null,
   "metadata": {},
   "outputs": [],
   "source": [
    "# Sampling\n",
    "#sample_none_fraud = train.loc[train.is_fraud == 0,:].sample(n=1000000, random_state=123)\n",
    "#sample_fraud = train.loc[train.is_fraud == 1,:].sample(n=7500, random_state=123)\n",
    "#train = sample_none_fraud.append(sample_fraud)"
   ]
  },
  {
   "cell_type": "code",
   "execution_count": 199,
   "metadata": {},
   "outputs": [],
   "source": [
    "X = train_step_4.drop('is_fraud', axis = 1)\n",
    "y = train_step_4.loc[:,'is_fraud']"
   ]
  },
  {
   "cell_type": "code",
   "execution_count": 135,
   "metadata": {},
   "outputs": [],
   "source": [
    "model = XGBClassifier()"
   ]
  },
  {
   "cell_type": "code",
   "execution_count": 136,
   "metadata": {},
   "outputs": [
    {
     "data": {
      "text/plain": [
       "XGBClassifier(base_score=0.5, booster=None, colsample_bylevel=1,\n",
       "              colsample_bynode=1, colsample_bytree=1, gamma=0, gpu_id=-1,\n",
       "              importance_type='gain', interaction_constraints=None,\n",
       "              learning_rate=0.300000012, max_delta_step=0, max_depth=6,\n",
       "              min_child_weight=1, missing=nan, monotone_constraints=None,\n",
       "              n_estimators=100, n_jobs=0, num_parallel_tree=1,\n",
       "              objective='binary:logistic', random_state=0, reg_alpha=0,\n",
       "              reg_lambda=1, scale_pos_weight=1, subsample=1, tree_method=None,\n",
       "              validate_parameters=False, verbosity=None)"
      ]
     },
     "execution_count": 136,
     "metadata": {},
     "output_type": "execute_result"
    }
   ],
   "source": [
    "model.fit(X, y)"
   ]
  },
  {
   "cell_type": "code",
   "execution_count": 137,
   "metadata": {},
   "outputs": [],
   "source": [
    "expected = y\n",
    "predicted = model.predict(X)"
   ]
  },
  {
   "cell_type": "code",
   "execution_count": 138,
   "metadata": {},
   "outputs": [
    {
     "name": "stdout",
     "output_type": "stream",
     "text": [
      "              precision    recall  f1-score   support\n",
      "\n",
      "           0       1.00      1.00      1.00   1289169\n",
      "           1       0.97      0.85      0.91      7506\n",
      "\n",
      "    accuracy                           1.00   1296675\n",
      "   macro avg       0.98      0.93      0.95   1296675\n",
      "weighted avg       1.00      1.00      1.00   1296675\n",
      "\n",
      "[[1288960     209]\n",
      " [   1089    6417]]\n"
     ]
    },
    {
     "data": {
      "text/plain": [
       "<sklearn.metrics._plot.confusion_matrix.ConfusionMatrixDisplay at 0x248928bd6c8>"
      ]
     },
     "execution_count": 138,
     "metadata": {},
     "output_type": "execute_result"
    },
    {
     "data": {
      "image/png": "[encoded data removed]",
      "text/plain": [
       "<Figure size 432x288 with 2 Axes>"
      ]
     },
     "metadata": {
      "needs_background": "light"
     },
     "output_type": "display_data"
    }
   ],
   "source": [
    "# summarize the fit of the model\n",
    "print(metrics.classification_report(expected, predicted))\n",
    "print(metrics.confusion_matrix(expected, predicted))\n",
    "plot_confusion_matrix(model, X, y)"
   ]
  },
  {
   "cell_type": "code",
   "execution_count": null,
   "metadata": {},
   "outputs": [],
   "source": [
    "y_true = y # ground truth labels\n",
    "y_probas = model.predict_proba(X) # predicted probabilities generated by sklearn classifier\n",
    "skplt.metrics.plot_roc(y_true, y_probas)\n",
    "plt.show()"
   ]
  },
  {
   "cell_type": "code",
   "execution_count": null,
   "metadata": {},
   "outputs": [],
   "source": []
  },
  {
   "cell_type": "code",
   "execution_count": null,
   "metadata": {},
   "outputs": [],
   "source": [
    "rf_shap_values = shap.KernelExplainer(predicted,X)"
   ]
  },
  {
   "cell_type": "code",
   "execution_count": null,
   "metadata": {},
   "outputs": [],
   "source": [
    "shap.summary_plot(shap_test, df, max_display=25, auto_size_plot=True)"
   ]
  },
  {
   "cell_type": "code",
   "execution_count": 160,
   "metadata": {},
   "outputs": [],
   "source": [
    "explainer = shap.TreeExplainer(model)"
   ]
  },
  {
   "cell_type": "code",
   "execution_count": 161,
   "metadata": {},
   "outputs": [],
   "source": [
    "shap_values = explainer.shap_values(X)"
   ]
  },
  {
   "cell_type": "code",
   "execution_count": 163,
   "metadata": {},
   "outputs": [
    {
     "data": {
      "image/png": "[encoded data removed]",
      "text/plain": [
       "<Figure size 576x684 with 2 Axes>"
      ]
     },
     "metadata": {
      "needs_background": "light"
     },
     "output_type": "display_data"
    }
   ],
   "source": [
    "shap.summary_plot(shap_values, X)"
   ]
  },
  {
   "cell_type": "markdown",
   "metadata": {},
   "source": [
    "значения слева от центральной вертикальной линии — это negative класс (0), справа — positive (1)\n",
    "чем толще линия на графике, тем больше таких точек наблюдения\n",
    "чем краснее точки на графике, тем выше значения фичи в ней"
   ]
  },
  {
   "cell_type": "code",
   "execution_count": null,
   "metadata": {},
   "outputs": [],
   "source": [
    "#data_tuples = list(zip(y_true,list(y_probas[:,1])))"
   ]
  },
  {
   "cell_type": "code",
   "execution_count": null,
   "metadata": {},
   "outputs": [],
   "source": [
    "#compare = pd.DataFrame(data_tuples, columns=['y_true','y_probas'])"
   ]
  },
  {
   "cell_type": "code",
   "execution_count": null,
   "metadata": {},
   "outputs": [],
   "source": [
    "#compare.loc[compare['y_true']==1,:].head(40)"
   ]
  },
  {
   "cell_type": "code",
   "execution_count": null,
   "metadata": {},
   "outputs": [],
   "source": [
    "#compare.loc[(compare['y_true']==0) & (compare['y_probas'] > 0.5),:].shape"
   ]
  },
  {
   "cell_type": "code",
   "execution_count": null,
   "metadata": {},
   "outputs": [],
   "source": [
    "#compare.loc[(compare['y_true']==0) & (compare['y_probas'] > 0.2),:].shape"
   ]
  },
  {
   "cell_type": "markdown",
   "metadata": {},
   "source": [
    "# Test Model"
   ]
  },
  {
   "cell_type": "code",
   "execution_count": 139,
   "metadata": {},
   "outputs": [],
   "source": [
    "test = pd.read_csv('fraudTest.csv')"
   ]
  },
  {
   "cell_type": "code",
   "execution_count": 140,
   "metadata": {},
   "outputs": [],
   "source": [
    "#test = test.head(10000)"
   ]
  },
  {
   "cell_type": "code",
   "execution_count": 141,
   "metadata": {},
   "outputs": [
    {
     "name": "stdout",
     "output_type": "stream",
     "text": [
      "Preprocess features: person_name, trans_hour, trans_dttm, dob, trans_week_day\n",
      "Preprocess feature: trans_coords_hex_id\n",
      "Preprocess feature: person_coords_hex_id\n",
      "Preprocess feature: trans_distance\n"
     ]
    }
   ],
   "source": [
    "test_step_1 = preprocess_features(test)"
   ]
  },
  {
   "cell_type": "code",
   "execution_count": 142,
   "metadata": {},
   "outputs": [
    {
     "data": {
      "text/html": [
       "<div>\n",
       "<style scoped>\n",
       "    .dataframe tbody tr th:only-of-type {\n",
       "        vertical-align: middle;\n",
       "    }\n",
       "\n",
       "    .dataframe tbody tr th {\n",
       "        vertical-align: top;\n",
       "    }\n",
       "\n",
       "    .dataframe thead th {\n",
       "        text-align: right;\n",
       "    }\n",
       "</style>\n",
       "<table border=\"1\" class=\"dataframe\">\n",
       "  <thead>\n",
       "    <tr style=\"text-align: right;\">\n",
       "      <th></th>\n",
       "      <th>Unnamed: 0</th>\n",
       "      <th>trans_date_trans_time</th>\n",
       "      <th>cc_num</th>\n",
       "      <th>merchant</th>\n",
       "      <th>category</th>\n",
       "      <th>amt</th>\n",
       "      <th>first</th>\n",
       "      <th>last</th>\n",
       "      <th>gender</th>\n",
       "      <th>street</th>\n",
       "      <th>city</th>\n",
       "      <th>state</th>\n",
       "      <th>zip</th>\n",
       "      <th>lat</th>\n",
       "      <th>long</th>\n",
       "      <th>city_pop</th>\n",
       "      <th>job</th>\n",
       "      <th>dob</th>\n",
       "      <th>trans_num</th>\n",
       "      <th>unix_time</th>\n",
       "      <th>merch_lat</th>\n",
       "      <th>merch_long</th>\n",
       "      <th>is_fraud</th>\n",
       "      <th>person_name</th>\n",
       "      <th>trans_hour</th>\n",
       "      <th>trans_dttm</th>\n",
       "      <th>trans_week_day</th>\n",
       "      <th>trans_coords_hex_id</th>\n",
       "      <th>person_coords_hex_id</th>\n",
       "      <th>trans_distance</th>\n",
       "    </tr>\n",
       "  </thead>\n",
       "  <tbody>\n",
       "    <tr>\n",
       "      <th>0</th>\n",
       "      <td>0</td>\n",
       "      <td>2020-06-21 12:14:25</td>\n",
       "      <td>2291163933867244</td>\n",
       "      <td>fraud_Kirlin and Sons</td>\n",
       "      <td>personal_care</td>\n",
       "      <td>2.86</td>\n",
       "      <td>Jeff</td>\n",
       "      <td>Elliott</td>\n",
       "      <td>M</td>\n",
       "      <td>351 Darlene Green</td>\n",
       "      <td>Columbia</td>\n",
       "      <td>SC</td>\n",
       "      <td>29209</td>\n",
       "      <td>33.9659</td>\n",
       "      <td>-80.9355</td>\n",
       "      <td>333497</td>\n",
       "      <td>Mechanical engineer</td>\n",
       "      <td>-56419200</td>\n",
       "      <td>2da90c7d74bd46a0caf3777415b3ebd3</td>\n",
       "      <td>1371816865</td>\n",
       "      <td>33.986391</td>\n",
       "      <td>-81.200714</td>\n",
       "      <td>0</td>\n",
       "      <td>Jeff Elliott</td>\n",
       "      <td>12</td>\n",
       "      <td>2020-06-21 12:14:25</td>\n",
       "      <td>Sunday</td>\n",
       "      <td>8344dcfffffffff</td>\n",
       "      <td>8344defffffffff</td>\n",
       "      <td>24.569172</td>\n",
       "    </tr>\n",
       "    <tr>\n",
       "      <th>1</th>\n",
       "      <td>1</td>\n",
       "      <td>2020-06-21 12:14:33</td>\n",
       "      <td>3573030041201292</td>\n",
       "      <td>fraud_Sporer-Keebler</td>\n",
       "      <td>personal_care</td>\n",
       "      <td>29.84</td>\n",
       "      <td>Joanne</td>\n",
       "      <td>Williams</td>\n",
       "      <td>F</td>\n",
       "      <td>3638 Marsh Union</td>\n",
       "      <td>Altonah</td>\n",
       "      <td>UT</td>\n",
       "      <td>84002</td>\n",
       "      <td>40.3207</td>\n",
       "      <td>-110.4360</td>\n",
       "      <td>302</td>\n",
       "      <td>Sales professional, IT</td>\n",
       "      <td>632534400</td>\n",
       "      <td>324cc204407e99f51b0d6ca0055005e7</td>\n",
       "      <td>1371816873</td>\n",
       "      <td>39.450498</td>\n",
       "      <td>-109.960431</td>\n",
       "      <td>0</td>\n",
       "      <td>Joanne Williams</td>\n",
       "      <td>12</td>\n",
       "      <td>2020-06-21 12:14:33</td>\n",
       "      <td>Sunday</td>\n",
       "      <td>832691fffffffff</td>\n",
       "      <td>832690fffffffff</td>\n",
       "      <td>104.958031</td>\n",
       "    </tr>\n",
       "    <tr>\n",
       "      <th>2</th>\n",
       "      <td>2</td>\n",
       "      <td>2020-06-21 12:14:53</td>\n",
       "      <td>3598215285024754</td>\n",
       "      <td>fraud_Swaniawski, Nitzsche and Welch</td>\n",
       "      <td>health_fitness</td>\n",
       "      <td>41.28</td>\n",
       "      <td>Ashley</td>\n",
       "      <td>Lopez</td>\n",
       "      <td>F</td>\n",
       "      <td>9333 Valentine Point</td>\n",
       "      <td>Bellmore</td>\n",
       "      <td>NY</td>\n",
       "      <td>11710</td>\n",
       "      <td>40.6729</td>\n",
       "      <td>-73.5365</td>\n",
       "      <td>34496</td>\n",
       "      <td>Librarian, public</td>\n",
       "      <td>25315200</td>\n",
       "      <td>c81755dbbbea9d5c77f094348a7579be</td>\n",
       "      <td>1371816893</td>\n",
       "      <td>40.495810</td>\n",
       "      <td>-74.196111</td>\n",
       "      <td>0</td>\n",
       "      <td>Ashley Lopez</td>\n",
       "      <td>12</td>\n",
       "      <td>2020-06-21 12:14:53</td>\n",
       "      <td>Sunday</td>\n",
       "      <td>832a10fffffffff</td>\n",
       "      <td>832a10fffffffff</td>\n",
       "      <td>59.098624</td>\n",
       "    </tr>\n",
       "    <tr>\n",
       "      <th>3</th>\n",
       "      <td>3</td>\n",
       "      <td>2020-06-21 12:15:15</td>\n",
       "      <td>3591919803438423</td>\n",
       "      <td>fraud_Haley Group</td>\n",
       "      <td>misc_pos</td>\n",
       "      <td>60.05</td>\n",
       "      <td>Brian</td>\n",
       "      <td>Williams</td>\n",
       "      <td>M</td>\n",
       "      <td>32941 Krystal Mill Apt. 552</td>\n",
       "      <td>Titusville</td>\n",
       "      <td>FL</td>\n",
       "      <td>32780</td>\n",
       "      <td>28.5697</td>\n",
       "      <td>-80.8191</td>\n",
       "      <td>54767</td>\n",
       "      <td>Set designer</td>\n",
       "      <td>554169600</td>\n",
       "      <td>2159175b9efe66dc301f149d3d5abf8c</td>\n",
       "      <td>1371816915</td>\n",
       "      <td>28.812398</td>\n",
       "      <td>-80.883061</td>\n",
       "      <td>0</td>\n",
       "      <td>Brian Williams</td>\n",
       "      <td>12</td>\n",
       "      <td>2020-06-21 12:15:15</td>\n",
       "      <td>Sunday</td>\n",
       "      <td>8344a9fffffffff</td>\n",
       "      <td>8344a9fffffffff</td>\n",
       "      <td>27.707262</td>\n",
       "    </tr>\n",
       "    <tr>\n",
       "      <th>4</th>\n",
       "      <td>4</td>\n",
       "      <td>2020-06-21 12:15:17</td>\n",
       "      <td>3526826139003047</td>\n",
       "      <td>fraud_Johnston-Casper</td>\n",
       "      <td>travel</td>\n",
       "      <td>3.19</td>\n",
       "      <td>Nathan</td>\n",
       "      <td>Massey</td>\n",
       "      <td>M</td>\n",
       "      <td>5783 Evan Roads Apt. 465</td>\n",
       "      <td>Falmouth</td>\n",
       "      <td>MI</td>\n",
       "      <td>49632</td>\n",
       "      <td>44.2529</td>\n",
       "      <td>-85.0170</td>\n",
       "      <td>1126</td>\n",
       "      <td>Furniture designer</td>\n",
       "      <td>-457315200</td>\n",
       "      <td>57ff021bd3f328f8738bb535c302a31b</td>\n",
       "      <td>1371816917</td>\n",
       "      <td>44.959148</td>\n",
       "      <td>-85.884734</td>\n",
       "      <td>0</td>\n",
       "      <td>Nathan Massey</td>\n",
       "      <td>12</td>\n",
       "      <td>2020-06-21 12:15:17</td>\n",
       "      <td>Sunday</td>\n",
       "      <td>832741fffffffff</td>\n",
       "      <td>83274cfffffffff</td>\n",
       "      <td>104.367859</td>\n",
       "    </tr>\n",
       "  </tbody>\n",
       "</table>\n",
       "</div>"
      ],
      "text/plain": [
       "   Unnamed: 0 trans_date_trans_time            cc_num                              merchant        category    amt   first      last gender                       street        city state    zip      lat      long  city_pop                     job        dob                         trans_num   unix_time  merch_lat  merch_long  is_fraud      person_name trans_hour          trans_dttm trans_week_day trans_coords_hex_id person_coords_hex_id  trans_distance\n",
       "0           0   2020-06-21 12:14:25  2291163933867244                 fraud_Kirlin and Sons   personal_care   2.86    Jeff   Elliott      M            351 Darlene Green    Columbia    SC  29209  33.9659  -80.9355    333497     Mechanical engineer  -56419200  2da90c7d74bd46a0caf3777415b3ebd3  1371816865  33.986391  -81.200714         0     Jeff Elliott         12 2020-06-21 12:14:25         Sunday     8344dcfffffffff      8344defffffffff       24.569172\n",
       "1           1   2020-06-21 12:14:33  3573030041201292                  fraud_Sporer-Keebler   personal_care  29.84  Joanne  Williams      F             3638 Marsh Union     Altonah    UT  84002  40.3207 -110.4360       302  Sales professional, IT  632534400  324cc204407e99f51b0d6ca0055005e7  1371816873  39.450498 -109.960431         0  Joanne Williams         12 2020-06-21 12:14:33         Sunday     832691fffffffff      832690fffffffff      104.958031\n",
       "2           2   2020-06-21 12:14:53  3598215285024754  fraud_Swaniawski, Nitzsche and Welch  health_fitness  41.28  Ashley     Lopez      F         9333 Valentine Point    Bellmore    NY  11710  40.6729  -73.5365     34496       Librarian, public   25315200  c81755dbbbea9d5c77f094348a7579be  1371816893  40.495810  -74.196111         0     Ashley Lopez         12 2020-06-21 12:14:53         Sunday     832a10fffffffff      832a10fffffffff       59.098624\n",
       "3           3   2020-06-21 12:15:15  3591919803438423                     fraud_Haley Group        misc_pos  60.05   Brian  Williams      M  32941 Krystal Mill Apt. 552  Titusville    FL  32780  28.5697  -80.8191     54767            Set designer  554169600  2159175b9efe66dc301f149d3d5abf8c  1371816915  28.812398  -80.883061         0   Brian Williams         12 2020-06-21 12:15:15         Sunday     8344a9fffffffff      8344a9fffffffff       27.707262\n",
       "4           4   2020-06-21 12:15:17  3526826139003047                 fraud_Johnston-Casper          travel   3.19  Nathan    Massey      M     5783 Evan Roads Apt. 465    Falmouth    MI  49632  44.2529  -85.0170      1126      Furniture designer -457315200  57ff021bd3f328f8738bb535c302a31b  1371816917  44.959148  -85.884734         0    Nathan Massey         12 2020-06-21 12:15:17         Sunday     832741fffffffff      83274cfffffffff      104.367859"
      ]
     },
     "execution_count": 142,
     "metadata": {},
     "output_type": "execute_result"
    }
   ],
   "source": [
    "test_step_1.head()"
   ]
  },
  {
   "cell_type": "code",
   "execution_count": 20,
   "metadata": {},
   "outputs": [],
   "source": [
    "#categorical_feature_list = ['person_name']"
   ]
  },
  {
   "cell_type": "code",
   "execution_count": 248,
   "metadata": {},
   "outputs": [],
   "source": [
    "def convert_catorical_features_test(df_train, df_test, categorical_feature_list):\n",
    "    if len(set(df_test.columns) & set(categorical_feature_list)) < len(categorical_feature_list):\n",
    "        print('Not enough columns in df. Be shure that you run preprocess_features first')\n",
    "    for feature_name in categorical_feature_list:\n",
    "        print('Convert feature: ' + feature_name)\n",
    "        #print('get feature str: ' + feature_name)\n",
    "        feature_str = get_feature_str(feature_name, 'is_fraud', df_train)\n",
    "        #print('merge feature str: ' + feature_name)\n",
    "        df_test = df_test.merge(feature_str, on=feature_name, how='left')\n",
    "        #print(feature_str[feature_name + '_target_1_cnt'].mean(skipna = True))\n",
    "        #print(feature_str[feature_name + '_target_1_cnt'])\n",
    "        #print(feature_str[feature_name + '_target_1_cnt'].describe())\n",
    "#        print('fill na values: ' + feature_name)\n",
    "#        df_test[feature_name].fillna(feature_str[feature_name + '_target_1_cnt'].mean(skipna = True), inplace = True)\n",
    "        df_test[feature_name + '_target_1_cnt'].fillna(0, inplace = True)\n",
    "        df_test[feature_name + '_target_share'].fillna(0, inplace = True)\n",
    "#        df_test[feature_name].fillna(0, inplace = True)\n",
    "#    return feature_str\n",
    "    return df_test"
   ]
  },
  {
   "cell_type": "code",
   "execution_count": 115,
   "metadata": {},
   "outputs": [],
   "source": [
    "#person_name_target_share"
   ]
  },
  {
   "cell_type": "code",
   "execution_count": 144,
   "metadata": {},
   "outputs": [
    {
     "name": "stdout",
     "output_type": "stream",
     "text": [
      "Convert feature: person_name\n",
      "Convert feature: cc_num\n",
      "Convert feature: dob\n",
      "Convert feature: job\n",
      "Convert feature: gender\n",
      "Convert feature: zip\n",
      "Convert feature: street\n",
      "Convert feature: city\n",
      "Convert feature: state\n",
      "Convert feature: person_coords_hex_id\n",
      "Convert feature: trans_hour\n",
      "Convert feature: trans_week_day\n",
      "Convert feature: trans_coords_hex_id\n",
      "Convert feature: merchant\n",
      "Convert feature: category\n",
      "Wall time: 18.4 s\n"
     ]
    }
   ],
   "source": [
    "%%time\n",
    "test_step_2 = convert_catorical_features_test(df_train = train_step_1, df_test = test_step_1, categorical_feature_list = categorical_feature_list)"
   ]
  },
  {
   "cell_type": "code",
   "execution_count": 145,
   "metadata": {},
   "outputs": [
    {
     "data": {
      "text/plain": [
       "(555719, 60)"
      ]
     },
     "execution_count": 145,
     "metadata": {},
     "output_type": "execute_result"
    }
   ],
   "source": [
    "test_step_2.shape"
   ]
  },
  {
   "cell_type": "code",
   "execution_count": 146,
   "metadata": {},
   "outputs": [],
   "source": [
    "test_step_3 = one_hot_encode(test_step_2, ['gender'])"
   ]
  },
  {
   "cell_type": "code",
   "execution_count": 147,
   "metadata": {},
   "outputs": [
    {
     "data": {
      "text/html": [
       "<div>\n",
       "<style scoped>\n",
       "    .dataframe tbody tr th:only-of-type {\n",
       "        vertical-align: middle;\n",
       "    }\n",
       "\n",
       "    .dataframe tbody tr th {\n",
       "        vertical-align: top;\n",
       "    }\n",
       "\n",
       "    .dataframe thead th {\n",
       "        text-align: right;\n",
       "    }\n",
       "</style>\n",
       "<table border=\"1\" class=\"dataframe\">\n",
       "  <thead>\n",
       "    <tr style=\"text-align: right;\">\n",
       "      <th></th>\n",
       "      <th>Unnamed: 0</th>\n",
       "      <th>trans_date_trans_time</th>\n",
       "      <th>cc_num</th>\n",
       "      <th>merchant</th>\n",
       "      <th>category</th>\n",
       "      <th>amt</th>\n",
       "      <th>first</th>\n",
       "      <th>last</th>\n",
       "      <th>street</th>\n",
       "      <th>city</th>\n",
       "      <th>state</th>\n",
       "      <th>zip</th>\n",
       "      <th>lat</th>\n",
       "      <th>long</th>\n",
       "      <th>city_pop</th>\n",
       "      <th>job</th>\n",
       "      <th>dob</th>\n",
       "      <th>trans_num</th>\n",
       "      <th>unix_time</th>\n",
       "      <th>merch_lat</th>\n",
       "      <th>merch_long</th>\n",
       "      <th>is_fraud</th>\n",
       "      <th>person_name</th>\n",
       "      <th>trans_hour</th>\n",
       "      <th>trans_dttm</th>\n",
       "      <th>trans_week_day</th>\n",
       "      <th>trans_coords_hex_id</th>\n",
       "      <th>person_coords_hex_id</th>\n",
       "      <th>trans_distance</th>\n",
       "      <th>person_name_target_1_cnt</th>\n",
       "      <th>person_name_target_share</th>\n",
       "      <th>cc_num_target_1_cnt</th>\n",
       "      <th>cc_num_target_share</th>\n",
       "      <th>dob_target_1_cnt</th>\n",
       "      <th>dob_target_share</th>\n",
       "      <th>job_target_1_cnt</th>\n",
       "      <th>job_target_share</th>\n",
       "      <th>gender_target_1_cnt</th>\n",
       "      <th>gender_target_share</th>\n",
       "      <th>zip_target_1_cnt</th>\n",
       "      <th>zip_target_share</th>\n",
       "      <th>street_target_1_cnt</th>\n",
       "      <th>street_target_share</th>\n",
       "      <th>city_target_1_cnt</th>\n",
       "      <th>city_target_share</th>\n",
       "      <th>state_target_1_cnt</th>\n",
       "      <th>state_target_share</th>\n",
       "      <th>person_coords_hex_id_target_1_cnt</th>\n",
       "      <th>person_coords_hex_id_target_share</th>\n",
       "      <th>trans_hour_target_1_cnt</th>\n",
       "      <th>trans_hour_target_share</th>\n",
       "      <th>trans_week_day_target_1_cnt</th>\n",
       "      <th>trans_week_day_target_share</th>\n",
       "      <th>trans_coords_hex_id_target_1_cnt</th>\n",
       "      <th>trans_coords_hex_id_target_share</th>\n",
       "      <th>merchant_target_1_cnt</th>\n",
       "      <th>merchant_target_share</th>\n",
       "      <th>category_target_1_cnt</th>\n",
       "      <th>category_target_share</th>\n",
       "      <th>gender_F</th>\n",
       "      <th>gender_M</th>\n",
       "    </tr>\n",
       "  </thead>\n",
       "  <tbody>\n",
       "    <tr>\n",
       "      <th>0</th>\n",
       "      <td>0</td>\n",
       "      <td>2020-06-21 12:14:25</td>\n",
       "      <td>2291163933867244</td>\n",
       "      <td>fraud_Kirlin and Sons</td>\n",
       "      <td>personal_care</td>\n",
       "      <td>2.86</td>\n",
       "      <td>Jeff</td>\n",
       "      <td>Elliott</td>\n",
       "      <td>351 Darlene Green</td>\n",
       "      <td>Columbia</td>\n",
       "      <td>SC</td>\n",
       "      <td>29209</td>\n",
       "      <td>33.9659</td>\n",
       "      <td>-80.9355</td>\n",
       "      <td>333497</td>\n",
       "      <td>Mechanical engineer</td>\n",
       "      <td>-56419200</td>\n",
       "      <td>2da90c7d74bd46a0caf3777415b3ebd3</td>\n",
       "      <td>1371816865</td>\n",
       "      <td>33.986391</td>\n",
       "      <td>-81.200714</td>\n",
       "      <td>0</td>\n",
       "      <td>Jeff Elliott</td>\n",
       "      <td>12</td>\n",
       "      <td>2020-06-21 12:14:25</td>\n",
       "      <td>Sunday</td>\n",
       "      <td>8344dcfffffffff</td>\n",
       "      <td>8344defffffffff</td>\n",
       "      <td>24.569172</td>\n",
       "      <td>12.0</td>\n",
       "      <td>0.007687</td>\n",
       "      <td>12.0</td>\n",
       "      <td>0.007687</td>\n",
       "      <td>12.0</td>\n",
       "      <td>0.007687</td>\n",
       "      <td>49.0</td>\n",
       "      <td>0.008700</td>\n",
       "      <td>3771</td>\n",
       "      <td>0.006426</td>\n",
       "      <td>12.0</td>\n",
       "      <td>0.007687</td>\n",
       "      <td>12.0</td>\n",
       "      <td>0.007687</td>\n",
       "      <td>12.0</td>\n",
       "      <td>0.007687</td>\n",
       "      <td>193.0</td>\n",
       "      <td>0.006612</td>\n",
       "      <td>41.0</td>\n",
       "      <td>0.011323</td>\n",
       "      <td>67</td>\n",
       "      <td>0.001027</td>\n",
       "      <td>1216</td>\n",
       "      <td>0.004853</td>\n",
       "      <td>30.0</td>\n",
       "      <td>0.006392</td>\n",
       "      <td>2.0</td>\n",
       "      <td>0.001101</td>\n",
       "      <td>220</td>\n",
       "      <td>0.002424</td>\n",
       "      <td>0</td>\n",
       "      <td>1</td>\n",
       "    </tr>\n",
       "    <tr>\n",
       "      <th>1</th>\n",
       "      <td>1</td>\n",
       "      <td>2020-06-21 12:14:33</td>\n",
       "      <td>3573030041201292</td>\n",
       "      <td>fraud_Sporer-Keebler</td>\n",
       "      <td>personal_care</td>\n",
       "      <td>29.84</td>\n",
       "      <td>Joanne</td>\n",
       "      <td>Williams</td>\n",
       "      <td>3638 Marsh Union</td>\n",
       "      <td>Altonah</td>\n",
       "      <td>UT</td>\n",
       "      <td>84002</td>\n",
       "      <td>40.3207</td>\n",
       "      <td>-110.4360</td>\n",
       "      <td>302</td>\n",
       "      <td>Sales professional, IT</td>\n",
       "      <td>632534400</td>\n",
       "      <td>324cc204407e99f51b0d6ca0055005e7</td>\n",
       "      <td>1371816873</td>\n",
       "      <td>39.450498</td>\n",
       "      <td>-109.960431</td>\n",
       "      <td>0</td>\n",
       "      <td>Joanne Williams</td>\n",
       "      <td>12</td>\n",
       "      <td>2020-06-21 12:14:33</td>\n",
       "      <td>Sunday</td>\n",
       "      <td>832691fffffffff</td>\n",
       "      <td>832690fffffffff</td>\n",
       "      <td>104.958031</td>\n",
       "      <td>14.0</td>\n",
       "      <td>0.006702</td>\n",
       "      <td>14.0</td>\n",
       "      <td>0.006702</td>\n",
       "      <td>14.0</td>\n",
       "      <td>0.006702</td>\n",
       "      <td>38.0</td>\n",
       "      <td>0.006888</td>\n",
       "      <td>3735</td>\n",
       "      <td>0.005262</td>\n",
       "      <td>14.0</td>\n",
       "      <td>0.006702</td>\n",
       "      <td>14.0</td>\n",
       "      <td>0.006702</td>\n",
       "      <td>14.0</td>\n",
       "      <td>0.006702</td>\n",
       "      <td>61.0</td>\n",
       "      <td>0.005701</td>\n",
       "      <td>14.0</td>\n",
       "      <td>0.006702</td>\n",
       "      <td>67</td>\n",
       "      <td>0.001027</td>\n",
       "      <td>1216</td>\n",
       "      <td>0.004853</td>\n",
       "      <td>10.0</td>\n",
       "      <td>0.006180</td>\n",
       "      <td>5.0</td>\n",
       "      <td>0.002740</td>\n",
       "      <td>220</td>\n",
       "      <td>0.002424</td>\n",
       "      <td>1</td>\n",
       "      <td>0</td>\n",
       "    </tr>\n",
       "    <tr>\n",
       "      <th>2</th>\n",
       "      <td>2</td>\n",
       "      <td>2020-06-21 12:14:53</td>\n",
       "      <td>3598215285024754</td>\n",
       "      <td>fraud_Swaniawski, Nitzsche and Welch</td>\n",
       "      <td>health_fitness</td>\n",
       "      <td>41.28</td>\n",
       "      <td>Ashley</td>\n",
       "      <td>Lopez</td>\n",
       "      <td>9333 Valentine Point</td>\n",
       "      <td>Bellmore</td>\n",
       "      <td>NY</td>\n",
       "      <td>11710</td>\n",
       "      <td>40.6729</td>\n",
       "      <td>-73.5365</td>\n",
       "      <td>34496</td>\n",
       "      <td>Librarian, public</td>\n",
       "      <td>25315200</td>\n",
       "      <td>c81755dbbbea9d5c77f094348a7579be</td>\n",
       "      <td>1371816893</td>\n",
       "      <td>40.495810</td>\n",
       "      <td>-74.196111</td>\n",
       "      <td>0</td>\n",
       "      <td>Ashley Lopez</td>\n",
       "      <td>12</td>\n",
       "      <td>2020-06-21 12:14:53</td>\n",
       "      <td>Sunday</td>\n",
       "      <td>832a10fffffffff</td>\n",
       "      <td>832a10fffffffff</td>\n",
       "      <td>59.098624</td>\n",
       "      <td>7.0</td>\n",
       "      <td>0.002716</td>\n",
       "      <td>7.0</td>\n",
       "      <td>0.002716</td>\n",
       "      <td>7.0</td>\n",
       "      <td>0.002716</td>\n",
       "      <td>18.0</td>\n",
       "      <td>0.002910</td>\n",
       "      <td>3735</td>\n",
       "      <td>0.005262</td>\n",
       "      <td>7.0</td>\n",
       "      <td>0.002716</td>\n",
       "      <td>7.0</td>\n",
       "      <td>0.002716</td>\n",
       "      <td>7.0</td>\n",
       "      <td>0.002716</td>\n",
       "      <td>555.0</td>\n",
       "      <td>0.006647</td>\n",
       "      <td>216.0</td>\n",
       "      <td>0.006779</td>\n",
       "      <td>67</td>\n",
       "      <td>0.001027</td>\n",
       "      <td>1216</td>\n",
       "      <td>0.004853</td>\n",
       "      <td>110.0</td>\n",
       "      <td>0.007063</td>\n",
       "      <td>2.0</td>\n",
       "      <td>0.001166</td>\n",
       "      <td>133</td>\n",
       "      <td>0.001549</td>\n",
       "      <td>1</td>\n",
       "      <td>0</td>\n",
       "    </tr>\n",
       "    <tr>\n",
       "      <th>3</th>\n",
       "      <td>3</td>\n",
       "      <td>2020-06-21 12:15:15</td>\n",
       "      <td>3591919803438423</td>\n",
       "      <td>fraud_Haley Group</td>\n",
       "      <td>misc_pos</td>\n",
       "      <td>60.05</td>\n",
       "      <td>Brian</td>\n",
       "      <td>Williams</td>\n",
       "      <td>32941 Krystal Mill Apt. 552</td>\n",
       "      <td>Titusville</td>\n",
       "      <td>FL</td>\n",
       "      <td>32780</td>\n",
       "      <td>28.5697</td>\n",
       "      <td>-80.8191</td>\n",
       "      <td>54767</td>\n",
       "      <td>Set designer</td>\n",
       "      <td>554169600</td>\n",
       "      <td>2159175b9efe66dc301f149d3d5abf8c</td>\n",
       "      <td>1371816915</td>\n",
       "      <td>28.812398</td>\n",
       "      <td>-80.883061</td>\n",
       "      <td>0</td>\n",
       "      <td>Brian Williams</td>\n",
       "      <td>12</td>\n",
       "      <td>2020-06-21 12:15:15</td>\n",
       "      <td>Sunday</td>\n",
       "      <td>8344a9fffffffff</td>\n",
       "      <td>8344a9fffffffff</td>\n",
       "      <td>27.707262</td>\n",
       "      <td>0.0</td>\n",
       "      <td>0.000000</td>\n",
       "      <td>0.0</td>\n",
       "      <td>0.000000</td>\n",
       "      <td>0.0</td>\n",
       "      <td>0.000000</td>\n",
       "      <td>19.0</td>\n",
       "      <td>0.012298</td>\n",
       "      <td>3771</td>\n",
       "      <td>0.006426</td>\n",
       "      <td>0.0</td>\n",
       "      <td>0.000000</td>\n",
       "      <td>0.0</td>\n",
       "      <td>0.000000</td>\n",
       "      <td>0.0</td>\n",
       "      <td>0.000000</td>\n",
       "      <td>281.0</td>\n",
       "      <td>0.006585</td>\n",
       "      <td>10.0</td>\n",
       "      <td>0.002810</td>\n",
       "      <td>67</td>\n",
       "      <td>0.001027</td>\n",
       "      <td>1216</td>\n",
       "      <td>0.004853</td>\n",
       "      <td>20.0</td>\n",
       "      <td>0.005884</td>\n",
       "      <td>7.0</td>\n",
       "      <td>0.004297</td>\n",
       "      <td>250</td>\n",
       "      <td>0.003139</td>\n",
       "      <td>0</td>\n",
       "      <td>1</td>\n",
       "    </tr>\n",
       "    <tr>\n",
       "      <th>4</th>\n",
       "      <td>4</td>\n",
       "      <td>2020-06-21 12:15:17</td>\n",
       "      <td>3526826139003047</td>\n",
       "      <td>fraud_Johnston-Casper</td>\n",
       "      <td>travel</td>\n",
       "      <td>3.19</td>\n",
       "      <td>Nathan</td>\n",
       "      <td>Massey</td>\n",
       "      <td>5783 Evan Roads Apt. 465</td>\n",
       "      <td>Falmouth</td>\n",
       "      <td>MI</td>\n",
       "      <td>49632</td>\n",
       "      <td>44.2529</td>\n",
       "      <td>-85.0170</td>\n",
       "      <td>1126</td>\n",
       "      <td>Furniture designer</td>\n",
       "      <td>-457315200</td>\n",
       "      <td>57ff021bd3f328f8738bb535c302a31b</td>\n",
       "      <td>1371816917</td>\n",
       "      <td>44.959148</td>\n",
       "      <td>-85.884734</td>\n",
       "      <td>0</td>\n",
       "      <td>Nathan Massey</td>\n",
       "      <td>12</td>\n",
       "      <td>2020-06-21 12:15:17</td>\n",
       "      <td>Sunday</td>\n",
       "      <td>832741fffffffff</td>\n",
       "      <td>83274cfffffffff</td>\n",
       "      <td>104.367859</td>\n",
       "      <td>11.0</td>\n",
       "      <td>0.005408</td>\n",
       "      <td>11.0</td>\n",
       "      <td>0.005408</td>\n",
       "      <td>11.0</td>\n",
       "      <td>0.005408</td>\n",
       "      <td>20.0</td>\n",
       "      <td>0.009790</td>\n",
       "      <td>3771</td>\n",
       "      <td>0.006426</td>\n",
       "      <td>11.0</td>\n",
       "      <td>0.005408</td>\n",
       "      <td>11.0</td>\n",
       "      <td>0.005408</td>\n",
       "      <td>11.0</td>\n",
       "      <td>0.005408</td>\n",
       "      <td>238.0</td>\n",
       "      <td>0.005157</td>\n",
       "      <td>19.0</td>\n",
       "      <td>0.006203</td>\n",
       "      <td>67</td>\n",
       "      <td>0.001027</td>\n",
       "      <td>1216</td>\n",
       "      <td>0.004853</td>\n",
       "      <td>11.0</td>\n",
       "      <td>0.003421</td>\n",
       "      <td>1.0</td>\n",
       "      <td>0.001203</td>\n",
       "      <td>116</td>\n",
       "      <td>0.002864</td>\n",
       "      <td>0</td>\n",
       "      <td>1</td>\n",
       "    </tr>\n",
       "  </tbody>\n",
       "</table>\n",
       "</div>"
      ],
      "text/plain": [
       "   Unnamed: 0 trans_date_trans_time            cc_num                              merchant        category    amt   first      last                       street        city state    zip      lat      long  city_pop                     job        dob                         trans_num   unix_time  merch_lat  merch_long  is_fraud      person_name trans_hour          trans_dttm trans_week_day trans_coords_hex_id person_coords_hex_id  trans_distance  person_name_target_1_cnt  person_name_target_share  cc_num_target_1_cnt  cc_num_target_share  dob_target_1_cnt  dob_target_share  job_target_1_cnt  job_target_share  gender_target_1_cnt  gender_target_share  zip_target_1_cnt  zip_target_share  street_target_1_cnt  street_target_share  city_target_1_cnt  city_target_share  state_target_1_cnt  state_target_share  person_coords_hex_id_target_1_cnt  person_coords_hex_id_target_share  trans_hour_target_1_cnt  trans_hour_target_share  trans_week_day_target_1_cnt  trans_week_day_target_share  \\\n",
       "0           0   2020-06-21 12:14:25  2291163933867244                 fraud_Kirlin and Sons   personal_care   2.86    Jeff   Elliott            351 Darlene Green    Columbia    SC  29209  33.9659  -80.9355    333497     Mechanical engineer  -56419200  2da90c7d74bd46a0caf3777415b3ebd3  1371816865  33.986391  -81.200714         0     Jeff Elliott         12 2020-06-21 12:14:25         Sunday     8344dcfffffffff      8344defffffffff       24.569172                      12.0                  0.007687                 12.0             0.007687              12.0          0.007687              49.0          0.008700                 3771             0.006426              12.0          0.007687                 12.0             0.007687               12.0           0.007687               193.0            0.006612                               41.0                           0.011323                       67                 0.001027                         1216                     0.004853   \n",
       "1           1   2020-06-21 12:14:33  3573030041201292                  fraud_Sporer-Keebler   personal_care  29.84  Joanne  Williams             3638 Marsh Union     Altonah    UT  84002  40.3207 -110.4360       302  Sales professional, IT  632534400  324cc204407e99f51b0d6ca0055005e7  1371816873  39.450498 -109.960431         0  Joanne Williams         12 2020-06-21 12:14:33         Sunday     832691fffffffff      832690fffffffff      104.958031                      14.0                  0.006702                 14.0             0.006702              14.0          0.006702              38.0          0.006888                 3735             0.005262              14.0          0.006702                 14.0             0.006702               14.0           0.006702                61.0            0.005701                               14.0                           0.006702                       67                 0.001027                         1216                     0.004853   \n",
       "2           2   2020-06-21 12:14:53  3598215285024754  fraud_Swaniawski, Nitzsche and Welch  health_fitness  41.28  Ashley     Lopez         9333 Valentine Point    Bellmore    NY  11710  40.6729  -73.5365     34496       Librarian, public   25315200  c81755dbbbea9d5c77f094348a7579be  1371816893  40.495810  -74.196111         0     Ashley Lopez         12 2020-06-21 12:14:53         Sunday     832a10fffffffff      832a10fffffffff       59.098624                       7.0                  0.002716                  7.0             0.002716               7.0          0.002716              18.0          0.002910                 3735             0.005262               7.0          0.002716                  7.0             0.002716                7.0           0.002716               555.0            0.006647                              216.0                           0.006779                       67                 0.001027                         1216                     0.004853   \n",
       "3           3   2020-06-21 12:15:15  3591919803438423                     fraud_Haley Group        misc_pos  60.05   Brian  Williams  32941 Krystal Mill Apt. 552  Titusville    FL  32780  28.5697  -80.8191     54767            Set designer  554169600  2159175b9efe66dc301f149d3d5abf8c  1371816915  28.812398  -80.883061         0   Brian Williams         12 2020-06-21 12:15:15         Sunday     8344a9fffffffff      8344a9fffffffff       27.707262                       0.0                  0.000000                  0.0             0.000000               0.0          0.000000              19.0          0.012298                 3771             0.006426               0.0          0.000000                  0.0             0.000000                0.0           0.000000               281.0            0.006585                               10.0                           0.002810                       67                 0.001027                         1216                     0.004853   \n",
       "4           4   2020-06-21 12:15:17  3526826139003047                 fraud_Johnston-Casper          travel   3.19  Nathan    Massey     5783 Evan Roads Apt. 465    Falmouth    MI  49632  44.2529  -85.0170      1126      Furniture designer -457315200  57ff021bd3f328f8738bb535c302a31b  1371816917  44.959148  -85.884734         0    Nathan Massey         12 2020-06-21 12:15:17         Sunday     832741fffffffff      83274cfffffffff      104.367859                      11.0                  0.005408                 11.0             0.005408              11.0          0.005408              20.0          0.009790                 3771             0.006426              11.0          0.005408                 11.0             0.005408               11.0           0.005408               238.0            0.005157                               19.0                           0.006203                       67                 0.001027                         1216                     0.004853   \n",
       "\n",
       "   trans_coords_hex_id_target_1_cnt  trans_coords_hex_id_target_share  merchant_target_1_cnt  merchant_target_share  category_target_1_cnt  category_target_share  gender_F  gender_M  \n",
       "0                              30.0                          0.006392                    2.0               0.001101                    220               0.002424         0         1  \n",
       "1                              10.0                          0.006180                    5.0               0.002740                    220               0.002424         1         0  \n",
       "2                             110.0                          0.007063                    2.0               0.001166                    133               0.001549         1         0  \n",
       "3                              20.0                          0.005884                    7.0               0.004297                    250               0.003139         0         1  \n",
       "4                              11.0                          0.003421                    1.0               0.001203                    116               0.002864         0         1  "
      ]
     },
     "execution_count": 147,
     "metadata": {},
     "output_type": "execute_result"
    }
   ],
   "source": [
    "test_step_3.head()"
   ]
  },
  {
   "cell_type": "code",
   "execution_count": 148,
   "metadata": {},
   "outputs": [],
   "source": [
    "test_step_4 = test_step_3.drop(cols_to_drop, axis = 1)"
   ]
  },
  {
   "cell_type": "code",
   "execution_count": 149,
   "metadata": {},
   "outputs": [
    {
     "data": {
      "text/html": [
       "<div>\n",
       "<style scoped>\n",
       "    .dataframe tbody tr th:only-of-type {\n",
       "        vertical-align: middle;\n",
       "    }\n",
       "\n",
       "    .dataframe tbody tr th {\n",
       "        vertical-align: top;\n",
       "    }\n",
       "\n",
       "    .dataframe thead th {\n",
       "        text-align: right;\n",
       "    }\n",
       "</style>\n",
       "<table border=\"1\" class=\"dataframe\">\n",
       "  <thead>\n",
       "    <tr style=\"text-align: right;\">\n",
       "      <th></th>\n",
       "      <th>amt</th>\n",
       "      <th>is_fraud</th>\n",
       "      <th>trans_distance</th>\n",
       "      <th>person_name_target_1_cnt</th>\n",
       "      <th>person_name_target_share</th>\n",
       "      <th>cc_num_target_1_cnt</th>\n",
       "      <th>cc_num_target_share</th>\n",
       "      <th>dob_target_1_cnt</th>\n",
       "      <th>dob_target_share</th>\n",
       "      <th>job_target_1_cnt</th>\n",
       "      <th>job_target_share</th>\n",
       "      <th>gender_target_1_cnt</th>\n",
       "      <th>gender_target_share</th>\n",
       "      <th>zip_target_1_cnt</th>\n",
       "      <th>zip_target_share</th>\n",
       "      <th>street_target_1_cnt</th>\n",
       "      <th>street_target_share</th>\n",
       "      <th>city_target_1_cnt</th>\n",
       "      <th>city_target_share</th>\n",
       "      <th>state_target_1_cnt</th>\n",
       "      <th>state_target_share</th>\n",
       "      <th>person_coords_hex_id_target_1_cnt</th>\n",
       "      <th>person_coords_hex_id_target_share</th>\n",
       "      <th>trans_hour_target_1_cnt</th>\n",
       "      <th>trans_hour_target_share</th>\n",
       "      <th>trans_week_day_target_1_cnt</th>\n",
       "      <th>trans_week_day_target_share</th>\n",
       "      <th>trans_coords_hex_id_target_1_cnt</th>\n",
       "      <th>trans_coords_hex_id_target_share</th>\n",
       "      <th>merchant_target_1_cnt</th>\n",
       "      <th>merchant_target_share</th>\n",
       "      <th>category_target_1_cnt</th>\n",
       "      <th>category_target_share</th>\n",
       "      <th>gender_F</th>\n",
       "      <th>gender_M</th>\n",
       "    </tr>\n",
       "  </thead>\n",
       "  <tbody>\n",
       "    <tr>\n",
       "      <th>0</th>\n",
       "      <td>2.86</td>\n",
       "      <td>0</td>\n",
       "      <td>24.569172</td>\n",
       "      <td>12.0</td>\n",
       "      <td>0.007687</td>\n",
       "      <td>12.0</td>\n",
       "      <td>0.007687</td>\n",
       "      <td>12.0</td>\n",
       "      <td>0.007687</td>\n",
       "      <td>49.0</td>\n",
       "      <td>0.008700</td>\n",
       "      <td>3771</td>\n",
       "      <td>0.006426</td>\n",
       "      <td>12.0</td>\n",
       "      <td>0.007687</td>\n",
       "      <td>12.0</td>\n",
       "      <td>0.007687</td>\n",
       "      <td>12.0</td>\n",
       "      <td>0.007687</td>\n",
       "      <td>193.0</td>\n",
       "      <td>0.006612</td>\n",
       "      <td>41.0</td>\n",
       "      <td>0.011323</td>\n",
       "      <td>67</td>\n",
       "      <td>0.001027</td>\n",
       "      <td>1216</td>\n",
       "      <td>0.004853</td>\n",
       "      <td>30.0</td>\n",
       "      <td>0.006392</td>\n",
       "      <td>2.0</td>\n",
       "      <td>0.001101</td>\n",
       "      <td>220</td>\n",
       "      <td>0.002424</td>\n",
       "      <td>0</td>\n",
       "      <td>1</td>\n",
       "    </tr>\n",
       "    <tr>\n",
       "      <th>1</th>\n",
       "      <td>29.84</td>\n",
       "      <td>0</td>\n",
       "      <td>104.958031</td>\n",
       "      <td>14.0</td>\n",
       "      <td>0.006702</td>\n",
       "      <td>14.0</td>\n",
       "      <td>0.006702</td>\n",
       "      <td>14.0</td>\n",
       "      <td>0.006702</td>\n",
       "      <td>38.0</td>\n",
       "      <td>0.006888</td>\n",
       "      <td>3735</td>\n",
       "      <td>0.005262</td>\n",
       "      <td>14.0</td>\n",
       "      <td>0.006702</td>\n",
       "      <td>14.0</td>\n",
       "      <td>0.006702</td>\n",
       "      <td>14.0</td>\n",
       "      <td>0.006702</td>\n",
       "      <td>61.0</td>\n",
       "      <td>0.005701</td>\n",
       "      <td>14.0</td>\n",
       "      <td>0.006702</td>\n",
       "      <td>67</td>\n",
       "      <td>0.001027</td>\n",
       "      <td>1216</td>\n",
       "      <td>0.004853</td>\n",
       "      <td>10.0</td>\n",
       "      <td>0.006180</td>\n",
       "      <td>5.0</td>\n",
       "      <td>0.002740</td>\n",
       "      <td>220</td>\n",
       "      <td>0.002424</td>\n",
       "      <td>1</td>\n",
       "      <td>0</td>\n",
       "    </tr>\n",
       "    <tr>\n",
       "      <th>2</th>\n",
       "      <td>41.28</td>\n",
       "      <td>0</td>\n",
       "      <td>59.098624</td>\n",
       "      <td>7.0</td>\n",
       "      <td>0.002716</td>\n",
       "      <td>7.0</td>\n",
       "      <td>0.002716</td>\n",
       "      <td>7.0</td>\n",
       "      <td>0.002716</td>\n",
       "      <td>18.0</td>\n",
       "      <td>0.002910</td>\n",
       "      <td>3735</td>\n",
       "      <td>0.005262</td>\n",
       "      <td>7.0</td>\n",
       "      <td>0.002716</td>\n",
       "      <td>7.0</td>\n",
       "      <td>0.002716</td>\n",
       "      <td>7.0</td>\n",
       "      <td>0.002716</td>\n",
       "      <td>555.0</td>\n",
       "      <td>0.006647</td>\n",
       "      <td>216.0</td>\n",
       "      <td>0.006779</td>\n",
       "      <td>67</td>\n",
       "      <td>0.001027</td>\n",
       "      <td>1216</td>\n",
       "      <td>0.004853</td>\n",
       "      <td>110.0</td>\n",
       "      <td>0.007063</td>\n",
       "      <td>2.0</td>\n",
       "      <td>0.001166</td>\n",
       "      <td>133</td>\n",
       "      <td>0.001549</td>\n",
       "      <td>1</td>\n",
       "      <td>0</td>\n",
       "    </tr>\n",
       "    <tr>\n",
       "      <th>3</th>\n",
       "      <td>60.05</td>\n",
       "      <td>0</td>\n",
       "      <td>27.707262</td>\n",
       "      <td>0.0</td>\n",
       "      <td>0.000000</td>\n",
       "      <td>0.0</td>\n",
       "      <td>0.000000</td>\n",
       "      <td>0.0</td>\n",
       "      <td>0.000000</td>\n",
       "      <td>19.0</td>\n",
       "      <td>0.012298</td>\n",
       "      <td>3771</td>\n",
       "      <td>0.006426</td>\n",
       "      <td>0.0</td>\n",
       "      <td>0.000000</td>\n",
       "      <td>0.0</td>\n",
       "      <td>0.000000</td>\n",
       "      <td>0.0</td>\n",
       "      <td>0.000000</td>\n",
       "      <td>281.0</td>\n",
       "      <td>0.006585</td>\n",
       "      <td>10.0</td>\n",
       "      <td>0.002810</td>\n",
       "      <td>67</td>\n",
       "      <td>0.001027</td>\n",
       "      <td>1216</td>\n",
       "      <td>0.004853</td>\n",
       "      <td>20.0</td>\n",
       "      <td>0.005884</td>\n",
       "      <td>7.0</td>\n",
       "      <td>0.004297</td>\n",
       "      <td>250</td>\n",
       "      <td>0.003139</td>\n",
       "      <td>0</td>\n",
       "      <td>1</td>\n",
       "    </tr>\n",
       "    <tr>\n",
       "      <th>4</th>\n",
       "      <td>3.19</td>\n",
       "      <td>0</td>\n",
       "      <td>104.367859</td>\n",
       "      <td>11.0</td>\n",
       "      <td>0.005408</td>\n",
       "      <td>11.0</td>\n",
       "      <td>0.005408</td>\n",
       "      <td>11.0</td>\n",
       "      <td>0.005408</td>\n",
       "      <td>20.0</td>\n",
       "      <td>0.009790</td>\n",
       "      <td>3771</td>\n",
       "      <td>0.006426</td>\n",
       "      <td>11.0</td>\n",
       "      <td>0.005408</td>\n",
       "      <td>11.0</td>\n",
       "      <td>0.005408</td>\n",
       "      <td>11.0</td>\n",
       "      <td>0.005408</td>\n",
       "      <td>238.0</td>\n",
       "      <td>0.005157</td>\n",
       "      <td>19.0</td>\n",
       "      <td>0.006203</td>\n",
       "      <td>67</td>\n",
       "      <td>0.001027</td>\n",
       "      <td>1216</td>\n",
       "      <td>0.004853</td>\n",
       "      <td>11.0</td>\n",
       "      <td>0.003421</td>\n",
       "      <td>1.0</td>\n",
       "      <td>0.001203</td>\n",
       "      <td>116</td>\n",
       "      <td>0.002864</td>\n",
       "      <td>0</td>\n",
       "      <td>1</td>\n",
       "    </tr>\n",
       "  </tbody>\n",
       "</table>\n",
       "</div>"
      ],
      "text/plain": [
       "     amt  is_fraud  trans_distance  person_name_target_1_cnt  person_name_target_share  cc_num_target_1_cnt  cc_num_target_share  dob_target_1_cnt  dob_target_share  job_target_1_cnt  job_target_share  gender_target_1_cnt  gender_target_share  zip_target_1_cnt  zip_target_share  street_target_1_cnt  street_target_share  city_target_1_cnt  city_target_share  state_target_1_cnt  state_target_share  person_coords_hex_id_target_1_cnt  person_coords_hex_id_target_share  trans_hour_target_1_cnt  trans_hour_target_share  trans_week_day_target_1_cnt  trans_week_day_target_share  trans_coords_hex_id_target_1_cnt  trans_coords_hex_id_target_share  merchant_target_1_cnt  merchant_target_share  category_target_1_cnt  category_target_share  gender_F  gender_M\n",
       "0   2.86         0       24.569172                      12.0                  0.007687                 12.0             0.007687              12.0          0.007687              49.0          0.008700                 3771             0.006426              12.0          0.007687                 12.0             0.007687               12.0           0.007687               193.0            0.006612                               41.0                           0.011323                       67                 0.001027                         1216                     0.004853                              30.0                          0.006392                    2.0               0.001101                    220               0.002424         0         1\n",
       "1  29.84         0      104.958031                      14.0                  0.006702                 14.0             0.006702              14.0          0.006702              38.0          0.006888                 3735             0.005262              14.0          0.006702                 14.0             0.006702               14.0           0.006702                61.0            0.005701                               14.0                           0.006702                       67                 0.001027                         1216                     0.004853                              10.0                          0.006180                    5.0               0.002740                    220               0.002424         1         0\n",
       "2  41.28         0       59.098624                       7.0                  0.002716                  7.0             0.002716               7.0          0.002716              18.0          0.002910                 3735             0.005262               7.0          0.002716                  7.0             0.002716                7.0           0.002716               555.0            0.006647                              216.0                           0.006779                       67                 0.001027                         1216                     0.004853                             110.0                          0.007063                    2.0               0.001166                    133               0.001549         1         0\n",
       "3  60.05         0       27.707262                       0.0                  0.000000                  0.0             0.000000               0.0          0.000000              19.0          0.012298                 3771             0.006426               0.0          0.000000                  0.0             0.000000                0.0           0.000000               281.0            0.006585                               10.0                           0.002810                       67                 0.001027                         1216                     0.004853                              20.0                          0.005884                    7.0               0.004297                    250               0.003139         0         1\n",
       "4   3.19         0      104.367859                      11.0                  0.005408                 11.0             0.005408              11.0          0.005408              20.0          0.009790                 3771             0.006426              11.0          0.005408                 11.0             0.005408               11.0           0.005408               238.0            0.005157                               19.0                           0.006203                       67                 0.001027                         1216                     0.004853                              11.0                          0.003421                    1.0               0.001203                    116               0.002864         0         1"
      ]
     },
     "execution_count": 149,
     "metadata": {},
     "output_type": "execute_result"
    }
   ],
   "source": [
    "test_step_4.head()"
   ]
  },
  {
   "cell_type": "code",
   "execution_count": 150,
   "metadata": {},
   "outputs": [],
   "source": [
    "X = test_step_4.drop('is_fraud', axis = 1)\n",
    "y = test_step_4.loc[:,'is_fraud']"
   ]
  },
  {
   "cell_type": "code",
   "execution_count": 151,
   "metadata": {},
   "outputs": [],
   "source": [
    "expected = y\n",
    "predicted = model.predict(X)"
   ]
  },
  {
   "cell_type": "code",
   "execution_count": 152,
   "metadata": {},
   "outputs": [
    {
     "name": "stdout",
     "output_type": "stream",
     "text": [
      "              precision    recall  f1-score   support\n",
      "\n",
      "           0       1.00      1.00      1.00    553574\n",
      "           1       0.02      0.00      0.00      2145\n",
      "\n",
      "    accuracy                           1.00    555719\n",
      "   macro avg       0.51      0.50      0.50    555719\n",
      "weighted avg       0.99      1.00      0.99    555719\n",
      "\n",
      "[[553341    233]\n",
      " [  2141      4]]\n"
     ]
    },
    {
     "data": {
      "text/plain": [
       "<sklearn.metrics._plot.confusion_matrix.ConfusionMatrixDisplay at 0x248c8214748>"
      ]
     },
     "execution_count": 152,
     "metadata": {},
     "output_type": "execute_result"
    },
    {
     "data": {
      "image/png": "[encoded data removed]",
      "text/plain": [
       "<Figure size 432x288 with 2 Axes>"
      ]
     },
     "metadata": {
      "needs_background": "light"
     },
     "output_type": "display_data"
    }
   ],
   "source": [
    "# summarize the fit of the model\n",
    "print(metrics.classification_report(expected, predicted))\n",
    "print(metrics.confusion_matrix(expected, predicted))\n",
    "plot_confusion_matrix(model, X, y)"
   ]
  },
  {
   "cell_type": "code",
   "execution_count": null,
   "metadata": {},
   "outputs": [],
   "source": [
    "train.loc[train['cc_num'] == 2291163933867244,:]"
   ]
  },
  {
   "cell_type": "code",
   "execution_count": 121,
   "metadata": {},
   "outputs": [
    {
     "data": {
      "text/html": [
       "<div>\n",
       "<style scoped>\n",
       "    .dataframe tbody tr th:only-of-type {\n",
       "        vertical-align: middle;\n",
       "    }\n",
       "\n",
       "    .dataframe tbody tr th {\n",
       "        vertical-align: top;\n",
       "    }\n",
       "\n",
       "    .dataframe thead th {\n",
       "        text-align: right;\n",
       "    }\n",
       "</style>\n",
       "<table border=\"1\" class=\"dataframe\">\n",
       "  <thead>\n",
       "    <tr style=\"text-align: right;\">\n",
       "      <th></th>\n",
       "      <th>Unnamed: 0</th>\n",
       "      <th>trans_date_trans_time</th>\n",
       "      <th>cc_num</th>\n",
       "      <th>merchant</th>\n",
       "      <th>category</th>\n",
       "      <th>amt</th>\n",
       "      <th>first</th>\n",
       "      <th>last</th>\n",
       "      <th>gender</th>\n",
       "      <th>street</th>\n",
       "      <th>city</th>\n",
       "      <th>state</th>\n",
       "      <th>zip</th>\n",
       "      <th>lat</th>\n",
       "      <th>long</th>\n",
       "      <th>city_pop</th>\n",
       "      <th>job</th>\n",
       "      <th>dob</th>\n",
       "      <th>trans_num</th>\n",
       "      <th>unix_time</th>\n",
       "      <th>merch_lat</th>\n",
       "      <th>merch_long</th>\n",
       "      <th>is_fraud</th>\n",
       "      <th>person_name</th>\n",
       "      <th>trans_hour</th>\n",
       "      <th>trans_dttm</th>\n",
       "      <th>trans_week_day</th>\n",
       "      <th>trans_coords_hex_id</th>\n",
       "      <th>person_coords_hex_id</th>\n",
       "      <th>trans_distance</th>\n",
       "      <th>person_name_target_1_cnt</th>\n",
       "      <th>person_name_target_share</th>\n",
       "      <th>cc_num_target_1_cnt</th>\n",
       "      <th>cc_num_target_share</th>\n",
       "      <th>dob_target_1_cnt</th>\n",
       "      <th>dob_target_share</th>\n",
       "      <th>job_target_1_cnt</th>\n",
       "      <th>job_target_share</th>\n",
       "      <th>gender_target_1_cnt</th>\n",
       "      <th>gender_target_share</th>\n",
       "      <th>zip_target_1_cnt</th>\n",
       "      <th>zip_target_share</th>\n",
       "      <th>street_target_1_cnt</th>\n",
       "      <th>street_target_share</th>\n",
       "      <th>city_target_1_cnt</th>\n",
       "      <th>city_target_share</th>\n",
       "      <th>state_target_1_cnt</th>\n",
       "      <th>state_target_share</th>\n",
       "      <th>person_coords_hex_id_target_1_cnt</th>\n",
       "      <th>person_coords_hex_id_target_share</th>\n",
       "      <th>trans_hour_target_1_cnt</th>\n",
       "      <th>trans_hour_target_share</th>\n",
       "      <th>trans_week_day_target_1_cnt</th>\n",
       "      <th>trans_week_day_target_share</th>\n",
       "      <th>trans_coords_hex_id_target_1_cnt</th>\n",
       "      <th>trans_coords_hex_id_target_share</th>\n",
       "      <th>merchant_target_1_cnt</th>\n",
       "      <th>merchant_target_share</th>\n",
       "      <th>category_target_1_cnt</th>\n",
       "      <th>category_target_share</th>\n",
       "    </tr>\n",
       "  </thead>\n",
       "  <tbody>\n",
       "    <tr>\n",
       "      <th>0</th>\n",
       "      <td>0</td>\n",
       "      <td>2020-06-21 12:14:25</td>\n",
       "      <td>2291163933867244</td>\n",
       "      <td>fraud_Kirlin and Sons</td>\n",
       "      <td>personal_care</td>\n",
       "      <td>2.86</td>\n",
       "      <td>Jeff</td>\n",
       "      <td>Elliott</td>\n",
       "      <td>M</td>\n",
       "      <td>351 Darlene Green</td>\n",
       "      <td>Columbia</td>\n",
       "      <td>SC</td>\n",
       "      <td>29209</td>\n",
       "      <td>33.9659</td>\n",
       "      <td>-80.9355</td>\n",
       "      <td>333497</td>\n",
       "      <td>Mechanical engineer</td>\n",
       "      <td>-56419200</td>\n",
       "      <td>2da90c7d74bd46a0caf3777415b3ebd3</td>\n",
       "      <td>1371816865</td>\n",
       "      <td>33.986391</td>\n",
       "      <td>-81.200714</td>\n",
       "      <td>0</td>\n",
       "      <td>Jeff Elliott</td>\n",
       "      <td>12</td>\n",
       "      <td>2020-06-21 12:14:25</td>\n",
       "      <td>Sunday</td>\n",
       "      <td>8344dcfffffffff</td>\n",
       "      <td>8344defffffffff</td>\n",
       "      <td>24.569172</td>\n",
       "      <td>12.0</td>\n",
       "      <td>0.007687</td>\n",
       "      <td>12.0</td>\n",
       "      <td>0.007687</td>\n",
       "      <td>12.0</td>\n",
       "      <td>0.007687</td>\n",
       "      <td>49.0</td>\n",
       "      <td>0.0087</td>\n",
       "      <td>3771</td>\n",
       "      <td>0.006426</td>\n",
       "      <td>12.0</td>\n",
       "      <td>0.007687</td>\n",
       "      <td>12.0</td>\n",
       "      <td>0.007687</td>\n",
       "      <td>12.0</td>\n",
       "      <td>0.007687</td>\n",
       "      <td>193.0</td>\n",
       "      <td>0.006612</td>\n",
       "      <td>41.0</td>\n",
       "      <td>0.011323</td>\n",
       "      <td>67</td>\n",
       "      <td>0.001027</td>\n",
       "      <td>1216</td>\n",
       "      <td>0.004853</td>\n",
       "      <td>30.0</td>\n",
       "      <td>0.006392</td>\n",
       "      <td>2.0</td>\n",
       "      <td>0.001101</td>\n",
       "      <td>220</td>\n",
       "      <td>0.002424</td>\n",
       "    </tr>\n",
       "    <tr>\n",
       "      <th>606</th>\n",
       "      <td>606</td>\n",
       "      <td>2020-06-21 15:39:04</td>\n",
       "      <td>2291163933867244</td>\n",
       "      <td>fraud_Goyette-Gerhold</td>\n",
       "      <td>kids_pets</td>\n",
       "      <td>17.15</td>\n",
       "      <td>Jeff</td>\n",
       "      <td>Elliott</td>\n",
       "      <td>M</td>\n",
       "      <td>351 Darlene Green</td>\n",
       "      <td>Columbia</td>\n",
       "      <td>SC</td>\n",
       "      <td>29209</td>\n",
       "      <td>33.9659</td>\n",
       "      <td>-80.9355</td>\n",
       "      <td>333497</td>\n",
       "      <td>Mechanical engineer</td>\n",
       "      <td>-56419200</td>\n",
       "      <td>2ba65201d0c9119227e27b6640ff4415</td>\n",
       "      <td>1371829144</td>\n",
       "      <td>34.235448</td>\n",
       "      <td>-81.649282</td>\n",
       "      <td>0</td>\n",
       "      <td>Jeff Elliott</td>\n",
       "      <td>15</td>\n",
       "      <td>2020-06-21 15:39:04</td>\n",
       "      <td>Sunday</td>\n",
       "      <td>8344dcfffffffff</td>\n",
       "      <td>8344defffffffff</td>\n",
       "      <td>72.256008</td>\n",
       "      <td>12.0</td>\n",
       "      <td>0.007687</td>\n",
       "      <td>12.0</td>\n",
       "      <td>0.007687</td>\n",
       "      <td>12.0</td>\n",
       "      <td>0.007687</td>\n",
       "      <td>49.0</td>\n",
       "      <td>0.0087</td>\n",
       "      <td>3771</td>\n",
       "      <td>0.006426</td>\n",
       "      <td>12.0</td>\n",
       "      <td>0.007687</td>\n",
       "      <td>12.0</td>\n",
       "      <td>0.007687</td>\n",
       "      <td>12.0</td>\n",
       "      <td>0.007687</td>\n",
       "      <td>193.0</td>\n",
       "      <td>0.006612</td>\n",
       "      <td>41.0</td>\n",
       "      <td>0.011323</td>\n",
       "      <td>79</td>\n",
       "      <td>0.001208</td>\n",
       "      <td>1216</td>\n",
       "      <td>0.004853</td>\n",
       "      <td>30.0</td>\n",
       "      <td>0.006392</td>\n",
       "      <td>2.0</td>\n",
       "      <td>0.000877</td>\n",
       "      <td>239</td>\n",
       "      <td>0.002114</td>\n",
       "    </tr>\n",
       "  </tbody>\n",
       "</table>\n",
       "</div>"
      ],
      "text/plain": [
       "     Unnamed: 0 trans_date_trans_time            cc_num               merchant       category    amt first     last gender             street      city state    zip      lat     long  city_pop                  job       dob                         trans_num   unix_time  merch_lat  merch_long  is_fraud   person_name trans_hour          trans_dttm trans_week_day trans_coords_hex_id person_coords_hex_id  trans_distance  person_name_target_1_cnt  person_name_target_share  cc_num_target_1_cnt  cc_num_target_share  dob_target_1_cnt  dob_target_share  job_target_1_cnt  job_target_share  gender_target_1_cnt  gender_target_share  zip_target_1_cnt  zip_target_share  street_target_1_cnt  street_target_share  city_target_1_cnt  city_target_share  state_target_1_cnt  state_target_share  person_coords_hex_id_target_1_cnt  person_coords_hex_id_target_share  trans_hour_target_1_cnt  trans_hour_target_share  trans_week_day_target_1_cnt  trans_week_day_target_share  trans_coords_hex_id_target_1_cnt  \\\n",
       "0             0   2020-06-21 12:14:25  2291163933867244  fraud_Kirlin and Sons  personal_care   2.86  Jeff  Elliott      M  351 Darlene Green  Columbia    SC  29209  33.9659 -80.9355    333497  Mechanical engineer -56419200  2da90c7d74bd46a0caf3777415b3ebd3  1371816865  33.986391  -81.200714         0  Jeff Elliott         12 2020-06-21 12:14:25         Sunday     8344dcfffffffff      8344defffffffff       24.569172                      12.0                  0.007687                 12.0             0.007687              12.0          0.007687              49.0            0.0087                 3771             0.006426              12.0          0.007687                 12.0             0.007687               12.0           0.007687               193.0            0.006612                               41.0                           0.011323                       67                 0.001027                         1216                     0.004853                              30.0   \n",
       "606         606   2020-06-21 15:39:04  2291163933867244  fraud_Goyette-Gerhold      kids_pets  17.15  Jeff  Elliott      M  351 Darlene Green  Columbia    SC  29209  33.9659 -80.9355    333497  Mechanical engineer -56419200  2ba65201d0c9119227e27b6640ff4415  1371829144  34.235448  -81.649282         0  Jeff Elliott         15 2020-06-21 15:39:04         Sunday     8344dcfffffffff      8344defffffffff       72.256008                      12.0                  0.007687                 12.0             0.007687              12.0          0.007687              49.0            0.0087                 3771             0.006426              12.0          0.007687                 12.0             0.007687               12.0           0.007687               193.0            0.006612                               41.0                           0.011323                       79                 0.001208                         1216                     0.004853                              30.0   \n",
       "\n",
       "     trans_coords_hex_id_target_share  merchant_target_1_cnt  merchant_target_share  category_target_1_cnt  category_target_share  \n",
       "0                            0.006392                    2.0               0.001101                    220               0.002424  \n",
       "606                          0.006392                    2.0               0.000877                    239               0.002114  "
      ]
     },
     "execution_count": 121,
     "metadata": {},
     "output_type": "execute_result"
    }
   ],
   "source": [
    "test_step_2.loc[test_step_2['person_name'] == 'Jeff Elliott',:]"
   ]
  },
  {
   "cell_type": "code",
   "execution_count": null,
   "metadata": {},
   "outputs": [],
   "source": [
    "test_step_2.head()"
   ]
  },
  {
   "cell_type": "code",
   "execution_count": null,
   "metadata": {},
   "outputs": [],
   "source": [
    "train_step_3 = one_hot_encode(train_step_2, ['gender'])"
   ]
  },
  {
   "cell_type": "code",
   "execution_count": null,
   "metadata": {},
   "outputs": [],
   "source": [
    "train_step_4 = train_step_3.drop(cols_to_drop, axis = 1)"
   ]
  },
  {
   "cell_type": "code",
   "execution_count": null,
   "metadata": {},
   "outputs": [],
   "source": []
  },
  {
   "cell_type": "code",
   "execution_count": 183,
   "metadata": {},
   "outputs": [
    {
     "data": {
      "text/plain": [
       "count    1296675.0\n",
       "mean           7.0\n",
       "std            5.0\n",
       "min            0.0\n",
       "25%            2.0\n",
       "50%            8.0\n",
       "75%           11.0\n",
       "max           19.0\n",
       "Name: cc_num_target_1_cnt, dtype: float64"
      ]
     },
     "execution_count": 183,
     "metadata": {},
     "output_type": "execute_result"
    }
   ],
   "source": [
    "train_step_4['cc_num_target_1_cnt'].describe().round(0)"
   ]
  },
  {
   "cell_type": "code",
   "execution_count": 184,
   "metadata": {},
   "outputs": [
    {
     "data": {
      "text/plain": [
       "count    555556.0\n",
       "mean          7.0\n",
       "std           5.0\n",
       "min           0.0\n",
       "25%           2.0\n",
       "50%           8.0\n",
       "75%          11.0\n",
       "max          19.0\n",
       "Name: cc_num_target_1_cnt, dtype: float64"
      ]
     },
     "execution_count": 184,
     "metadata": {},
     "output_type": "execute_result"
    }
   ],
   "source": [
    "test_step_4['cc_num_target_1_cnt'].describe().round(0)"
   ]
  },
  {
   "cell_type": "code",
   "execution_count": null,
   "metadata": {},
   "outputs": [],
   "source": []
  },
  {
   "cell_type": "code",
   "execution_count": null,
   "metadata": {},
   "outputs": [],
   "source": []
  },
  {
   "cell_type": "code",
   "execution_count": null,
   "metadata": {},
   "outputs": [],
   "source": []
  },
  {
   "cell_type": "code",
   "execution_count": 200,
   "metadata": {},
   "outputs": [],
   "source": [
    "#from sklearn.cross_validation import train_test_split\n",
    "\n",
    "X_train, X_test, y_train, y_test = train_test_split(X, y, test_size=0.2, random_state=42)"
   ]
  },
  {
   "cell_type": "code",
   "execution_count": 202,
   "metadata": {},
   "outputs": [
    {
     "data": {
      "text/plain": [
       "XGBClassifier(base_score=0.5, booster=None, colsample_bylevel=1,\n",
       "              colsample_bynode=1, colsample_bytree=1, gamma=0, gpu_id=-1,\n",
       "              importance_type='gain', interaction_constraints=None,\n",
       "              learning_rate=0.300000012, max_delta_step=0, max_depth=6,\n",
       "              min_child_weight=1, missing=nan, monotone_constraints=None,\n",
       "              n_estimators=100, n_jobs=0, num_parallel_tree=1,\n",
       "              objective='binary:logistic', random_state=0, reg_alpha=0,\n",
       "              reg_lambda=1, scale_pos_weight=1, subsample=1, tree_method=None,\n",
       "              validate_parameters=False, verbosity=None)"
      ]
     },
     "execution_count": 202,
     "metadata": {},
     "output_type": "execute_result"
    }
   ],
   "source": [
    "model = XGBClassifier()\n",
    "model.fit(X_train, y_train)"
   ]
  },
  {
   "cell_type": "code",
   "execution_count": 204,
   "metadata": {},
   "outputs": [
    {
     "name": "stdout",
     "output_type": "stream",
     "text": [
      "0.9983843291495555\n"
     ]
    }
   ],
   "source": [
    "y_hat = [round(yhat) for yhat in model.predict(X_test)]\n",
    "print(accuracy_score(y_test, y_hat))"
   ]
  },
  {
   "cell_type": "code",
   "execution_count": 205,
   "metadata": {},
   "outputs": [],
   "source": [
    "expected = y_test\n",
    "predicted = model.predict(X_test)"
   ]
  },
  {
   "cell_type": "code",
   "execution_count": 207,
   "metadata": {},
   "outputs": [
    {
     "name": "stdout",
     "output_type": "stream",
     "text": [
      "              precision    recall  f1-score   support\n",
      "\n",
      "           0       1.00      1.00      1.00    257815\n",
      "           1       0.92      0.80      0.85      1520\n",
      "\n",
      "    accuracy                           1.00    259335\n",
      "   macro avg       0.96      0.90      0.93    259335\n",
      "weighted avg       1.00      1.00      1.00    259335\n",
      "\n",
      "[[257707    108]\n",
      " [   311   1209]]\n"
     ]
    },
    {
     "data": {
      "text/plain": [
       "<sklearn.metrics._plot.confusion_matrix.ConfusionMatrixDisplay at 0x249067198c8>"
      ]
     },
     "execution_count": 207,
     "metadata": {},
     "output_type": "execute_result"
    },
    {
     "data": {
      "image/png": "[encoded data removed]",
      "text/plain": [
       "<Figure size 432x288 with 2 Axes>"
      ]
     },
     "metadata": {
      "needs_background": "light"
     },
     "output_type": "display_data"
    }
   ],
   "source": [
    "# summarize the fit of the model\n",
    "print(metrics.classification_report(expected, predicted))\n",
    "print(metrics.confusion_matrix(expected, predicted))\n",
    "plot_confusion_matrix(model, X_test, y_test)"
   ]
  },
  {
   "cell_type": "code",
   "execution_count": 210,
   "metadata": {},
   "outputs": [],
   "source": [
    "X_test = test_step_4.drop('is_fraud', axis = 1)\n",
    "y_test = test_step_4.loc[:,'is_fraud']"
   ]
  },
  {
   "cell_type": "code",
   "execution_count": 211,
   "metadata": {},
   "outputs": [],
   "source": [
    "expected = y_test\n",
    "predicted = model.predict(X_test)"
   ]
  },
  {
   "cell_type": "code",
   "execution_count": 212,
   "metadata": {},
   "outputs": [
    {
     "name": "stdout",
     "output_type": "stream",
     "text": [
      "              precision    recall  f1-score   support\n",
      "\n",
      "           0       1.00      1.00      1.00    553574\n",
      "           1       0.02      0.00      0.00      2145\n",
      "\n",
      "    accuracy                           1.00    555719\n",
      "   macro avg       0.51      0.50      0.50    555719\n",
      "weighted avg       0.99      1.00      0.99    555719\n",
      "\n",
      "[[553338    236]\n",
      " [  2140      5]]\n"
     ]
    },
    {
     "data": {
      "text/plain": [
       "<sklearn.metrics._plot.confusion_matrix.ConfusionMatrixDisplay at 0x248b9230fc8>"
      ]
     },
     "execution_count": 212,
     "metadata": {},
     "output_type": "execute_result"
    },
    {
     "data": {
      "image/png": "[encoded data removed]",
      "text/plain": [
       "<Figure size 432x288 with 2 Axes>"
      ]
     },
     "metadata": {
      "needs_background": "light"
     },
     "output_type": "display_data"
    }
   ],
   "source": [
    "# summarize the fit of the model\n",
    "print(metrics.classification_report(expected, predicted))\n",
    "print(metrics.confusion_matrix(expected, predicted))\n",
    "plot_confusion_matrix(model, X, y)"
   ]
  },
  {
   "cell_type": "code",
   "execution_count": null,
   "metadata": {},
   "outputs": [],
   "source": [
    "#from sklearn.cross_validation import train_test_split\n",
    "X_train, X_test, y_train, y_test = train_test_split(X, y, test_size=0.2, random_state=42)"
   ]
  },
  {
   "cell_type": "code",
   "execution_count": null,
   "metadata": {},
   "outputs": [],
   "source": []
  },
  {
   "cell_type": "code",
   "execution_count": null,
   "metadata": {},
   "outputs": [],
   "source": []
  },
  {
   "cell_type": "code",
   "execution_count": null,
   "metadata": {},
   "outputs": [],
   "source": []
  },
  {
   "cell_type": "markdown",
   "metadata": {},
   "source": [
    "# Manual train test split"
   ]
  },
  {
   "cell_type": "code",
   "execution_count": 277,
   "metadata": {},
   "outputs": [],
   "source": [
    "# Sampling\n",
    "train = pd.read_csv('fraudTrain.csv')\n",
    "test  = train.iloc[1000000:(train.shape[0]+1),:]\n",
    "train = train.iloc[0:1000000,:]"
   ]
  },
  {
   "cell_type": "code",
   "execution_count": 221,
   "metadata": {},
   "outputs": [
    {
     "name": "stdout",
     "output_type": "stream",
     "text": [
      "Preprocess features: person_name, trans_hour, trans_dttm, dob, trans_week_day\n",
      "Preprocess feature: trans_coords_hex_id\n",
      "Preprocess feature: person_coords_hex_id\n",
      "Preprocess feature: trans_distance\n"
     ]
    }
   ],
   "source": [
    "train_step_1 = preprocess_features(train)\n",
    "train_step_2 = convert_catorical_features_train(train_step_1, categorical_feature_list)\n",
    "train_step_3 = one_hot_encode(train_step_2, ['gender'])\n",
    "train_step_4 = train_step_3.drop(cols_to_drop, axis = 1)\n",
    "X_train      = train_step_4.drop('is_fraud', axis = 1)\n",
    "y_train      = train_step_4.loc[:,'is_fraud']"
   ]
  },
  {
   "cell_type": "code",
   "execution_count": 230,
   "metadata": {},
   "outputs": [
    {
     "data": {
      "text/plain": [
       "XGBClassifier(base_score=0.5, booster=None, colsample_bylevel=1,\n",
       "              colsample_bynode=1, colsample_bytree=1, gamma=0, gpu_id=-1,\n",
       "              importance_type='gain', interaction_constraints=None,\n",
       "              learning_rate=0.300000012, max_delta_step=0, max_depth=6,\n",
       "              min_child_weight=1, missing=nan, monotone_constraints=None,\n",
       "              n_estimators=100, n_jobs=0, num_parallel_tree=1,\n",
       "              objective='binary:logistic', random_state=0, reg_alpha=0,\n",
       "              reg_lambda=1, scale_pos_weight=1, subsample=1, tree_method=None,\n",
       "              validate_parameters=False, verbosity=None)"
      ]
     },
     "execution_count": 230,
     "metadata": {},
     "output_type": "execute_result"
    }
   ],
   "source": [
    "model = XGBClassifier()\n",
    "model.fit(X_train, y_train)"
   ]
  },
  {
   "cell_type": "code",
   "execution_count": 249,
   "metadata": {},
   "outputs": [
    {
     "name": "stdout",
     "output_type": "stream",
     "text": [
      "Preprocess features: person_name, trans_hour, trans_dttm, dob, trans_week_day\n",
      "Preprocess feature: trans_coords_hex_id\n",
      "Preprocess feature: person_coords_hex_id\n",
      "Preprocess feature: trans_distance\n",
      "Convert feature: person_name\n",
      "Convert feature: cc_num\n",
      "Convert feature: dob\n",
      "Convert feature: job\n",
      "Convert feature: gender\n",
      "Convert feature: zip\n",
      "Convert feature: street\n",
      "Convert feature: city\n",
      "Convert feature: state\n",
      "Convert feature: person_coords_hex_id\n",
      "Convert feature: trans_hour\n",
      "Convert feature: trans_week_day\n",
      "Convert feature: trans_coords_hex_id\n",
      "Convert feature: merchant\n",
      "Convert feature: category\n"
     ]
    }
   ],
   "source": [
    "test_step_1 = preprocess_features(test)\n",
    "test_step_2 = convert_catorical_features_test(df_train = train_step_1,\n",
    "                                              df_test  = test_step_1,\n",
    "                                              categorical_feature_list = categorical_feature_list)"
   ]
  },
  {
   "cell_type": "code",
   "execution_count": 250,
   "metadata": {},
   "outputs": [],
   "source": [
    "test_step_3 = one_hot_encode(test_step_2, ['gender'])\n",
    "test_step_4 = test_step_3.drop(cols_to_drop, axis = 1)\n",
    "X_test      = test_step_4.drop('is_fraud', axis = 1)\n",
    "y_test      = test_step_4.loc[:,'is_fraud']"
   ]
  },
  {
   "cell_type": "code",
   "execution_count": 251,
   "metadata": {},
   "outputs": [],
   "source": [
    "expected = y_test\n",
    "predicted = model.predict(X_test)"
   ]
  },
  {
   "cell_type": "code",
   "execution_count": 252,
   "metadata": {},
   "outputs": [
    {
     "name": "stdout",
     "output_type": "stream",
     "text": [
      "              precision    recall  f1-score   support\n",
      "\n",
      "           0       0.99      1.00      1.00    294870\n",
      "           1       0.06      0.00      0.01      1805\n",
      "\n",
      "    accuracy                           0.99    296675\n",
      "   macro avg       0.53      0.50      0.50    296675\n",
      "weighted avg       0.99      0.99      0.99    296675\n",
      "\n",
      "[[294753    117]\n",
      " [  1798      7]]\n"
     ]
    },
    {
     "data": {
      "text/plain": [
       "<sklearn.metrics._plot.confusion_matrix.ConfusionMatrixDisplay at 0x248d5def948>"
      ]
     },
     "execution_count": 252,
     "metadata": {},
     "output_type": "execute_result"
    },
    {
     "data": {
      "image/png": "[encoded data removed]",
      "text/plain": [
       "<Figure size 432x288 with 2 Axes>"
      ]
     },
     "metadata": {
      "needs_background": "light"
     },
     "output_type": "display_data"
    }
   ],
   "source": [
    "# summarize the fit of the model\n",
    "print(metrics.classification_report(expected, predicted))\n",
    "print(metrics.confusion_matrix(expected, predicted))\n",
    "plot_confusion_matrix(model, X, y)"
   ]
  },
  {
   "cell_type": "code",
   "execution_count": 253,
   "metadata": {},
   "outputs": [
    {
     "data": {
      "image/png": "[encoded data removed]",
      "text/plain": [
       "<Figure size 432x288 with 1 Axes>"
      ]
     },
     "metadata": {
      "needs_background": "light"
     },
     "output_type": "display_data"
    }
   ],
   "source": [
    "y_true = y_test # ground truth labels\n",
    "y_probas = model.predict_proba(X_test) # predicted probabilities generated by sklearn classifier\n",
    "skplt.metrics.plot_roc(y_true, y_probas)\n",
    "plt.show()"
   ]
  },
  {
   "cell_type": "code",
   "execution_count": 238,
   "metadata": {},
   "outputs": [],
   "source": [
    "data_tuples = list(zip(y_true,list(y_probas[:,1])))"
   ]
  },
  {
   "cell_type": "code",
   "execution_count": 239,
   "metadata": {},
   "outputs": [],
   "source": [
    "compare = pd.DataFrame(data_tuples, columns=['y_true','y_probas'])"
   ]
  },
  {
   "cell_type": "code",
   "execution_count": 246,
   "metadata": {},
   "outputs": [],
   "source": [
    "compare['y_probas'] = compare['y_probas'].round(2)"
   ]
  },
  {
   "cell_type": "code",
   "execution_count": 247,
   "metadata": {},
   "outputs": [],
   "source": [
    "compare.to_excel('compare.xlsx', index = False)"
   ]
  },
  {
   "cell_type": "code",
   "execution_count": null,
   "metadata": {},
   "outputs": [],
   "source": []
  },
  {
   "cell_type": "code",
   "execution_count": null,
   "metadata": {},
   "outputs": [],
   "source": []
  },
  {
   "cell_type": "code",
   "execution_count": 279,
   "metadata": {},
   "outputs": [],
   "source": [
    "train['prev_is_fraud'] = (train.sort_values(by=['unix_time'], ascending=True)\n",
    "                       .groupby(['cc_num'])['is_fraud'].shift(1))"
   ]
  },
  {
   "cell_type": "code",
   "execution_count": 263,
   "metadata": {},
   "outputs": [],
   "source": [
    "train.to_excel('aaa.xlsx', index = False)"
   ]
  },
  {
   "cell_type": "code",
   "execution_count": null,
   "metadata": {},
   "outputs": [],
   "source": [
    "train"
   ]
  },
  {
   "cell_type": "code",
   "execution_count": null,
   "metadata": {},
   "outputs": [],
   "source": []
  },
  {
   "cell_type": "code",
   "execution_count": 270,
   "metadata": {},
   "outputs": [
    {
     "data": {
      "text/html": [
       "<div>\n",
       "<style scoped>\n",
       "    .dataframe tbody tr th:only-of-type {\n",
       "        vertical-align: middle;\n",
       "    }\n",
       "\n",
       "    .dataframe tbody tr th {\n",
       "        vertical-align: top;\n",
       "    }\n",
       "\n",
       "    .dataframe thead th {\n",
       "        text-align: right;\n",
       "    }\n",
       "</style>\n",
       "<table border=\"1\" class=\"dataframe\">\n",
       "  <thead>\n",
       "    <tr style=\"text-align: right;\">\n",
       "      <th></th>\n",
       "      <th>foo</th>\n",
       "      <th>bar</th>\n",
       "      <th>baz</th>\n",
       "    </tr>\n",
       "  </thead>\n",
       "  <tbody>\n",
       "    <tr>\n",
       "      <th>0</th>\n",
       "      <td>one</td>\n",
       "      <td>A</td>\n",
       "      <td>1</td>\n",
       "    </tr>\n",
       "    <tr>\n",
       "      <th>1</th>\n",
       "      <td>one</td>\n",
       "      <td>B</td>\n",
       "      <td>2</td>\n",
       "    </tr>\n",
       "    <tr>\n",
       "      <th>2</th>\n",
       "      <td>one</td>\n",
       "      <td>C</td>\n",
       "      <td>3</td>\n",
       "    </tr>\n",
       "    <tr>\n",
       "      <th>3</th>\n",
       "      <td>two</td>\n",
       "      <td>A</td>\n",
       "      <td>4</td>\n",
       "    </tr>\n",
       "    <tr>\n",
       "      <th>4</th>\n",
       "      <td>two</td>\n",
       "      <td>B</td>\n",
       "      <td>5</td>\n",
       "    </tr>\n",
       "  </tbody>\n",
       "</table>\n",
       "</div>"
      ],
      "text/plain": [
       "   foo bar  baz\n",
       "0  one   A    1\n",
       "1  one   B    2\n",
       "2  one   C    3\n",
       "3  two   A    4\n",
       "4  two   B    5"
      ]
     },
     "execution_count": 270,
     "metadata": {},
     "output_type": "execute_result"
    }
   ],
   "source": [
    "df = pd.DataFrame({'foo': ['one','one','one','two','two'],\n",
    "                       'bar': ['A', 'B', 'C', 'A', 'B'],\n",
    "                       'baz': [1, 2, 3, 4, 5]})\n",
    "df"
   ]
  },
  {
   "cell_type": "code",
   "execution_count": 271,
   "metadata": {},
   "outputs": [
    {
     "data": {
      "text/html": [
       "<div>\n",
       "<style scoped>\n",
       "    .dataframe tbody tr th:only-of-type {\n",
       "        vertical-align: middle;\n",
       "    }\n",
       "\n",
       "    .dataframe tbody tr th {\n",
       "        vertical-align: top;\n",
       "    }\n",
       "\n",
       "    .dataframe thead th {\n",
       "        text-align: right;\n",
       "    }\n",
       "</style>\n",
       "<table border=\"1\" class=\"dataframe\">\n",
       "  <thead>\n",
       "    <tr style=\"text-align: right;\">\n",
       "      <th>bar</th>\n",
       "      <th>A</th>\n",
       "      <th>B</th>\n",
       "      <th>C</th>\n",
       "    </tr>\n",
       "    <tr>\n",
       "      <th>foo</th>\n",
       "      <th></th>\n",
       "      <th></th>\n",
       "      <th></th>\n",
       "    </tr>\n",
       "  </thead>\n",
       "  <tbody>\n",
       "    <tr>\n",
       "      <th>one</th>\n",
       "      <td>1.0</td>\n",
       "      <td>2.0</td>\n",
       "      <td>3.0</td>\n",
       "    </tr>\n",
       "    <tr>\n",
       "      <th>two</th>\n",
       "      <td>4.0</td>\n",
       "      <td>5.0</td>\n",
       "      <td>NaN</td>\n",
       "    </tr>\n",
       "  </tbody>\n",
       "</table>\n",
       "</div>"
      ],
      "text/plain": [
       "bar    A    B    C\n",
       "foo               \n",
       "one  1.0  2.0  3.0\n",
       "two  4.0  5.0  NaN"
      ]
     },
     "execution_count": 271,
     "metadata": {},
     "output_type": "execute_result"
    }
   ],
   "source": [
    "df.pivot(index='foo', columns='bar', values='baz')"
   ]
  },
  {
   "cell_type": "code",
   "execution_count": 268,
   "metadata": {},
   "outputs": [],
   "source": [
    "pivot_df = df.pivot(index='foo', columns='bar')['baz']"
   ]
  },
  {
   "cell_type": "code",
   "execution_count": 269,
   "metadata": {},
   "outputs": [
    {
     "data": {
      "text/html": [
       "<div>\n",
       "<style scoped>\n",
       "    .dataframe tbody tr th:only-of-type {\n",
       "        vertical-align: middle;\n",
       "    }\n",
       "\n",
       "    .dataframe tbody tr th {\n",
       "        vertical-align: top;\n",
       "    }\n",
       "\n",
       "    .dataframe thead th {\n",
       "        text-align: right;\n",
       "    }\n",
       "</style>\n",
       "<table border=\"1\" class=\"dataframe\">\n",
       "  <thead>\n",
       "    <tr style=\"text-align: right;\">\n",
       "      <th></th>\n",
       "      <th>foo</th>\n",
       "      <th>A</th>\n",
       "      <th>B</th>\n",
       "      <th>C</th>\n",
       "    </tr>\n",
       "  </thead>\n",
       "  <tbody>\n",
       "    <tr>\n",
       "      <th>0</th>\n",
       "      <td>one</td>\n",
       "      <td>1</td>\n",
       "      <td>2</td>\n",
       "      <td>3</td>\n",
       "    </tr>\n",
       "    <tr>\n",
       "      <th>1</th>\n",
       "      <td>two</td>\n",
       "      <td>4</td>\n",
       "      <td>5</td>\n",
       "      <td>6</td>\n",
       "    </tr>\n",
       "  </tbody>\n",
       "</table>\n",
       "</div>"
      ],
      "text/plain": [
       "   foo  A  B  C\n",
       "0  one  1  2  3\n",
       "1  two  4  5  6"
      ]
     },
     "execution_count": 269,
     "metadata": {},
     "output_type": "execute_result"
    }
   ],
   "source": [
    "pd.DataFrame(pivot_df.to_records())"
   ]
  },
  {
   "cell_type": "code",
   "execution_count": 273,
   "metadata": {},
   "outputs": [
    {
     "data": {
      "text/plain": [
       "Index(['Unnamed: 0', 'trans_date_trans_time', 'cc_num', 'merchant', 'category', 'amt', 'first', 'last', 'gender', 'street', 'city', 'state', 'zip', 'lat', 'long', 'city_pop', 'job', 'dob', 'trans_num', 'unix_time', 'merch_lat', 'merch_long', 'is_fraud', 'prev_is_fraud'], dtype='object')"
      ]
     },
     "execution_count": 273,
     "metadata": {},
     "output_type": "execute_result"
    }
   ],
   "source": [
    "train.columns"
   ]
  },
  {
   "cell_type": "code",
   "execution_count": 280,
   "metadata": {},
   "outputs": [],
   "source": [
    "agg_df = train.groupby(['is_fraud','prev_is_fraud'], as_index=False)\\\n",
    "            .aggregate({'unix_time' : 'count'})\\\n",
    "            .rename(columns = {'unix_time': 'cnt'})"
   ]
  },
  {
   "cell_type": "code",
   "execution_count": 281,
   "metadata": {},
   "outputs": [
    {
     "data": {
      "text/html": [
       "<div>\n",
       "<style scoped>\n",
       "    .dataframe tbody tr th:only-of-type {\n",
       "        vertical-align: middle;\n",
       "    }\n",
       "\n",
       "    .dataframe tbody tr th {\n",
       "        vertical-align: top;\n",
       "    }\n",
       "\n",
       "    .dataframe thead th {\n",
       "        text-align: right;\n",
       "    }\n",
       "</style>\n",
       "<table border=\"1\" class=\"dataframe\">\n",
       "  <thead>\n",
       "    <tr style=\"text-align: right;\">\n",
       "      <th></th>\n",
       "      <th>is_fraud</th>\n",
       "      <th>prev_is_fraud</th>\n",
       "      <th>cnt</th>\n",
       "    </tr>\n",
       "  </thead>\n",
       "  <tbody>\n",
       "    <tr>\n",
       "      <th>0</th>\n",
       "      <td>0</td>\n",
       "      <td>0.0</td>\n",
       "      <td>992870</td>\n",
       "    </tr>\n",
       "    <tr>\n",
       "      <th>1</th>\n",
       "      <td>0</td>\n",
       "      <td>1.0</td>\n",
       "      <td>521</td>\n",
       "    </tr>\n",
       "    <tr>\n",
       "      <th>2</th>\n",
       "      <td>1</td>\n",
       "      <td>0.0</td>\n",
       "      <td>523</td>\n",
       "    </tr>\n",
       "    <tr>\n",
       "      <th>3</th>\n",
       "      <td>1</td>\n",
       "      <td>1.0</td>\n",
       "      <td>5123</td>\n",
       "    </tr>\n",
       "  </tbody>\n",
       "</table>\n",
       "</div>"
      ],
      "text/plain": [
       "   is_fraud  prev_is_fraud     cnt\n",
       "0         0            0.0  992870\n",
       "1         0            1.0     521\n",
       "2         1            0.0     523\n",
       "3         1            1.0    5123"
      ]
     },
     "execution_count": 281,
     "metadata": {},
     "output_type": "execute_result"
    }
   ],
   "source": [
    "agg_df"
   ]
  },
  {
   "cell_type": "code",
   "execution_count": 285,
   "metadata": {},
   "outputs": [
    {
     "data": {
      "text/html": [
       "<div>\n",
       "<style scoped>\n",
       "    .dataframe tbody tr th:only-of-type {\n",
       "        vertical-align: middle;\n",
       "    }\n",
       "\n",
       "    .dataframe tbody tr th {\n",
       "        vertical-align: top;\n",
       "    }\n",
       "\n",
       "    .dataframe thead th {\n",
       "        text-align: right;\n",
       "    }\n",
       "</style>\n",
       "<table border=\"1\" class=\"dataframe\">\n",
       "  <thead>\n",
       "    <tr style=\"text-align: right;\">\n",
       "      <th></th>\n",
       "      <th>Unnamed: 0</th>\n",
       "      <th>trans_date_trans_time</th>\n",
       "      <th>cc_num</th>\n",
       "      <th>merchant</th>\n",
       "      <th>category</th>\n",
       "      <th>amt</th>\n",
       "      <th>first</th>\n",
       "      <th>last</th>\n",
       "      <th>gender</th>\n",
       "      <th>street</th>\n",
       "      <th>city</th>\n",
       "      <th>state</th>\n",
       "      <th>zip</th>\n",
       "      <th>lat</th>\n",
       "      <th>long</th>\n",
       "      <th>city_pop</th>\n",
       "      <th>job</th>\n",
       "      <th>dob</th>\n",
       "      <th>trans_num</th>\n",
       "      <th>unix_time</th>\n",
       "      <th>merch_lat</th>\n",
       "      <th>merch_long</th>\n",
       "      <th>is_fraud</th>\n",
       "      <th>prev_is_fraud</th>\n",
       "    </tr>\n",
       "  </thead>\n",
       "  <tbody>\n",
       "    <tr>\n",
       "      <th>1023</th>\n",
       "      <td>1023</td>\n",
       "      <td>2019-01-01 12:51:40</td>\n",
       "      <td>4613314721966</td>\n",
       "      <td>fraud_O'Connell, Botsford and Hand</td>\n",
       "      <td>home</td>\n",
       "      <td>71.03</td>\n",
       "      <td>Jason</td>\n",
       "      <td>Murphy</td>\n",
       "      <td>M</td>\n",
       "      <td>542 Steve Curve Suite 011</td>\n",
       "      <td>Collettsville</td>\n",
       "      <td>NC</td>\n",
       "      <td>28611</td>\n",
       "      <td>35.9946</td>\n",
       "      <td>-81.7266</td>\n",
       "      <td>885</td>\n",
       "      <td>Soil scientist</td>\n",
       "      <td>1988-09-15</td>\n",
       "      <td>ec78ae12af778ef797c8f9ee88c8eafd</td>\n",
       "      <td>1325422300</td>\n",
       "      <td>35.773439</td>\n",
       "      <td>-80.895816</td>\n",
       "      <td>0</td>\n",
       "      <td>NaN</td>\n",
       "    </tr>\n",
       "    <tr>\n",
       "      <th>2449</th>\n",
       "      <td>2449</td>\n",
       "      <td>2019-01-02 01:06:37</td>\n",
       "      <td>4613314721966</td>\n",
       "      <td>fraud_Rutherford-Mertz</td>\n",
       "      <td>grocery_pos</td>\n",
       "      <td>281.06</td>\n",
       "      <td>Jason</td>\n",
       "      <td>Murphy</td>\n",
       "      <td>M</td>\n",
       "      <td>542 Steve Curve Suite 011</td>\n",
       "      <td>Collettsville</td>\n",
       "      <td>NC</td>\n",
       "      <td>28611</td>\n",
       "      <td>35.9946</td>\n",
       "      <td>-81.7266</td>\n",
       "      <td>885</td>\n",
       "      <td>Soil scientist</td>\n",
       "      <td>1988-09-15</td>\n",
       "      <td>e8a81877ae9a0a7f883e15cb39dc4022</td>\n",
       "      <td>1325466397</td>\n",
       "      <td>36.430124</td>\n",
       "      <td>-81.179483</td>\n",
       "      <td>1</td>\n",
       "      <td>0.0</td>\n",
       "    </tr>\n",
       "    <tr>\n",
       "      <th>2546</th>\n",
       "      <td>2546</td>\n",
       "      <td>2019-01-02 03:38:03</td>\n",
       "      <td>4613314721966</td>\n",
       "      <td>fraud_Erdman-Kertzmann</td>\n",
       "      <td>gas_transport</td>\n",
       "      <td>7.03</td>\n",
       "      <td>Jason</td>\n",
       "      <td>Murphy</td>\n",
       "      <td>M</td>\n",
       "      <td>542 Steve Curve Suite 011</td>\n",
       "      <td>Collettsville</td>\n",
       "      <td>NC</td>\n",
       "      <td>28611</td>\n",
       "      <td>35.9946</td>\n",
       "      <td>-81.7266</td>\n",
       "      <td>885</td>\n",
       "      <td>Soil scientist</td>\n",
       "      <td>1988-09-15</td>\n",
       "      <td>397894a5c4c02e3c61c784001f0f14e4</td>\n",
       "      <td>1325475483</td>\n",
       "      <td>35.909292</td>\n",
       "      <td>-82.091010</td>\n",
       "      <td>1</td>\n",
       "      <td>1.0</td>\n",
       "    </tr>\n",
       "    <tr>\n",
       "      <th>2937</th>\n",
       "      <td>2937</td>\n",
       "      <td>2019-01-02 13:38:08</td>\n",
       "      <td>4613314721966</td>\n",
       "      <td>fraud_Medhurst PLC</td>\n",
       "      <td>shopping_net</td>\n",
       "      <td>844.80</td>\n",
       "      <td>Jason</td>\n",
       "      <td>Murphy</td>\n",
       "      <td>M</td>\n",
       "      <td>542 Steve Curve Suite 011</td>\n",
       "      <td>Collettsville</td>\n",
       "      <td>NC</td>\n",
       "      <td>28611</td>\n",
       "      <td>35.9946</td>\n",
       "      <td>-81.7266</td>\n",
       "      <td>885</td>\n",
       "      <td>Soil scientist</td>\n",
       "      <td>1988-09-15</td>\n",
       "      <td>248c2746e78f2ec713df51254ff1b302</td>\n",
       "      <td>1325511488</td>\n",
       "      <td>35.987802</td>\n",
       "      <td>-81.254332</td>\n",
       "      <td>1</td>\n",
       "      <td>1.0</td>\n",
       "    </tr>\n",
       "    <tr>\n",
       "      <th>3527</th>\n",
       "      <td>3527</td>\n",
       "      <td>2019-01-02 23:52:08</td>\n",
       "      <td>4613314721966</td>\n",
       "      <td>fraud_Ruecker Group</td>\n",
       "      <td>misc_net</td>\n",
       "      <td>843.91</td>\n",
       "      <td>Jason</td>\n",
       "      <td>Murphy</td>\n",
       "      <td>M</td>\n",
       "      <td>542 Steve Curve Suite 011</td>\n",
       "      <td>Collettsville</td>\n",
       "      <td>NC</td>\n",
       "      <td>28611</td>\n",
       "      <td>35.9946</td>\n",
       "      <td>-81.7266</td>\n",
       "      <td>885</td>\n",
       "      <td>Soil scientist</td>\n",
       "      <td>1988-09-15</td>\n",
       "      <td>2f7d497f607396ab669c14c2abe3886f</td>\n",
       "      <td>1325548328</td>\n",
       "      <td>35.985612</td>\n",
       "      <td>-81.383306</td>\n",
       "      <td>1</td>\n",
       "      <td>1.0</td>\n",
       "    </tr>\n",
       "    <tr>\n",
       "      <th>...</th>\n",
       "      <td>...</td>\n",
       "      <td>...</td>\n",
       "      <td>...</td>\n",
       "      <td>...</td>\n",
       "      <td>...</td>\n",
       "      <td>...</td>\n",
       "      <td>...</td>\n",
       "      <td>...</td>\n",
       "      <td>...</td>\n",
       "      <td>...</td>\n",
       "      <td>...</td>\n",
       "      <td>...</td>\n",
       "      <td>...</td>\n",
       "      <td>...</td>\n",
       "      <td>...</td>\n",
       "      <td>...</td>\n",
       "      <td>...</td>\n",
       "      <td>...</td>\n",
       "      <td>...</td>\n",
       "      <td>...</td>\n",
       "      <td>...</td>\n",
       "      <td>...</td>\n",
       "      <td>...</td>\n",
       "      <td>...</td>\n",
       "    </tr>\n",
       "    <tr>\n",
       "      <th>996818</th>\n",
       "      <td>996818</td>\n",
       "      <td>2020-02-12 00:19:54</td>\n",
       "      <td>4613314721966</td>\n",
       "      <td>fraud_Botsford Ltd</td>\n",
       "      <td>shopping_pos</td>\n",
       "      <td>131.72</td>\n",
       "      <td>Jason</td>\n",
       "      <td>Murphy</td>\n",
       "      <td>M</td>\n",
       "      <td>542 Steve Curve Suite 011</td>\n",
       "      <td>Collettsville</td>\n",
       "      <td>NC</td>\n",
       "      <td>28611</td>\n",
       "      <td>35.9946</td>\n",
       "      <td>-81.7266</td>\n",
       "      <td>885</td>\n",
       "      <td>Soil scientist</td>\n",
       "      <td>1988-09-15</td>\n",
       "      <td>97a8d14b6eeef403c385d7e64518ada5</td>\n",
       "      <td>1360628394</td>\n",
       "      <td>36.144559</td>\n",
       "      <td>-82.134523</td>\n",
       "      <td>0</td>\n",
       "      <td>0.0</td>\n",
       "    </tr>\n",
       "    <tr>\n",
       "      <th>998883</th>\n",
       "      <td>998883</td>\n",
       "      <td>2020-02-13 15:51:54</td>\n",
       "      <td>4613314721966</td>\n",
       "      <td>fraud_Kunze, Larkin and Mayert</td>\n",
       "      <td>travel</td>\n",
       "      <td>527.35</td>\n",
       "      <td>Jason</td>\n",
       "      <td>Murphy</td>\n",
       "      <td>M</td>\n",
       "      <td>542 Steve Curve Suite 011</td>\n",
       "      <td>Collettsville</td>\n",
       "      <td>NC</td>\n",
       "      <td>28611</td>\n",
       "      <td>35.9946</td>\n",
       "      <td>-81.7266</td>\n",
       "      <td>885</td>\n",
       "      <td>Soil scientist</td>\n",
       "      <td>1988-09-15</td>\n",
       "      <td>8e6d1fc56b62c538b56f520a5fa814f2</td>\n",
       "      <td>1360770714</td>\n",
       "      <td>36.349221</td>\n",
       "      <td>-81.481918</td>\n",
       "      <td>0</td>\n",
       "      <td>0.0</td>\n",
       "    </tr>\n",
       "    <tr>\n",
       "      <th>998884</th>\n",
       "      <td>998884</td>\n",
       "      <td>2020-02-13 15:55:46</td>\n",
       "      <td>4613314721966</td>\n",
       "      <td>fraud_Douglas-White</td>\n",
       "      <td>entertainment</td>\n",
       "      <td>71.78</td>\n",
       "      <td>Jason</td>\n",
       "      <td>Murphy</td>\n",
       "      <td>M</td>\n",
       "      <td>542 Steve Curve Suite 011</td>\n",
       "      <td>Collettsville</td>\n",
       "      <td>NC</td>\n",
       "      <td>28611</td>\n",
       "      <td>35.9946</td>\n",
       "      <td>-81.7266</td>\n",
       "      <td>885</td>\n",
       "      <td>Soil scientist</td>\n",
       "      <td>1988-09-15</td>\n",
       "      <td>7e93e4f5a16e44275de06c8a46c35073</td>\n",
       "      <td>1360770946</td>\n",
       "      <td>35.081709</td>\n",
       "      <td>-82.349263</td>\n",
       "      <td>0</td>\n",
       "      <td>0.0</td>\n",
       "    </tr>\n",
       "    <tr>\n",
       "      <th>999706</th>\n",
       "      <td>999706</td>\n",
       "      <td>2020-02-14 06:43:28</td>\n",
       "      <td>4613314721966</td>\n",
       "      <td>fraud_Deckow-O'Conner</td>\n",
       "      <td>grocery_pos</td>\n",
       "      <td>96.96</td>\n",
       "      <td>Jason</td>\n",
       "      <td>Murphy</td>\n",
       "      <td>M</td>\n",
       "      <td>542 Steve Curve Suite 011</td>\n",
       "      <td>Collettsville</td>\n",
       "      <td>NC</td>\n",
       "      <td>28611</td>\n",
       "      <td>35.9946</td>\n",
       "      <td>-81.7266</td>\n",
       "      <td>885</td>\n",
       "      <td>Soil scientist</td>\n",
       "      <td>1988-09-15</td>\n",
       "      <td>7a206954ad3f06447f0f723660875d30</td>\n",
       "      <td>1360824208</td>\n",
       "      <td>36.617523</td>\n",
       "      <td>-80.811790</td>\n",
       "      <td>0</td>\n",
       "      <td>0.0</td>\n",
       "    </tr>\n",
       "    <tr>\n",
       "      <th>999712</th>\n",
       "      <td>999712</td>\n",
       "      <td>2020-02-14 06:48:44</td>\n",
       "      <td>4613314721966</td>\n",
       "      <td>fraud_Goyette, Howell and Collier</td>\n",
       "      <td>shopping_pos</td>\n",
       "      <td>136.42</td>\n",
       "      <td>Jason</td>\n",
       "      <td>Murphy</td>\n",
       "      <td>M</td>\n",
       "      <td>542 Steve Curve Suite 011</td>\n",
       "      <td>Collettsville</td>\n",
       "      <td>NC</td>\n",
       "      <td>28611</td>\n",
       "      <td>35.9946</td>\n",
       "      <td>-81.7266</td>\n",
       "      <td>885</td>\n",
       "      <td>Soil scientist</td>\n",
       "      <td>1988-09-15</td>\n",
       "      <td>b197ace50f8cb0eddc5117b9d9d52981</td>\n",
       "      <td>1360824524</td>\n",
       "      <td>35.168625</td>\n",
       "      <td>-81.317566</td>\n",
       "      <td>0</td>\n",
       "      <td>0.0</td>\n",
       "    </tr>\n",
       "  </tbody>\n",
       "</table>\n",
       "<p>1170 rows × 24 columns</p>\n",
       "</div>"
      ],
      "text/plain": [
       "        Unnamed: 0 trans_date_trans_time         cc_num                            merchant       category     amt  first    last gender                     street           city state    zip      lat     long  city_pop             job         dob                         trans_num   unix_time  merch_lat  merch_long  is_fraud  prev_is_fraud\n",
       "1023          1023   2019-01-01 12:51:40  4613314721966  fraud_O'Connell, Botsford and Hand           home   71.03  Jason  Murphy      M  542 Steve Curve Suite 011  Collettsville    NC  28611  35.9946 -81.7266       885  Soil scientist  1988-09-15  ec78ae12af778ef797c8f9ee88c8eafd  1325422300  35.773439  -80.895816         0            NaN\n",
       "2449          2449   2019-01-02 01:06:37  4613314721966              fraud_Rutherford-Mertz    grocery_pos  281.06  Jason  Murphy      M  542 Steve Curve Suite 011  Collettsville    NC  28611  35.9946 -81.7266       885  Soil scientist  1988-09-15  e8a81877ae9a0a7f883e15cb39dc4022  1325466397  36.430124  -81.179483         1            0.0\n",
       "2546          2546   2019-01-02 03:38:03  4613314721966              fraud_Erdman-Kertzmann  gas_transport    7.03  Jason  Murphy      M  542 Steve Curve Suite 011  Collettsville    NC  28611  35.9946 -81.7266       885  Soil scientist  1988-09-15  397894a5c4c02e3c61c784001f0f14e4  1325475483  35.909292  -82.091010         1            1.0\n",
       "2937          2937   2019-01-02 13:38:08  4613314721966                  fraud_Medhurst PLC   shopping_net  844.80  Jason  Murphy      M  542 Steve Curve Suite 011  Collettsville    NC  28611  35.9946 -81.7266       885  Soil scientist  1988-09-15  248c2746e78f2ec713df51254ff1b302  1325511488  35.987802  -81.254332         1            1.0\n",
       "3527          3527   2019-01-02 23:52:08  4613314721966                 fraud_Ruecker Group       misc_net  843.91  Jason  Murphy      M  542 Steve Curve Suite 011  Collettsville    NC  28611  35.9946 -81.7266       885  Soil scientist  1988-09-15  2f7d497f607396ab669c14c2abe3886f  1325548328  35.985612  -81.383306         1            1.0\n",
       "...            ...                   ...            ...                                 ...            ...     ...    ...     ...    ...                        ...            ...   ...    ...      ...      ...       ...             ...         ...                               ...         ...        ...         ...       ...            ...\n",
       "996818      996818   2020-02-12 00:19:54  4613314721966                  fraud_Botsford Ltd   shopping_pos  131.72  Jason  Murphy      M  542 Steve Curve Suite 011  Collettsville    NC  28611  35.9946 -81.7266       885  Soil scientist  1988-09-15  97a8d14b6eeef403c385d7e64518ada5  1360628394  36.144559  -82.134523         0            0.0\n",
       "998883      998883   2020-02-13 15:51:54  4613314721966      fraud_Kunze, Larkin and Mayert         travel  527.35  Jason  Murphy      M  542 Steve Curve Suite 011  Collettsville    NC  28611  35.9946 -81.7266       885  Soil scientist  1988-09-15  8e6d1fc56b62c538b56f520a5fa814f2  1360770714  36.349221  -81.481918         0            0.0\n",
       "998884      998884   2020-02-13 15:55:46  4613314721966                 fraud_Douglas-White  entertainment   71.78  Jason  Murphy      M  542 Steve Curve Suite 011  Collettsville    NC  28611  35.9946 -81.7266       885  Soil scientist  1988-09-15  7e93e4f5a16e44275de06c8a46c35073  1360770946  35.081709  -82.349263         0            0.0\n",
       "999706      999706   2020-02-14 06:43:28  4613314721966               fraud_Deckow-O'Conner    grocery_pos   96.96  Jason  Murphy      M  542 Steve Curve Suite 011  Collettsville    NC  28611  35.9946 -81.7266       885  Soil scientist  1988-09-15  7a206954ad3f06447f0f723660875d30  1360824208  36.617523  -80.811790         0            0.0\n",
       "999712      999712   2020-02-14 06:48:44  4613314721966   fraud_Goyette, Howell and Collier   shopping_pos  136.42  Jason  Murphy      M  542 Steve Curve Suite 011  Collettsville    NC  28611  35.9946 -81.7266       885  Soil scientist  1988-09-15  b197ace50f8cb0eddc5117b9d9d52981  1360824524  35.168625  -81.317566         0            0.0\n",
       "\n",
       "[1170 rows x 24 columns]"
      ]
     },
     "execution_count": 285,
     "metadata": {},
     "output_type": "execute_result"
    }
   ],
   "source": [
    "train.loc[train['cc_num']==4613314721966,:]"
   ]
  },
  {
   "cell_type": "code",
   "execution_count": null,
   "metadata": {},
   "outputs": [],
   "source": []
  }
 ],
 "metadata": {
  "kernelspec": {
   "display_name": "Python 3",
   "language": "python",
   "name": "python3"
  },
  "language_info": {
   "codemirror_mode": {
    "name": "ipython",
    "version": 3
   },
   "file_extension": ".py",
   "mimetype": "text/x-python",
   "name": "python",
   "nbconvert_exporter": "python",
   "pygments_lexer": "ipython3",
   "version": "3.7.6"
  }
 },
 "nbformat": 4,
 "nbformat_minor": 4
}
