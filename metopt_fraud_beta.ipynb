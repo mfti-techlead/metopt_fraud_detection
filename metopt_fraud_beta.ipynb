{
 "cells": [
  {
   "cell_type": "code",
   "execution_count": null,
   "metadata": {},
   "outputs": [],
   "source": [
    "# Ссылка на соревнование https://www.kaggle.com/kartik2112/fraud-detection"
   ]
  },
  {
   "cell_type": "code",
   "execution_count": null,
   "metadata": {},
   "outputs": [],
   "source": [
    "#!pip install xgboost\n",
    "#!pip install scikit-plot"
   ]
  },
  {
   "cell_type": "code",
   "execution_count": 1,
   "metadata": {},
   "outputs": [],
   "source": [
    "import pandas as pd\n",
    "import numpy as np\n",
    "import matplotlib.pyplot as plt\n",
    "from sklearn import preprocessing\n",
    "import pandasql as ps\n",
    "from varname import nameof\n",
    "\n",
    "from h3 import h3\n",
    "from geojson.feature import *\n",
    "import json\n",
    "from folium import Map, Marker, GeoJson\n",
    "from folium.plugins import MarkerCluster\n",
    "import branca.colormap as cm\n",
    "from branca.colormap import linear\n",
    "import folium\n",
    "\n",
    "from math import sin, cos, sqrt, atan2, radians\n",
    "\n",
    "pd.set_option('display.max_rows', 500)\n",
    "pd.set_option('display.max_columns', 500)\n",
    "pd.set_option('display.width', 1000)"
   ]
  },
  {
   "cell_type": "markdown",
   "metadata": {},
   "source": [
    "Выполним загрузку обучающей выборки"
   ]
  },
  {
   "cell_type": "code",
   "execution_count": 2,
   "metadata": {},
   "outputs": [],
   "source": [
    "train = pd.read_csv('fraudTrain.csv')"
   ]
  },
  {
   "cell_type": "code",
   "execution_count": 3,
   "metadata": {},
   "outputs": [
    {
     "data": {
      "text/plain": [
       "Index(['Unnamed: 0', 'trans_date_trans_time', 'cc_num', 'merchant', 'category', 'amt', 'first', 'last', 'gender', 'street', 'city', 'state', 'zip', 'lat', 'long', 'city_pop', 'job', 'dob', 'trans_num', 'unix_time', 'merch_lat', 'merch_long', 'is_fraud'], dtype='object')"
      ]
     },
     "execution_count": 3,
     "metadata": {},
     "output_type": "execute_result"
    }
   ],
   "source": [
    "train.columns"
   ]
  },
  {
   "cell_type": "code",
   "execution_count": null,
   "metadata": {},
   "outputs": [],
   "source": [
    "train.head()"
   ]
  },
  {
   "cell_type": "code",
   "execution_count": null,
   "metadata": {},
   "outputs": [],
   "source": [
    "train.dtypes"
   ]
  },
  {
   "cell_type": "code",
   "execution_count": null,
   "metadata": {},
   "outputs": [],
   "source": [
    "train.shape"
   ]
  },
  {
   "cell_type": "markdown",
   "metadata": {},
   "source": [
    "Выполним оценку баланса классов"
   ]
  },
  {
   "cell_type": "code",
   "execution_count": null,
   "metadata": {},
   "outputs": [],
   "source": [
    "train.groupby('is_fraud').count()"
   ]
  },
  {
   "cell_type": "code",
   "execution_count": null,
   "metadata": {},
   "outputs": [],
   "source": [
    "train.nunique()"
   ]
  },
  {
   "cell_type": "code",
   "execution_count": null,
   "metadata": {},
   "outputs": [],
   "source": [
    "train.isna().sum()"
   ]
  },
  {
   "cell_type": "code",
   "execution_count": null,
   "metadata": {},
   "outputs": [],
   "source": [
    "transaction_dynamycs = ps.sqldf(''' select substr(trans_date_trans_time,1,7) year_month, count(*) transactions_num,  count(case when is_fraud = 1 then 1 end) fraud_transactions_num,\n",
    "round(100 * cast(count(case when is_fraud = 1 then 1 end) as float) / cast(count(*) as float),5) fraud_share \n",
    "from train\n",
    "group by substr(trans_date_trans_time,1,7)\n",
    "order by 1\n",
    "''', locals())"
   ]
  },
  {
   "cell_type": "code",
   "execution_count": null,
   "metadata": {},
   "outputs": [],
   "source": [
    "transaction_dynamycs"
   ]
  },
  {
   "cell_type": "code",
   "execution_count": null,
   "metadata": {
    "scrolled": true
   },
   "outputs": [],
   "source": [
    "plt.plot(list(transaction_dynamycs.transactions_num))\n",
    "plt.xlabel(\"Период\")\n",
    "plt.ylabel(\"Количество транзакций\")\n",
    "plt.xticks(range(0,len(list(transaction_dynamycs.year_month))),\n",
    "           list(transaction_dynamycs.year_month), rotation=90)\n",
    "plt.show()"
   ]
  },
  {
   "cell_type": "code",
   "execution_count": null,
   "metadata": {},
   "outputs": [],
   "source": [
    "plt.plot(list(transaction_dynamycs.fraud_transactions_num))\n",
    "plt.xlabel(\"Период\")\n",
    "plt.ylabel(\"Количество фродовых транзакций\")\n",
    "plt.xticks(range(0,len(list(transaction_dynamycs.year_month))),\n",
    "           list(transaction_dynamycs.year_month), rotation=90)\n",
    "plt.show()"
   ]
  },
  {
   "cell_type": "code",
   "execution_count": null,
   "metadata": {},
   "outputs": [],
   "source": [
    "plt.plot(list(transaction_dynamycs.fraud_share))\n",
    "plt.xlabel(\"Период\")\n",
    "plt.ylabel(\"Доля фродовых транзакций, %\")\n",
    "plt.xticks(range(0,len(list(transaction_dynamycs.year_month))),\n",
    "           list(transaction_dynamycs.year_month), rotation=90)\n",
    "plt.show()"
   ]
  },
  {
   "cell_type": "code",
   "execution_count": 4,
   "metadata": {},
   "outputs": [],
   "source": [
    "def calc_distance(lat1, long1, lat2, long2):\n",
    "    R = 6373.0 # approximate radius of earth in km\n",
    "    lat1 = radians(lat1)\n",
    "    lon1 = radians(long1)\n",
    "    lat2 = radians(lat2)\n",
    "    lon2 = radians(long2)\n",
    "    dlon = lon2 - lon1\n",
    "    dlat = lat2 - lat1\n",
    "    a = sin(dlat / 2)**2 + cos(lat1) * cos(lat2) * sin(dlon / 2)**2\n",
    "    c = 2 * atan2(sqrt(a), sqrt(1 - a))\n",
    "    distance = R * c\n",
    "    return distance"
   ]
  },
  {
   "cell_type": "code",
   "execution_count": 5,
   "metadata": {},
   "outputs": [],
   "source": [
    "def describe_df(df):\n",
    "    for i in range(X.shape[1]):\n",
    "        print('''\n",
    "              Col. №''' + str(i) + '. Name:' + X.columns[i])\n",
    "        print(X.dtypes[i])\n",
    "        if X.dtypes[i] == 'O':\n",
    "            print(X.iloc[:,i].unique())\n",
    "        print(X.iloc[:,i].describe)"
   ]
  },
  {
   "cell_type": "code",
   "execution_count": 6,
   "metadata": {},
   "outputs": [],
   "source": [
    "def get_feature_str(feature_name, target_name, df):\n",
    "    agg_df = df.groupby([feature_name,target_name], as_index=False)\\\n",
    "            .aggregate({'unix_time' : 'count'})\\\n",
    "            .rename(columns = {'unix_time': 'cnt'})\n",
    "    pivot_df = agg_df.pivot(index=feature_name, columns=target_name).fillna(0)\n",
    "    flat_df = pd.DataFrame(pivot_df.to_records())\n",
    "    flat_df.columns = [feature_name, 'target_0', 'target_1']\n",
    "    flat_df['target_share'] = flat_df['target_1'] / (flat_df['target_0'] + flat_df['target_1'])\n",
    "    flat_df.sort_values(by='target_share', ascending=False, inplace = True)\n",
    "    flat_df.columns = [feature_name, feature_name + '_target_0_cnt', feature_name + '_target_1_cnt', feature_name + '_target_share']\n",
    "    flat_df = flat_df.drop(feature_name + '_target_0_cnt', axis = 1)\n",
    "    return flat_df"
   ]
  },
  {
   "cell_type": "code",
   "execution_count": 7,
   "metadata": {},
   "outputs": [],
   "source": [
    "def one_hot_encode(df, col_name):\n",
    "    for i in list(col_name):\n",
    "        one_hot = pd.get_dummies(df[i])\n",
    "        one_hot.columns = i + '_' + one_hot.columns\n",
    "        df = df.drop(i, axis = 1)\n",
    "        df = df.join(one_hot)\n",
    "    return df"
   ]
  },
  {
   "cell_type": "code",
   "execution_count": 8,
   "metadata": {},
   "outputs": [],
   "source": [
    "train['person_name'] = train['first'] + ' ' + train['last']"
   ]
  },
  {
   "cell_type": "code",
   "execution_count": 9,
   "metadata": {},
   "outputs": [],
   "source": [
    "train['trans_hour'] = train['trans_date_trans_time'].str[11:13]"
   ]
  },
  {
   "cell_type": "code",
   "execution_count": 10,
   "metadata": {},
   "outputs": [],
   "source": [
    "train['trans_dttm'] = pd.to_datetime(train['trans_date_trans_time'])"
   ]
  },
  {
   "cell_type": "code",
   "execution_count": 11,
   "metadata": {},
   "outputs": [],
   "source": [
    "train['dob'] = pd.to_datetime(train['dob'])\n",
    "train['dob'] = train['dob'].astype('int64') // 10**9"
   ]
  },
  {
   "cell_type": "code",
   "execution_count": 12,
   "metadata": {},
   "outputs": [],
   "source": [
    "train['trans_week_day'] = train['trans_dttm'].apply(lambda x: x.strftime('%A'))"
   ]
  },
  {
   "cell_type": "code",
   "execution_count": 13,
   "metadata": {},
   "outputs": [],
   "source": [
    "train['trans_coords_hex_id'] = train.apply(lambda row: h3.geo_to_h3(row[\"merch_lat\"], row[\"merch_long\"], 3), axis = 1)"
   ]
  },
  {
   "cell_type": "code",
   "execution_count": 14,
   "metadata": {},
   "outputs": [],
   "source": [
    "train['person_coords_hex_id'] = train.apply(lambda row: h3.geo_to_h3(row[\"lat\"], row[\"long\"], 3), axis = 1)"
   ]
  },
  {
   "cell_type": "code",
   "execution_count": 15,
   "metadata": {},
   "outputs": [
    {
     "name": "stdout",
     "output_type": "stream",
     "text": [
      "Wall time: 1min 18s\n"
     ]
    }
   ],
   "source": [
    "%%time\n",
    "train['trans_distance'] = train.apply(lambda row: calc_distance(row[\"lat\"], row[\"long\"], row[\"merch_lat\"], row[\"merch_long\"]), axis = 1)"
   ]
  },
  {
   "cell_type": "code",
   "execution_count": 16,
   "metadata": {},
   "outputs": [],
   "source": [
    "train_copy = train.copy(deep=True)"
   ]
  },
  {
   "cell_type": "code",
   "execution_count": null,
   "metadata": {},
   "outputs": [],
   "source": [
    "for i in ['person_name', 'first', 'last', 'cc_num', 'dob', 'zip', 'gender', 'street', 'city', 'state', 'zip', 'lat', 'long', 'city_pop', 'job', 'merchant', 'category']:    \n",
    "    feature_str = get_feature_str(i, 'is_fraud', train)\n",
    "    print('Feature name: ' + i)\n",
    "    print('Feature shape: ' + str(feature_str.shape))\n",
    "    print('Feature structure')\n",
    "    print(feature_str.head(25))"
   ]
  },
  {
   "cell_type": "code",
   "execution_count": 17,
   "metadata": {},
   "outputs": [
    {
     "name": "stdout",
     "output_type": "stream",
     "text": [
      "person_name\n",
      "cc_num\n",
      "dob\n",
      "job\n",
      "gender\n",
      "zip\n",
      "street\n",
      "city\n",
      "state\n",
      "person_coords_hex_id\n",
      "trans_hour\n",
      "trans_week_day\n",
      "trans_coords_hex_id\n",
      "merchant\n",
      "category\n"
     ]
    }
   ],
   "source": [
    "feature_list = ['person_name', 'cc_num', 'dob', 'job', 'gender',                      # person\n",
    "                'zip', 'street', 'city', 'state', 'person_coords_hex_id',             # person geo\n",
    "                'trans_hour', 'trans_week_day', 'trans_coords_hex_id',                # transaction\n",
    "                'merchant', 'category']                                               # merchant\n",
    "for feature_name in feature_list:\n",
    "    print(feature_name)\n",
    "    feature_str = get_feature_str(feature_name, 'is_fraud', train)\n",
    "    train = train.merge(feature_str, on=feature_name, how='left')"
   ]
  },
  {
   "cell_type": "code",
   "execution_count": 18,
   "metadata": {},
   "outputs": [],
   "source": [
    "train = one_hot_encode(train, ['category','gender'])"
   ]
  },
  {
   "cell_type": "code",
   "execution_count": 19,
   "metadata": {},
   "outputs": [],
   "source": [
    "cols_to_drop = ['person_name', 'first', 'last', 'cc_num', 'dob', 'job', 'lat', 'long',                    # person\n",
    "                'zip', 'street', 'city', 'state', 'city_pop', 'person_coords_hex_id', # person geo\n",
    "                'trans_hour', 'trans_week_day', 'trans_coords_hex_id', 'trans_date_trans_time',\n",
    "                'trans_num','trans_dttm', 'unix_time', 'merch_lat', 'merch_long',# transaction\n",
    "                'merchant']\n",
    "train = train.drop(cols_to_drop, axis = 1)"
   ]
  },
  {
   "cell_type": "code",
   "execution_count": null,
   "metadata": {},
   "outputs": [],
   "source": [
    "map_example = Map(location= [train.lat.mean(), train.long.mean()], zoom_start=5.5, tiles=\"cartodbpositron\", \n",
    "                #attr= '© <a href=\"http://www.openstreetmap.org/copyright\">OpenStreetMap</a> contributors © <a href=\"http://cartodb.com/attributions#basemaps\">CartoDB</a>' \n",
    "            )\n",
    "map_example"
   ]
  },
  {
   "cell_type": "code",
   "execution_count": null,
   "metadata": {},
   "outputs": [],
   "source": [
    "fraud_only = train.loc[train.is_fraud == 1,:]"
   ]
  },
  {
   "cell_type": "code",
   "execution_count": null,
   "metadata": {},
   "outputs": [],
   "source": [
    "def counts_by_hexagon(df, resolution):\n",
    "    df = df[[\"merch_lat\",\"merch_long\"]].copy(deep=True)\n",
    "    df[\"hex_id\"] = df.apply(lambda row: h3.geo_to_h3(row[\"merch_lat\"], row[\"merch_long\"], resolution), axis = 1)\n",
    "    \n",
    "    df_aggreg = df.groupby(by = \"hex_id\").size().reset_index()\n",
    "    df_aggreg.columns = [\"hex_id\", \"value\"]\n",
    "\n",
    "    df_aggreg[\"geometry\"] =  df_aggreg.hex_id.apply(lambda x: \n",
    "                                                           {    \"type\" : \"Polygon\",\n",
    "                                                                 \"coordinates\": \n",
    "                                                                [h3.h3_to_geo_boundary(h=x,geo_json=True)]\n",
    "                                                            }\n",
    "                                                        )\n",
    "    \n",
    "    return df_aggreg"
   ]
  },
  {
   "cell_type": "code",
   "execution_count": null,
   "metadata": {},
   "outputs": [],
   "source": [
    "def hexagons_dataframe_to_geojson(df_hex, file_output = None):\n",
    "    \n",
    "    '''Produce the GeoJSON for a dataframe that has a geometry column in geojson format already, along with the columns hex_id and value '''\n",
    "    \n",
    "    list_features = []\n",
    "    \n",
    "    for i,row in df_hex.iterrows():\n",
    "        feature = Feature(geometry = row[\"geometry\"] , id=row[\"hex_id\"], properties = {\"value\" : row[\"value\"]})\n",
    "        list_features.append(feature)\n",
    "        \n",
    "    feat_collection = FeatureCollection(list_features)\n",
    "    \n",
    "    geojson_result = json.dumps(feat_collection)\n",
    "    \n",
    "    #optionally write to file\n",
    "    if file_output is not None:\n",
    "        with open(file_output,\"w\") as f:\n",
    "            json.dump(feat_collection,f)\n",
    "    \n",
    "    return geojson_result"
   ]
  },
  {
   "cell_type": "code",
   "execution_count": null,
   "metadata": {},
   "outputs": [],
   "source": [
    "def choropleth_map(df_aggreg, location, border_color = 'black', fill_opacity = 0.6, initial_map = None, with_legend = False,\n",
    "                   kind = \"linear\"):\n",
    "    #colormap\n",
    "    min_value = df_aggreg[\"value\"].min()\n",
    "    max_value = df_aggreg[\"value\"].max()\n",
    "    m = round ((min_value + max_value ) / 2 , 0)\n",
    "    \n",
    "    #take resolution from the first row\n",
    "    res = h3.h3_get_resolution(df_aggreg.loc[0,'hex_id'])\n",
    "    \n",
    "    if initial_map is None:\n",
    "        initial_map = Map(location=location, zoom_start=11, tiles=\"cartodbpositron\", \n",
    "                attr= '© <a href=\"http://www.openstreetmap.org/copyright\">OpenStreetMap</a> contributors © <a href=\"http://cartodb.com/attributions#basemaps\">CartoDB</a>' \n",
    "            )\n",
    "        \n",
    "\n",
    "    #the colormap \n",
    "    #color names accepted https://github.com/python-visualization/branca/blob/master/branca/_cnames.json\n",
    "    if kind == \"linear\":\n",
    "        custom_cm = cm.LinearColormap(['green','yellow','red'], vmin=min_value, vmax=max_value)\n",
    "    elif kind == \"outlier\":\n",
    "        #for outliers, values would be -11,0,1\n",
    "        custom_cm = cm.LinearColormap(['blue','white','red'], vmin=min_value, vmax=max_value)\n",
    "    elif kind == \"filled_nulls\":\n",
    "        custom_cm = cm.LinearColormap(['sienna','green','yellow','red'], \n",
    "                                      index=[0,min_value,m,max_value],vmin=min_value,vmax=max_value)\n",
    "   \n",
    "\n",
    "    #create geojson data from dataframe\n",
    "    geojson_data = hexagons_dataframe_to_geojson(df_hex = df_aggreg)\n",
    "    \n",
    "    #plot on map\n",
    "    name_layer = \"Choropleth \" + str(res)\n",
    "    if kind != \"linear\":\n",
    "        name_layer = name_layer + kind\n",
    "        \n",
    "    GeoJson(\n",
    "        geojson_data,\n",
    "        style_function=lambda feature: {\n",
    "            'fillColor': custom_cm(feature['properties']['value']),\n",
    "            'color': border_color,\n",
    "            'weight': 1,\n",
    "            'fillOpacity': fill_opacity \n",
    "        }, \n",
    "        name = name_layer\n",
    "    ).add_to(initial_map)\n",
    "\n",
    "    #add legend (not recommended if multiple layers)\n",
    "    if with_legend == True:\n",
    "        custom_cm.add_to(initial_map)\n",
    "    \n",
    "    \n",
    "    \n",
    "    return initial_map"
   ]
  },
  {
   "cell_type": "code",
   "execution_count": null,
   "metadata": {},
   "outputs": [],
   "source": [
    "%%time\n",
    "df_aggreg = counts_by_hexagon(fraud_only, 3).sort_values(by='value', ascending=False)"
   ]
  },
  {
   "cell_type": "code",
   "execution_count": null,
   "metadata": {},
   "outputs": [],
   "source": [
    "m_hex = choropleth_map(df_aggreg = df_aggreg, location = [train.lat.mean(), train.long.mean()], with_legend = True)\n",
    "#m_hex.save('source/3_choropleth_counts_by_hexid9.html')\n",
    "m_hex"
   ]
  },
  {
   "cell_type": "code",
   "execution_count": null,
   "metadata": {},
   "outputs": [],
   "source": [
    "sample_none_fraud = train.loc[train.is_fraud == 0,:].sample(n=1000000, random_state=123)"
   ]
  },
  {
   "cell_type": "code",
   "execution_count": null,
   "metadata": {},
   "outputs": [],
   "source": [
    "sample_fraud = train.loc[train.is_fraud == 1,:].sample(n=7500, random_state=123)"
   ]
  },
  {
   "cell_type": "code",
   "execution_count": null,
   "metadata": {},
   "outputs": [],
   "source": [
    "train = sample_none_fraud.append(sample_fraud)"
   ]
  },
  {
   "cell_type": "code",
   "execution_count": null,
   "metadata": {},
   "outputs": [],
   "source": [
    "train.shape"
   ]
  },
  {
   "cell_type": "code",
   "execution_count": 21,
   "metadata": {},
   "outputs": [],
   "source": [
    "#X = train.loc[:,['category','amt','gender','state','zip','lat','long','city_pop','dob','unix_time','merch_lat','merch_long']]\n",
    "#X = train.loc[:,['category','amt','gender','state','lat','long','city_pop','dob','unix_time','merch_lat','merch_long']]\n",
    "X = train.drop('is_fraud', axis = 1)\n",
    "y = train.loc[:,'is_fraud']"
   ]
  },
  {
   "cell_type": "code",
   "execution_count": null,
   "metadata": {},
   "outputs": [],
   "source": [
    "# normalize the data attributes\n",
    "normalized_X = preprocessing.normalize(X)"
   ]
  },
  {
   "cell_type": "code",
   "execution_count": null,
   "metadata": {},
   "outputs": [],
   "source": [
    "# standardize the data attributes\n",
    "standardized_X = preprocessing.scale(X)"
   ]
  },
  {
   "cell_type": "code",
   "execution_count": null,
   "metadata": {},
   "outputs": [],
   "source": [
    "from sklearn import metrics\n",
    "from sklearn.linear_model import LogisticRegression\n",
    "model = LogisticRegression()"
   ]
  },
  {
   "cell_type": "code",
   "execution_count": null,
   "metadata": {},
   "outputs": [],
   "source": [
    "normalized_X"
   ]
  },
  {
   "cell_type": "code",
   "execution_count": null,
   "metadata": {},
   "outputs": [],
   "source": [
    "#model.fit(standardized_X, y)\n",
    "#model.fit(normalized_X, y)\n",
    "model.fit(X, y)"
   ]
  },
  {
   "cell_type": "code",
   "execution_count": null,
   "metadata": {},
   "outputs": [],
   "source": [
    "print(model)\n",
    "# make predictions\n",
    "expected = y\n",
    "predicted = model.predict(X)\n",
    "# summarize the fit of the model\n",
    "print(metrics.classification_report(expected, predicted))\n",
    "print(metrics.confusion_matrix(expected, predicted))"
   ]
  },
  {
   "cell_type": "code",
   "execution_count": null,
   "metadata": {},
   "outputs": [],
   "source": []
  },
  {
   "cell_type": "code",
   "execution_count": null,
   "metadata": {},
   "outputs": [],
   "source": [
    "predicted"
   ]
  },
  {
   "cell_type": "code",
   "execution_count": null,
   "metadata": {},
   "outputs": [],
   "source": []
  },
  {
   "cell_type": "code",
   "execution_count": null,
   "metadata": {},
   "outputs": [],
   "source": [
    "from sklearn.metrics import plot_confusion_matrix\n",
    "plot_confusion_matrix(model, X, y)"
   ]
  },
  {
   "cell_type": "code",
   "execution_count": null,
   "metadata": {},
   "outputs": [],
   "source": [
    "test = pd.read_csv('fraudTest.csv')"
   ]
  },
  {
   "cell_type": "code",
   "execution_count": null,
   "metadata": {},
   "outputs": [],
   "source": [
    "#X = train.loc[:,['category','amt','gender','state','zip','lat','long','city_pop','dob','unix_time','merch_lat','merch_long']]\n",
    "X_test = test.loc[:,['category','amt','gender','lat','long','city_pop','dob','unix_time','merch_lat','merch_long']]\n",
    "y_test = test.loc[:,'is_fraud']"
   ]
  },
  {
   "cell_type": "code",
   "execution_count": null,
   "metadata": {},
   "outputs": [],
   "source": [
    "X_test.dob = pd.to_datetime(X_test.dob)\n",
    "X_test['dob'] = X_test.dob.astype('int64') // 10**9"
   ]
  },
  {
   "cell_type": "code",
   "execution_count": null,
   "metadata": {},
   "outputs": [],
   "source": [
    "X_test = one_hot_encode(X_test, ['category','gender'])"
   ]
  },
  {
   "cell_type": "code",
   "execution_count": null,
   "metadata": {},
   "outputs": [],
   "source": [
    "X_test.dtypes"
   ]
  },
  {
   "cell_type": "code",
   "execution_count": null,
   "metadata": {},
   "outputs": [],
   "source": [
    "standardized_X = preprocessing.scale(X)"
   ]
  },
  {
   "cell_type": "code",
   "execution_count": null,
   "metadata": {},
   "outputs": [],
   "source": [
    "from sklearn import metrics\n",
    "from sklearn.tree import DecisionTreeClassifier\n",
    "# fit a CART model to the data\n",
    "#model = DecisionTreeClassifier()\n",
    "#model.fit(X, y)\n",
    "print(model)\n",
    "# make predictions\n",
    "expected = y_test\n",
    "predicted = model.predict(X_test)\n",
    "# summarize the fit of the model\n",
    "print(metrics.classification_report(expected, predicted))\n",
    "print(metrics.confusion_matrix(expected, predicted))"
   ]
  },
  {
   "cell_type": "code",
   "execution_count": null,
   "metadata": {},
   "outputs": [],
   "source": [
    "print(metrics.confusion_matrix(expected, predicted))"
   ]
  },
  {
   "cell_type": "code",
   "execution_count": null,
   "metadata": {},
   "outputs": [],
   "source": [
    "test"
   ]
  },
  {
   "cell_type": "code",
   "execution_count": null,
   "metadata": {},
   "outputs": [],
   "source": [
    "test.groupby('is_fraud').count()"
   ]
  },
  {
   "cell_type": "code",
   "execution_count": null,
   "metadata": {},
   "outputs": [],
   "source": [
    "from sklearn.metrics import plot_confusion_matrix\n",
    "plot_confusion_matrix(model, X_test, y_test)"
   ]
  },
  {
   "cell_type": "code",
   "execution_count": null,
   "metadata": {},
   "outputs": [],
   "source": []
  },
  {
   "cell_type": "code",
   "execution_count": 27,
   "metadata": {},
   "outputs": [],
   "source": [
    "from xgboost import XGBClassifier\n",
    "from sklearn.model_selection import train_test_split\n",
    "from sklearn.metrics import accuracy_score\n",
    "from sklearn import metrics"
   ]
  },
  {
   "cell_type": "code",
   "execution_count": 23,
   "metadata": {},
   "outputs": [],
   "source": [
    "model = XGBClassifier()"
   ]
  },
  {
   "cell_type": "code",
   "execution_count": 24,
   "metadata": {},
   "outputs": [
    {
     "data": {
      "text/plain": [
       "XGBClassifier(base_score=0.5, booster=None, colsample_bylevel=1,\n",
       "              colsample_bynode=1, colsample_bytree=1, gamma=0, gpu_id=-1,\n",
       "              importance_type='gain', interaction_constraints=None,\n",
       "              learning_rate=0.300000012, max_delta_step=0, max_depth=6,\n",
       "              min_child_weight=1, missing=nan, monotone_constraints=None,\n",
       "              n_estimators=100, n_jobs=0, num_parallel_tree=1,\n",
       "              objective='binary:logistic', random_state=0, reg_alpha=0,\n",
       "              reg_lambda=1, scale_pos_weight=1, subsample=1, tree_method=None,\n",
       "              validate_parameters=False, verbosity=None)"
      ]
     },
     "execution_count": 24,
     "metadata": {},
     "output_type": "execute_result"
    }
   ],
   "source": [
    "model.fit(X, y)"
   ]
  },
  {
   "cell_type": "code",
   "execution_count": null,
   "metadata": {},
   "outputs": [],
   "source": [
    "#y_pred = model.predict(X_test)\n",
    "#predictions = [round(value) for value in y_pred]"
   ]
  },
  {
   "cell_type": "code",
   "execution_count": 25,
   "metadata": {},
   "outputs": [
    {
     "name": "stdout",
     "output_type": "stream",
     "text": [
      "XGBClassifier(base_score=0.5, booster=None, colsample_bylevel=1,\n",
      "              colsample_bynode=1, colsample_bytree=1, gamma=0, gpu_id=-1,\n",
      "              importance_type='gain', interaction_constraints=None,\n",
      "              learning_rate=0.300000012, max_delta_step=0, max_depth=6,\n",
      "              min_child_weight=1, missing=nan, monotone_constraints=None,\n",
      "              n_estimators=100, n_jobs=0, num_parallel_tree=1,\n",
      "              objective='binary:logistic', random_state=0, reg_alpha=0,\n",
      "              reg_lambda=1, scale_pos_weight=1, subsample=1, tree_method=None,\n",
      "              validate_parameters=False, verbosity=None)\n"
     ]
    }
   ],
   "source": [
    "print(model)\n",
    "# make predictions\n",
    "expected = y\n",
    "predicted = model.predict(X)"
   ]
  },
  {
   "cell_type": "code",
   "execution_count": 28,
   "metadata": {},
   "outputs": [
    {
     "name": "stdout",
     "output_type": "stream",
     "text": [
      "              precision    recall  f1-score   support\n",
      "\n",
      "           0       1.00      1.00      1.00   1289169\n",
      "           1       0.98      0.90      0.94      7506\n",
      "\n",
      "    accuracy                           1.00   1296675\n",
      "   macro avg       0.99      0.95      0.97   1296675\n",
      "weighted avg       1.00      1.00      1.00   1296675\n",
      "\n",
      "[[1289015     154]\n",
      " [    770    6736]]\n"
     ]
    }
   ],
   "source": [
    "# summarize the fit of the model\n",
    "print(metrics.classification_report(expected, predicted))\n",
    "print(metrics.confusion_matrix(expected, predicted))"
   ]
  },
  {
   "cell_type": "code",
   "execution_count": 29,
   "metadata": {},
   "outputs": [
    {
     "data": {
      "text/plain": [
       "<sklearn.metrics._plot.confusion_matrix.ConfusionMatrixDisplay at 0x2498079b148>"
      ]
     },
     "execution_count": 29,
     "metadata": {},
     "output_type": "execute_result"
    },
    {
     "data": {
      "image/png": "[encoded data removed]",
      "text/plain": [
       "<Figure size 432x288 with 2 Axes>"
      ]
     },
     "metadata": {
      "needs_background": "light"
     },
     "output_type": "display_data"
    }
   ],
   "source": [
    "from sklearn.metrics import plot_confusion_matrix\n",
    "plot_confusion_matrix(model, X, y)"
   ]
  },
  {
   "cell_type": "code",
   "execution_count": null,
   "metadata": {},
   "outputs": [],
   "source": [
    "predicted"
   ]
  },
  {
   "cell_type": "code",
   "execution_count": 30,
   "metadata": {},
   "outputs": [
    {
     "data": {
      "text/plain": [
       "array([[1., 0.],\n",
       "       [1., 0.],\n",
       "       [1., 0.],\n",
       "       ...,\n",
       "       [1., 0.],\n",
       "       [1., 0.],\n",
       "       [1., 0.]], dtype=float32)"
      ]
     },
     "execution_count": 30,
     "metadata": {},
     "output_type": "execute_result"
    }
   ],
   "source": [
    "model.predict_proba(X).round(3)"
   ]
  },
  {
   "cell_type": "code",
   "execution_count": null,
   "metadata": {},
   "outputs": [],
   "source": [
    "import scikitplot as skplt\n",
    "import matplotlib.pyplot as plt"
   ]
  },
  {
   "cell_type": "code",
   "execution_count": null,
   "metadata": {},
   "outputs": [],
   "source": [
    "y_true = y # ground truth labels\n",
    "y_probas = model.predict_proba(X) # predicted probabilities generated by sklearn classifier\n",
    "skplt.metrics.plot_roc_curve(y_true, y_probas)\n",
    "plt.show()"
   ]
  },
  {
   "cell_type": "code",
   "execution_count": null,
   "metadata": {},
   "outputs": [],
   "source": []
  }
 ],
 "metadata": {
  "kernelspec": {
   "display_name": "Python 3",
   "language": "python",
   "name": "python3"
  },
  "language_info": {
   "codemirror_mode": {
    "name": "ipython",
    "version": 3
   },
   "file_extension": ".py",
   "mimetype": "text/x-python",
   "name": "python",
   "nbconvert_exporter": "python",
   "pygments_lexer": "ipython3",
   "version": "3.7.6"
  }
 },
 "nbformat": 4,
 "nbformat_minor": 4
}
