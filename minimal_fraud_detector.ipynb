{
 "cells": [
  {
   "cell_type": "code",
   "execution_count": 278,
   "metadata": {},
   "outputs": [],
   "source": [
    "import pandas as pd\n",
    "import numpy as np\n",
    "from math import sin, cos, sqrt, atan2, radians\n",
    "import random\n",
    "from time import gmtime, strftime\n",
    "\n",
    "from xgboost import XGBClassifier\n",
    "from sklearn import metrics\n",
    "from sklearn.metrics import plot_confusion_matrix\n",
    "import shap\n",
    "\n",
    "pd.set_option('display.max_rows', 500)\n",
    "pd.set_option('display.max_columns', 500)\n",
    "pd.set_option('display.width', 1000)"
   ]
  },
  {
   "cell_type": "code",
   "execution_count": 279,
   "metadata": {},
   "outputs": [],
   "source": [
    "train = pd.read_csv('fraudTrain.csv')\n",
    "test  = pd.read_csv('fraudTest.csv')"
   ]
  },
  {
   "cell_type": "code",
   "execution_count": 280,
   "metadata": {},
   "outputs": [
    {
     "data": {
      "text/html": [
       "<div>\n",
       "<style scoped>\n",
       "    .dataframe tbody tr th:only-of-type {\n",
       "        vertical-align: middle;\n",
       "    }\n",
       "\n",
       "    .dataframe tbody tr th {\n",
       "        vertical-align: top;\n",
       "    }\n",
       "\n",
       "    .dataframe thead th {\n",
       "        text-align: right;\n",
       "    }\n",
       "</style>\n",
       "<table border=\"1\" class=\"dataframe\">\n",
       "  <thead>\n",
       "    <tr style=\"text-align: right;\">\n",
       "      <th></th>\n",
       "      <th>Unnamed: 0</th>\n",
       "      <th>trans_date_trans_time</th>\n",
       "      <th>cc_num</th>\n",
       "      <th>merchant</th>\n",
       "      <th>category</th>\n",
       "      <th>amt</th>\n",
       "      <th>first</th>\n",
       "      <th>last</th>\n",
       "      <th>gender</th>\n",
       "      <th>street</th>\n",
       "      <th>city</th>\n",
       "      <th>state</th>\n",
       "      <th>zip</th>\n",
       "      <th>lat</th>\n",
       "      <th>long</th>\n",
       "      <th>city_pop</th>\n",
       "      <th>job</th>\n",
       "      <th>dob</th>\n",
       "      <th>trans_num</th>\n",
       "      <th>unix_time</th>\n",
       "      <th>merch_lat</th>\n",
       "      <th>merch_long</th>\n",
       "      <th>is_fraud</th>\n",
       "    </tr>\n",
       "  </thead>\n",
       "  <tbody>\n",
       "    <tr>\n",
       "      <th>0</th>\n",
       "      <td>0</td>\n",
       "      <td>2019-01-01 00:00:18</td>\n",
       "      <td>2703186189652095</td>\n",
       "      <td>fraud_Rippin, Kub and Mann</td>\n",
       "      <td>misc_net</td>\n",
       "      <td>4.97</td>\n",
       "      <td>Jennifer</td>\n",
       "      <td>Banks</td>\n",
       "      <td>F</td>\n",
       "      <td>561 Perry Cove</td>\n",
       "      <td>Moravian Falls</td>\n",
       "      <td>NC</td>\n",
       "      <td>28654</td>\n",
       "      <td>36.0788</td>\n",
       "      <td>-81.1781</td>\n",
       "      <td>3495</td>\n",
       "      <td>Psychologist, counselling</td>\n",
       "      <td>1988-03-09</td>\n",
       "      <td>0b242abb623afc578575680df30655b9</td>\n",
       "      <td>1325376018</td>\n",
       "      <td>36.011293</td>\n",
       "      <td>-82.048315</td>\n",
       "      <td>0</td>\n",
       "    </tr>\n",
       "    <tr>\n",
       "      <th>1</th>\n",
       "      <td>1</td>\n",
       "      <td>2019-01-01 00:00:44</td>\n",
       "      <td>630423337322</td>\n",
       "      <td>fraud_Heller, Gutmann and Zieme</td>\n",
       "      <td>grocery_pos</td>\n",
       "      <td>107.23</td>\n",
       "      <td>Stephanie</td>\n",
       "      <td>Gill</td>\n",
       "      <td>F</td>\n",
       "      <td>43039 Riley Greens Suite 393</td>\n",
       "      <td>Orient</td>\n",
       "      <td>WA</td>\n",
       "      <td>99160</td>\n",
       "      <td>48.8878</td>\n",
       "      <td>-118.2105</td>\n",
       "      <td>149</td>\n",
       "      <td>Special educational needs teacher</td>\n",
       "      <td>1978-06-21</td>\n",
       "      <td>1f76529f8574734946361c461b024d99</td>\n",
       "      <td>1325376044</td>\n",
       "      <td>49.159047</td>\n",
       "      <td>-118.186462</td>\n",
       "      <td>0</td>\n",
       "    </tr>\n",
       "    <tr>\n",
       "      <th>2</th>\n",
       "      <td>2</td>\n",
       "      <td>2019-01-01 00:00:51</td>\n",
       "      <td>38859492057661</td>\n",
       "      <td>fraud_Lind-Buckridge</td>\n",
       "      <td>entertainment</td>\n",
       "      <td>220.11</td>\n",
       "      <td>Edward</td>\n",
       "      <td>Sanchez</td>\n",
       "      <td>M</td>\n",
       "      <td>594 White Dale Suite 530</td>\n",
       "      <td>Malad City</td>\n",
       "      <td>ID</td>\n",
       "      <td>83252</td>\n",
       "      <td>42.1808</td>\n",
       "      <td>-112.2620</td>\n",
       "      <td>4154</td>\n",
       "      <td>Nature conservation officer</td>\n",
       "      <td>1962-01-19</td>\n",
       "      <td>a1a22d70485983eac12b5b88dad1cf95</td>\n",
       "      <td>1325376051</td>\n",
       "      <td>43.150704</td>\n",
       "      <td>-112.154481</td>\n",
       "      <td>0</td>\n",
       "    </tr>\n",
       "    <tr>\n",
       "      <th>3</th>\n",
       "      <td>3</td>\n",
       "      <td>2019-01-01 00:01:16</td>\n",
       "      <td>3534093764340240</td>\n",
       "      <td>fraud_Kutch, Hermiston and Farrell</td>\n",
       "      <td>gas_transport</td>\n",
       "      <td>45.00</td>\n",
       "      <td>Jeremy</td>\n",
       "      <td>White</td>\n",
       "      <td>M</td>\n",
       "      <td>9443 Cynthia Court Apt. 038</td>\n",
       "      <td>Boulder</td>\n",
       "      <td>MT</td>\n",
       "      <td>59632</td>\n",
       "      <td>46.2306</td>\n",
       "      <td>-112.1138</td>\n",
       "      <td>1939</td>\n",
       "      <td>Patent attorney</td>\n",
       "      <td>1967-01-12</td>\n",
       "      <td>6b849c168bdad6f867558c3793159a81</td>\n",
       "      <td>1325376076</td>\n",
       "      <td>47.034331</td>\n",
       "      <td>-112.561071</td>\n",
       "      <td>0</td>\n",
       "    </tr>\n",
       "    <tr>\n",
       "      <th>4</th>\n",
       "      <td>4</td>\n",
       "      <td>2019-01-01 00:03:06</td>\n",
       "      <td>375534208663984</td>\n",
       "      <td>fraud_Keeling-Crist</td>\n",
       "      <td>misc_pos</td>\n",
       "      <td>41.96</td>\n",
       "      <td>Tyler</td>\n",
       "      <td>Garcia</td>\n",
       "      <td>M</td>\n",
       "      <td>408 Bradley Rest</td>\n",
       "      <td>Doe Hill</td>\n",
       "      <td>VA</td>\n",
       "      <td>24433</td>\n",
       "      <td>38.4207</td>\n",
       "      <td>-79.4629</td>\n",
       "      <td>99</td>\n",
       "      <td>Dance movement psychotherapist</td>\n",
       "      <td>1986-03-28</td>\n",
       "      <td>a41d7549acf90789359a9aa5346dcb46</td>\n",
       "      <td>1325376186</td>\n",
       "      <td>38.674999</td>\n",
       "      <td>-78.632459</td>\n",
       "      <td>0</td>\n",
       "    </tr>\n",
       "  </tbody>\n",
       "</table>\n",
       "</div>"
      ],
      "text/plain": [
       "   Unnamed: 0 trans_date_trans_time            cc_num                            merchant       category     amt      first     last gender                        street            city state    zip      lat      long  city_pop                                job         dob                         trans_num   unix_time  merch_lat  merch_long  is_fraud\n",
       "0           0   2019-01-01 00:00:18  2703186189652095          fraud_Rippin, Kub and Mann       misc_net    4.97   Jennifer    Banks      F                561 Perry Cove  Moravian Falls    NC  28654  36.0788  -81.1781      3495          Psychologist, counselling  1988-03-09  0b242abb623afc578575680df30655b9  1325376018  36.011293  -82.048315         0\n",
       "1           1   2019-01-01 00:00:44      630423337322     fraud_Heller, Gutmann and Zieme    grocery_pos  107.23  Stephanie     Gill      F  43039 Riley Greens Suite 393          Orient    WA  99160  48.8878 -118.2105       149  Special educational needs teacher  1978-06-21  1f76529f8574734946361c461b024d99  1325376044  49.159047 -118.186462         0\n",
       "2           2   2019-01-01 00:00:51    38859492057661                fraud_Lind-Buckridge  entertainment  220.11     Edward  Sanchez      M      594 White Dale Suite 530      Malad City    ID  83252  42.1808 -112.2620      4154        Nature conservation officer  1962-01-19  a1a22d70485983eac12b5b88dad1cf95  1325376051  43.150704 -112.154481         0\n",
       "3           3   2019-01-01 00:01:16  3534093764340240  fraud_Kutch, Hermiston and Farrell  gas_transport   45.00     Jeremy    White      M   9443 Cynthia Court Apt. 038         Boulder    MT  59632  46.2306 -112.1138      1939                    Patent attorney  1967-01-12  6b849c168bdad6f867558c3793159a81  1325376076  47.034331 -112.561071         0\n",
       "4           4   2019-01-01 00:03:06   375534208663984                 fraud_Keeling-Crist       misc_pos   41.96      Tyler   Garcia      M              408 Bradley Rest        Doe Hill    VA  24433  38.4207  -79.4629        99     Dance movement psychotherapist  1986-03-28  a41d7549acf90789359a9aa5346dcb46  1325376186  38.674999  -78.632459         0"
      ]
     },
     "execution_count": 280,
     "metadata": {},
     "output_type": "execute_result"
    }
   ],
   "source": [
    "train.head()"
   ]
  },
  {
   "cell_type": "code",
   "execution_count": 281,
   "metadata": {},
   "outputs": [],
   "source": [
    "def calc_distance(lat1, long1, lat2, long2):\n",
    "    \"\"\"Определение дистанции между точками\n",
    "    \"\"\"\n",
    "    R = 6373.0 # approximate radius of earth in km\n",
    "    lat1 = radians(lat1)\n",
    "    lon1 = radians(long1)\n",
    "    lat2 = radians(lat2)\n",
    "    lon2 = radians(long2)\n",
    "    dlon = lon2 - lon1\n",
    "    dlat = lat2 - lat1\n",
    "    a = sin(dlat / 2)**2 + cos(lat1) * cos(lat2) * sin(dlon / 2)**2\n",
    "    c = 2 * atan2(sqrt(a), sqrt(1 - a))\n",
    "    distance = R * c\n",
    "    return distance"
   ]
  },
  {
   "cell_type": "code",
   "execution_count": 282,
   "metadata": {},
   "outputs": [],
   "source": [
    "def preprocess_features_basic(df):\n",
    "    \"\"\"Функция добавляет к датафрейму аттрибуты:\n",
    "    - trans_hour     - час транзакции;\n",
    "    - trans_week_day - день недели транзакции;\n",
    "    - birth_year     - год рождения плательщика\n",
    "    - trans_distance - дистанция между местом жительства плательщика и местом транзакции\n",
    "    \"\"\"\n",
    "    print(strftime(\"%Y-%m-%d %H:%M:%S\", gmtime()) + ' Preprocess features: trans_hour, trans_dttm, dob, trans_week_day')\n",
    "    df['trans_hour'] = df['trans_date_trans_time'].str[11:13]\n",
    "    df['trans_dttm'] = pd.to_datetime(df['trans_date_trans_time'])\n",
    "    df['birth_year'] = df['dob'].str[0:4].astype('int')\n",
    "    df['trans_week_day'] = df['trans_dttm'].apply(lambda x: x.strftime('%A'))\n",
    "    print(strftime(\"%Y-%m-%d %H:%M:%S\", gmtime()) + ' Preprocess features: trans_distance')\n",
    "    df['trans_distance'] = df.apply(lambda row: calc_distance(row[\"lat\"], row[\"long\"], row[\"merch_lat\"], row[\"merch_long\"]), axis = 1)\n",
    "    return df"
   ]
  },
  {
   "cell_type": "code",
   "execution_count": 272,
   "metadata": {},
   "outputs": [],
   "source": [
    "def get_feature_str(feature_name, target_name, df):\n",
    "    \"\"\"Определяем количество и долю единичек для аттрибута. \n",
    "    Функция возвращает датафрейм из 3х колонок: \n",
    "    наименование аттрибута, количество единичек, долю единичек для каждого значения аттрибута\n",
    "    \"\"\"\n",
    "    agg_df = df.groupby([feature_name,target_name], as_index=False)\\\n",
    "            .aggregate({'unix_time' : 'count'})\\\n",
    "            .rename(columns = {'unix_time': 'cnt'})\n",
    "    pivot_df = agg_df.pivot(index=feature_name, columns=target_name).fillna(0)\n",
    "    flat_df = pd.DataFrame(pivot_df.to_records())\n",
    "    flat_df.columns = [feature_name, 'target_0', 'target_1']\n",
    "    flat_df['target_share'] = flat_df['target_1'] / (flat_df['target_0'] + flat_df['target_1'])\n",
    "    flat_df.sort_values(by='target_share', ascending=False, inplace = True)\n",
    "    flat_df.columns = [feature_name, feature_name + '_target_0_cnt', feature_name + '_target_1_cnt', feature_name + '_target_share']\n",
    "    flat_df = flat_df.drop(feature_name + '_target_0_cnt', axis = 1)\n",
    "    return flat_df"
   ]
  },
  {
   "cell_type": "code",
   "execution_count": 273,
   "metadata": {},
   "outputs": [],
   "source": [
    "def preprocess_features_references(train, test = None, type_cd = 'train', min_typical_trans_cnt = 400):\n",
    "    \"\"\"Функция добавляет к датафрейму аттбируты на основании справочников, полученных из обучающей выборки:\n",
    "    - life_time_days - количество дней между первой транзакцией плательщика и текущей (\"время жизни плательника\")\n",
    "    - typical_zip    - признак того, что код локации является типовым, т.е. в нем совершено большое количество (>400) нефродовых транзакций  \n",
    "    - typical_job    - признак того, что должность является типовой, т.е. для нее совершено большое количество (>400) нефродовых транзакций  \n",
    "    - merchant_target_share - доля фродовых транзакций у получателя платежа\n",
    "    \"\"\"\n",
    "    print(strftime(\"%Y-%m-%d %H:%M:%S\", gmtime()) + ' Preprocess_features_references: zip, job, cc_num, merchant')\n",
    "    zip_df = train.loc[train['is_fraud']==0,:].groupby(['zip','is_fraud'], as_index=False)\\\n",
    "            .aggregate({'unix_time' : 'count'})\\\n",
    "            .rename(columns = {'unix_time': 'cnt'})\n",
    "    typical_zip = list(zip_df.loc[zip_df['cnt']>min_typical_trans_cnt,:]['zip'])\n",
    "    job_df = train.loc[train['is_fraud']==0,:].groupby(['job','is_fraud'], as_index=False)\\\n",
    "            .aggregate({'unix_time' : 'count'})\\\n",
    "            .rename(columns = {'unix_time': 'cnt'})\n",
    "    typical_job = list(job_df.loc[job_df['cnt']>min_typical_trans_cnt,:]['job'])\n",
    "    fraudster = list(train.loc[train['is_fraud']==1,:].groupby(['cc_num','is_fraud'], as_index=False)\\\n",
    "            .aggregate({'unix_time' : 'count'})\\\n",
    "            .rename(columns = {'unix_time': 'cnt'})['cc_num'])\n",
    "    cc_num_min_time = train.groupby(['cc_num'], as_index=False)\\\n",
    "            .aggregate({'unix_time' : 'min'})\\\n",
    "            .rename(columns = {'unix_time': 'first_trans_time'})\n",
    "    merchant_fraud_share = get_feature_str('merchant', 'is_fraud', train)\n",
    "    merchant_fraud_share.drop('merchant_target_1_cnt', axis = 1, inplace = True)\n",
    "    def mark_typical_features(df,typical_zip,typical_job):\n",
    "        df['typical_zip'] = df['zip'].isin(typical_zip).astype(int)\n",
    "        df['typical_job'] = df['job'].isin(typical_job).astype(int)\n",
    "        df['earlier_fraudster'] = df['cc_num'].isin(fraudster).astype(int)\n",
    "        df = df.merge(cc_num_min_time, on='cc_num', how='left')\n",
    "        df['life_time_days'] = df['unix_time'] - df['first_trans_time']\n",
    "        df['life_time_days'].fillna(0, inplace = True)\n",
    "        df['life_time_days'] = df['life_time_days'] / (60*60*24)\n",
    "        df['life_time_days'] = df['life_time_days'].apply(lambda x: x + random.uniform(0.05,0.5))\n",
    "        df['life_time_days'] = df['life_time_days'].round(3)\n",
    "        df = df.merge(merchant_fraud_share, on='merchant', how='left')\n",
    "        df['merchant_target_share'].fillna(0, inplace = True)\n",
    "        return df\n",
    "    if type_cd == 'train':\n",
    "        train = mark_typical_features(train,typical_zip,typical_job)\n",
    "        return train\n",
    "    if type_cd == 'test':\n",
    "        test = mark_typical_features(test,typical_zip,typical_job)\n",
    "        return test"
   ]
  },
  {
   "cell_type": "code",
   "execution_count": 274,
   "metadata": {},
   "outputs": [],
   "source": [
    "def delete_unwanted_features(df):\n",
    "    \"\"\" Удалим лишние аттрибуты\n",
    "    \"\"\"\n",
    "    print(strftime(\"%Y-%m-%d %H:%M:%S\", gmtime()) + ' Deleting unwanted features')\n",
    "    features_to_delete = ['Unnamed: 0',\n",
    "                          'trans_date_trans_time',\n",
    "                          'cc_num',\n",
    "                          'merchant',\n",
    "                          'first',\n",
    "                          'last',\n",
    "                          'street',\n",
    "                          'city',\n",
    "                          'state',\n",
    "                          'zip',\n",
    "                          'lat',\n",
    "                          'long',\n",
    "                          'job',\n",
    "                          'dob',\n",
    "                          'trans_num',\n",
    "                          'unix_time',\n",
    "                          'merch_lat',\n",
    "                          'merch_long',\n",
    "                          'trans_dttm',\n",
    "                          'first_trans_time']\n",
    "    df.drop(features_to_delete, axis = 1, inplace = True)\n",
    "    return df"
   ]
  },
  {
   "cell_type": "code",
   "execution_count": 275,
   "metadata": {},
   "outputs": [],
   "source": [
    "def one_hot_encode(df, col_name):\n",
    "    \"\"\" Функция выполняет one hot encoding по списку аттрибутов\n",
    "    \"\"\"\n",
    "    for i in list(col_name):\n",
    "        print(strftime(\"%Y-%m-%d %H:%M:%S\", gmtime()) + ' One hot encoding: ' + i)\n",
    "        one_hot = pd.get_dummies(df[i])\n",
    "        one_hot.columns = i + '_' + one_hot.columns\n",
    "        df = df.drop(i, axis = 1)\n",
    "        df = df.join(one_hot)\n",
    "    return df"
   ]
  },
  {
   "cell_type": "code",
   "execution_count": 277,
   "metadata": {},
   "outputs": [
    {
     "name": "stdout",
     "output_type": "stream",
     "text": [
      "2020-11-10 16:00:53 Preprocess features: person_name, trans_hour, trans_dttm, dob, trans_week_day\n",
      "2020-11-10 16:01:12 Preprocess features: trans_distance\n",
      "2020-11-10 16:02:46 Preprocess_features_references: zip, job, cc_num, merchant\n",
      "2020-11-10 16:02:54 Deleting unwanted features\n",
      "2020-11-10 16:03:08 One hot encoding: category\n",
      "2020-11-10 16:03:09 One hot encoding: gender\n",
      "2020-11-10 16:03:10 One hot encoding: trans_hour\n",
      "2020-11-10 16:03:10 One hot encoding: trans_week_day\n"
     ]
    }
   ],
   "source": [
    "train_1 = preprocess_features_basic(train)\n",
    "train_2 = preprocess_features_references(train = train_1, type_cd = 'train')\n",
    "train_3 = delete_unwanted_features(train_2)\n",
    "train_4 = one_hot_encode(train_3, ['category','gender','trans_hour', 'trans_week_day'])"
   ]
  },
  {
   "cell_type": "code",
   "execution_count": 227,
   "metadata": {},
   "outputs": [
    {
     "name": "stdout",
     "output_type": "stream",
     "text": [
      "2020-11-10 13:51:04 Preprocess features: person_name, trans_hour, trans_dttm, dob, trans_week_day\n",
      "2020-11-10 13:51:11 Preprocess features: trans_distance\n",
      "2020-11-10 13:51:54 Preprocess_features_references: zip, job, cc_num, merchant\n",
      "2020-11-10 13:51:59 Deleting unwanted_features\n",
      "2020-11-10 13:52:00 One hot encoding: category\n",
      "2020-11-10 13:52:00 One hot encoding: gender\n",
      "2020-11-10 13:52:00 One hot encoding: trans_hour\n",
      "2020-11-10 13:52:01 One hot encoding: trans_week_day\n"
     ]
    }
   ],
   "source": [
    "test_1 = preprocess_features_basic(test)\n",
    "test_2 = preprocess_features_references(train = train_1, test = test_1, type_cd = 'test')\n",
    "test_3 = delete_unwanted_features(test_2)\n",
    "test_4 = one_hot_encode(test_3, ['category','gender','trans_hour', 'trans_week_day'])"
   ]
  },
  {
   "cell_type": "markdown",
   "metadata": {},
   "source": [
    "# Train model"
   ]
  },
  {
   "cell_type": "code",
   "execution_count": 253,
   "metadata": {},
   "outputs": [],
   "source": [
    "X = train_4.drop('is_fraud', axis = 1)\n",
    "y = train_4.loc[:,'is_fraud']"
   ]
  },
  {
   "cell_type": "code",
   "execution_count": 260,
   "metadata": {},
   "outputs": [],
   "source": [
    "model = XGBClassifier(nthread=-1, learning_rate=0.1) #, n_estimators=1000)"
   ]
  },
  {
   "cell_type": "code",
   "execution_count": 261,
   "metadata": {},
   "outputs": [
    {
     "data": {
      "text/plain": [
       "XGBClassifier(base_score=0.5, booster=None, colsample_bylevel=1,\n",
       "              colsample_bynode=1, colsample_bytree=1, gamma=0, gpu_id=-1,\n",
       "              importance_type='gain', interaction_constraints=None,\n",
       "              learning_rate=0.1, max_delta_step=0, max_depth=6,\n",
       "              min_child_weight=1, missing=nan, monotone_constraints=None,\n",
       "              n_estimators=100, n_jobs=-1, nthread=-1, num_parallel_tree=1,\n",
       "              objective='binary:logistic', random_state=0, reg_alpha=0,\n",
       "              reg_lambda=1, scale_pos_weight=1, subsample=1, tree_method=None,\n",
       "              validate_parameters=False, verbosity=None)"
      ]
     },
     "execution_count": 261,
     "metadata": {},
     "output_type": "execute_result"
    }
   ],
   "source": [
    "model.fit(X, y)"
   ]
  },
  {
   "cell_type": "code",
   "execution_count": 262,
   "metadata": {},
   "outputs": [
    {
     "name": "stdout",
     "output_type": "stream",
     "text": [
      "              precision    recall  f1-score   support\n",
      "\n",
      "           0       1.00      1.00      1.00   1289169\n",
      "           1       0.96      0.77      0.85      7506\n",
      "\n",
      "    accuracy                           1.00   1296675\n",
      "   macro avg       0.98      0.89      0.93   1296675\n",
      "weighted avg       1.00      1.00      1.00   1296675\n",
      "\n",
      "[[1288916     253]\n",
      " [   1718    5788]]\n"
     ]
    },
    {
     "data": {
      "text/plain": [
       "<sklearn.metrics._plot.confusion_matrix.ConfusionMatrixDisplay at 0x1e7e1572d88>"
      ]
     },
     "execution_count": 262,
     "metadata": {},
     "output_type": "execute_result"
    },
    {
     "data": {
      "image/png": "[encoded data removed]",
      "text/plain": [
       "<Figure size 432x288 with 2 Axes>"
      ]
     },
     "metadata": {
      "needs_background": "light"
     },
     "output_type": "display_data"
    }
   ],
   "source": [
    "# summarize the fit of the model\n",
    "expected = y\n",
    "predicted = model.predict(X)\n",
    "print(metrics.classification_report(expected, predicted))\n",
    "print(metrics.confusion_matrix(expected, predicted))\n",
    "plot_confusion_matrix(model, X, y)"
   ]
  },
  {
   "cell_type": "code",
   "execution_count": 265,
   "metadata": {},
   "outputs": [
    {
     "data": {
      "image/png": "[encoded data removed]",
      "text/plain": [
       "<Figure size 576x684 with 2 Axes>"
      ]
     },
     "metadata": {
      "needs_background": "light"
     },
     "output_type": "display_data"
    }
   ],
   "source": [
    "explainer = shap.TreeExplainer(model)\n",
    "shap_values = explainer.shap_values(X)\n",
    "shap.summary_plot(shap_values, X)"
   ]
  },
  {
   "cell_type": "markdown",
   "metadata": {},
   "source": [
    "# Test model"
   ]
  },
  {
   "cell_type": "code",
   "execution_count": 244,
   "metadata": {},
   "outputs": [],
   "source": [
    "X = test_4.drop('is_fraud', axis = 1)\n",
    "y = test_4.loc[:,'is_fraud']"
   ]
  },
  {
   "cell_type": "code",
   "execution_count": 245,
   "metadata": {},
   "outputs": [
    {
     "name": "stdout",
     "output_type": "stream",
     "text": [
      "              precision    recall  f1-score   support\n",
      "\n",
      "           0       1.00      1.00      1.00    553574\n",
      "           1       0.19      0.02      0.04      2145\n",
      "\n",
      "    accuracy                           1.00    555719\n",
      "   macro avg       0.59      0.51      0.52    555719\n",
      "weighted avg       0.99      1.00      0.99    555719\n",
      "\n",
      "[[553347    227]\n",
      " [  2093     52]]\n"
     ]
    },
    {
     "data": {
      "text/plain": [
       "<sklearn.metrics._plot.confusion_matrix.ConfusionMatrixDisplay at 0x1e7f0499208>"
      ]
     },
     "execution_count": 245,
     "metadata": {},
     "output_type": "execute_result"
    },
    {
     "data": {
      "image/png": "[encoded data removed]",
      "text/plain": [
       "<Figure size 432x288 with 2 Axes>"
      ]
     },
     "metadata": {
      "needs_background": "light"
     },
     "output_type": "display_data"
    }
   ],
   "source": [
    "# summarize the fit of the model\n",
    "expected = y\n",
    "predicted = model.predict(X)\n",
    "print(metrics.classification_report(expected, predicted))\n",
    "print(metrics.confusion_matrix(expected, predicted))\n",
    "plot_confusion_matrix(model, X, y)"
   ]
  },
  {
   "cell_type": "markdown",
   "metadata": {},
   "source": [
    "# :("
   ]
  },
  {
   "cell_type": "code",
   "execution_count": null,
   "metadata": {},
   "outputs": [],
   "source": []
  }
 ],
 "metadata": {
  "kernelspec": {
   "display_name": "Python 3",
   "language": "python",
   "name": "python3"
  },
  "language_info": {
   "codemirror_mode": {
    "name": "ipython",
    "version": 3
   },
   "file_extension": ".py",
   "mimetype": "text/x-python",
   "name": "python",
   "nbconvert_exporter": "python",
   "pygments_lexer": "ipython3",
   "version": "3.7.6"
  }
 },
 "nbformat": 4,
 "nbformat_minor": 4
}
