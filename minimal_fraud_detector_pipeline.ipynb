{
 "cells": [
  {
   "cell_type": "code",
   "execution_count": null,
   "metadata": {},
   "outputs": [],
   "source": [
    "#requirements.txt\n",
    "#pip install -r requirements.txt"
   ]
  },
  {
   "cell_type": "code",
   "execution_count": 1,
   "metadata": {},
   "outputs": [],
   "source": [
    "import pandas as pd\n",
    "import numpy as np\n",
    "from math import sin, cos, sqrt, atan2, radians\n",
    "import random\n",
    "from time import gmtime, strftime\n",
    "\n",
    "from xgboost import XGBClassifier\n",
    "from sklearn import metrics\n",
    "from sklearn.metrics import plot_confusion_matrix\n",
    "import shap\n",
    "\n",
    "from sklearn import preprocessing\n",
    "from sklearn.model_selection import train_test_split\n",
    "\n",
    "from sklearn.pipeline import Pipeline, make_pipeline\n",
    "from category_encoders import TargetEncoder # bonus: sklearn-contrib\n",
    "from sklearn.metrics import roc_auc_score\n",
    "\n",
    "pd.set_option('display.max_rows', 500)\n",
    "pd.set_option('display.max_columns', 500)\n",
    "pd.set_option('display.width', 1000)"
   ]
  },
  {
   "cell_type": "code",
   "execution_count": 2,
   "metadata": {},
   "outputs": [],
   "source": [
    "train = pd.read_csv('fraudTrain.csv')\n",
    "test  = pd.read_csv('fraudTest.csv')"
   ]
  },
  {
   "cell_type": "code",
   "execution_count": 3,
   "metadata": {},
   "outputs": [
    {
     "data": {
      "text/html": [
       "<div>\n",
       "<style scoped>\n",
       "    .dataframe tbody tr th:only-of-type {\n",
       "        vertical-align: middle;\n",
       "    }\n",
       "\n",
       "    .dataframe tbody tr th {\n",
       "        vertical-align: top;\n",
       "    }\n",
       "\n",
       "    .dataframe thead th {\n",
       "        text-align: right;\n",
       "    }\n",
       "</style>\n",
       "<table border=\"1\" class=\"dataframe\">\n",
       "  <thead>\n",
       "    <tr style=\"text-align: right;\">\n",
       "      <th></th>\n",
       "      <th>Unnamed: 0</th>\n",
       "      <th>trans_date_trans_time</th>\n",
       "      <th>cc_num</th>\n",
       "      <th>merchant</th>\n",
       "      <th>category</th>\n",
       "      <th>amt</th>\n",
       "      <th>first</th>\n",
       "      <th>last</th>\n",
       "      <th>gender</th>\n",
       "      <th>street</th>\n",
       "      <th>city</th>\n",
       "      <th>state</th>\n",
       "      <th>zip</th>\n",
       "      <th>lat</th>\n",
       "      <th>long</th>\n",
       "      <th>city_pop</th>\n",
       "      <th>job</th>\n",
       "      <th>dob</th>\n",
       "      <th>trans_num</th>\n",
       "      <th>unix_time</th>\n",
       "      <th>merch_lat</th>\n",
       "      <th>merch_long</th>\n",
       "      <th>is_fraud</th>\n",
       "    </tr>\n",
       "  </thead>\n",
       "  <tbody>\n",
       "    <tr>\n",
       "      <th>0</th>\n",
       "      <td>0</td>\n",
       "      <td>2019-01-01 00:00:18</td>\n",
       "      <td>2703186189652095</td>\n",
       "      <td>fraud_Rippin, Kub and Mann</td>\n",
       "      <td>misc_net</td>\n",
       "      <td>4.97</td>\n",
       "      <td>Jennifer</td>\n",
       "      <td>Banks</td>\n",
       "      <td>F</td>\n",
       "      <td>561 Perry Cove</td>\n",
       "      <td>Moravian Falls</td>\n",
       "      <td>NC</td>\n",
       "      <td>28654</td>\n",
       "      <td>36.0788</td>\n",
       "      <td>-81.1781</td>\n",
       "      <td>3495</td>\n",
       "      <td>Psychologist, counselling</td>\n",
       "      <td>1988-03-09</td>\n",
       "      <td>0b242abb623afc578575680df30655b9</td>\n",
       "      <td>1325376018</td>\n",
       "      <td>36.011293</td>\n",
       "      <td>-82.048315</td>\n",
       "      <td>0</td>\n",
       "    </tr>\n",
       "    <tr>\n",
       "      <th>1</th>\n",
       "      <td>1</td>\n",
       "      <td>2019-01-01 00:00:44</td>\n",
       "      <td>630423337322</td>\n",
       "      <td>fraud_Heller, Gutmann and Zieme</td>\n",
       "      <td>grocery_pos</td>\n",
       "      <td>107.23</td>\n",
       "      <td>Stephanie</td>\n",
       "      <td>Gill</td>\n",
       "      <td>F</td>\n",
       "      <td>43039 Riley Greens Suite 393</td>\n",
       "      <td>Orient</td>\n",
       "      <td>WA</td>\n",
       "      <td>99160</td>\n",
       "      <td>48.8878</td>\n",
       "      <td>-118.2105</td>\n",
       "      <td>149</td>\n",
       "      <td>Special educational needs teacher</td>\n",
       "      <td>1978-06-21</td>\n",
       "      <td>1f76529f8574734946361c461b024d99</td>\n",
       "      <td>1325376044</td>\n",
       "      <td>49.159047</td>\n",
       "      <td>-118.186462</td>\n",
       "      <td>0</td>\n",
       "    </tr>\n",
       "    <tr>\n",
       "      <th>2</th>\n",
       "      <td>2</td>\n",
       "      <td>2019-01-01 00:00:51</td>\n",
       "      <td>38859492057661</td>\n",
       "      <td>fraud_Lind-Buckridge</td>\n",
       "      <td>entertainment</td>\n",
       "      <td>220.11</td>\n",
       "      <td>Edward</td>\n",
       "      <td>Sanchez</td>\n",
       "      <td>M</td>\n",
       "      <td>594 White Dale Suite 530</td>\n",
       "      <td>Malad City</td>\n",
       "      <td>ID</td>\n",
       "      <td>83252</td>\n",
       "      <td>42.1808</td>\n",
       "      <td>-112.2620</td>\n",
       "      <td>4154</td>\n",
       "      <td>Nature conservation officer</td>\n",
       "      <td>1962-01-19</td>\n",
       "      <td>a1a22d70485983eac12b5b88dad1cf95</td>\n",
       "      <td>1325376051</td>\n",
       "      <td>43.150704</td>\n",
       "      <td>-112.154481</td>\n",
       "      <td>0</td>\n",
       "    </tr>\n",
       "    <tr>\n",
       "      <th>3</th>\n",
       "      <td>3</td>\n",
       "      <td>2019-01-01 00:01:16</td>\n",
       "      <td>3534093764340240</td>\n",
       "      <td>fraud_Kutch, Hermiston and Farrell</td>\n",
       "      <td>gas_transport</td>\n",
       "      <td>45.00</td>\n",
       "      <td>Jeremy</td>\n",
       "      <td>White</td>\n",
       "      <td>M</td>\n",
       "      <td>9443 Cynthia Court Apt. 038</td>\n",
       "      <td>Boulder</td>\n",
       "      <td>MT</td>\n",
       "      <td>59632</td>\n",
       "      <td>46.2306</td>\n",
       "      <td>-112.1138</td>\n",
       "      <td>1939</td>\n",
       "      <td>Patent attorney</td>\n",
       "      <td>1967-01-12</td>\n",
       "      <td>6b849c168bdad6f867558c3793159a81</td>\n",
       "      <td>1325376076</td>\n",
       "      <td>47.034331</td>\n",
       "      <td>-112.561071</td>\n",
       "      <td>0</td>\n",
       "    </tr>\n",
       "    <tr>\n",
       "      <th>4</th>\n",
       "      <td>4</td>\n",
       "      <td>2019-01-01 00:03:06</td>\n",
       "      <td>375534208663984</td>\n",
       "      <td>fraud_Keeling-Crist</td>\n",
       "      <td>misc_pos</td>\n",
       "      <td>41.96</td>\n",
       "      <td>Tyler</td>\n",
       "      <td>Garcia</td>\n",
       "      <td>M</td>\n",
       "      <td>408 Bradley Rest</td>\n",
       "      <td>Doe Hill</td>\n",
       "      <td>VA</td>\n",
       "      <td>24433</td>\n",
       "      <td>38.4207</td>\n",
       "      <td>-79.4629</td>\n",
       "      <td>99</td>\n",
       "      <td>Dance movement psychotherapist</td>\n",
       "      <td>1986-03-28</td>\n",
       "      <td>a41d7549acf90789359a9aa5346dcb46</td>\n",
       "      <td>1325376186</td>\n",
       "      <td>38.674999</td>\n",
       "      <td>-78.632459</td>\n",
       "      <td>0</td>\n",
       "    </tr>\n",
       "  </tbody>\n",
       "</table>\n",
       "</div>"
      ],
      "text/plain": [
       "   Unnamed: 0 trans_date_trans_time            cc_num                            merchant       category     amt      first     last gender                        street            city state    zip      lat      long  city_pop                                job         dob                         trans_num   unix_time  merch_lat  merch_long  is_fraud\n",
       "0           0   2019-01-01 00:00:18  2703186189652095          fraud_Rippin, Kub and Mann       misc_net    4.97   Jennifer    Banks      F                561 Perry Cove  Moravian Falls    NC  28654  36.0788  -81.1781      3495          Psychologist, counselling  1988-03-09  0b242abb623afc578575680df30655b9  1325376018  36.011293  -82.048315         0\n",
       "1           1   2019-01-01 00:00:44      630423337322     fraud_Heller, Gutmann and Zieme    grocery_pos  107.23  Stephanie     Gill      F  43039 Riley Greens Suite 393          Orient    WA  99160  48.8878 -118.2105       149  Special educational needs teacher  1978-06-21  1f76529f8574734946361c461b024d99  1325376044  49.159047 -118.186462         0\n",
       "2           2   2019-01-01 00:00:51    38859492057661                fraud_Lind-Buckridge  entertainment  220.11     Edward  Sanchez      M      594 White Dale Suite 530      Malad City    ID  83252  42.1808 -112.2620      4154        Nature conservation officer  1962-01-19  a1a22d70485983eac12b5b88dad1cf95  1325376051  43.150704 -112.154481         0\n",
       "3           3   2019-01-01 00:01:16  3534093764340240  fraud_Kutch, Hermiston and Farrell  gas_transport   45.00     Jeremy    White      M   9443 Cynthia Court Apt. 038         Boulder    MT  59632  46.2306 -112.1138      1939                    Patent attorney  1967-01-12  6b849c168bdad6f867558c3793159a81  1325376076  47.034331 -112.561071         0\n",
       "4           4   2019-01-01 00:03:06   375534208663984                 fraud_Keeling-Crist       misc_pos   41.96      Tyler   Garcia      M              408 Bradley Rest        Doe Hill    VA  24433  38.4207  -79.4629        99     Dance movement psychotherapist  1986-03-28  a41d7549acf90789359a9aa5346dcb46  1325376186  38.674999  -78.632459         0"
      ]
     },
     "execution_count": 3,
     "metadata": {},
     "output_type": "execute_result"
    }
   ],
   "source": [
    "train.head()"
   ]
  },
  {
   "cell_type": "code",
   "execution_count": 4,
   "metadata": {},
   "outputs": [],
   "source": [
    "def calc_distance(lat1, long1, lat2, long2):\n",
    "    \"\"\"Определение дистанции между точками\n",
    "    \"\"\"\n",
    "    R = 6373.0 # approximate radius of earth in km\n",
    "    lat1 = radians(lat1)\n",
    "    lon1 = radians(long1)\n",
    "    lat2 = radians(lat2)\n",
    "    lon2 = radians(long2)\n",
    "    dlon = lon2 - lon1\n",
    "    dlat = lat2 - lat1\n",
    "    a = sin(dlat / 2)**2 + cos(lat1) * cos(lat2) * sin(dlon / 2)**2\n",
    "    c = 2 * atan2(sqrt(a), sqrt(1 - a))\n",
    "    distance = R * c\n",
    "    return distance"
   ]
  },
  {
   "cell_type": "code",
   "execution_count": 5,
   "metadata": {},
   "outputs": [],
   "source": [
    "def preprocess_features_basic(df):\n",
    "    \"\"\"Функция добавляет к датафрейму аттрибуты:\n",
    "    - trans_hour     - час транзакции;\n",
    "    - trans_week_day - день недели транзакции;\n",
    "    - birth_year     - год рождения плательщика\n",
    "    - trans_distance - дистанция между местом жительства плательщика и местом транзакции\n",
    "    \"\"\"\n",
    "    print(strftime(\"%Y-%m-%d %H:%M:%S\", gmtime()) + ' Preprocess features: trans_hour, trans_dttm, dob, trans_week_day')\n",
    "    df['trans_hour'] = df['trans_date_trans_time'].str[11:13]\n",
    "    df['trans_dttm'] = pd.to_datetime(df['trans_date_trans_time'])\n",
    "    df['birth_year'] = df['dob'].str[0:4].astype('int')\n",
    "    df['trans_week_day'] = df['trans_dttm'].apply(lambda x: x.strftime('%A'))\n",
    "    print(strftime(\"%Y-%m-%d %H:%M:%S\", gmtime()) + ' Preprocess features: trans_distance')\n",
    "    df['trans_distance'] = df.apply(lambda row: calc_distance(row[\"lat\"], row[\"long\"], row[\"merch_lat\"], row[\"merch_long\"]), axis = 1)\n",
    "    return df"
   ]
  },
  {
   "cell_type": "code",
   "execution_count": 6,
   "metadata": {},
   "outputs": [],
   "source": [
    "# поменять на structure\n",
    "def get_feature_str(feature_name, target_name, df):\n",
    "    \"\"\"Определяем количество и долю единичек для аттрибута. \n",
    "    Функция возвращает датафрейм из 3х колонок: \n",
    "    наименование аттрибута, количество единичек, долю единичек для каждого значения аттрибута\n",
    "    \"\"\"\n",
    "    agg_df = df.groupby([feature_name,target_name], as_index=False)\\\n",
    "            .aggregate({'unix_time' : 'count'})\\\n",
    "            .rename(columns = {'unix_time': 'cnt'})\n",
    "    pivot_df = agg_df.pivot(index=feature_name, columns=target_name).fillna(0)\n",
    "    flat_df = pd.DataFrame(pivot_df.to_records())\n",
    "    flat_df.columns = [feature_name, 'target_0', 'target_1']\n",
    "    flat_df['target_share'] = flat_df['target_1'] / (flat_df['target_0'] + flat_df['target_1'])\n",
    "    flat_df.sort_values(by='target_share', ascending=False, inplace = True)\n",
    "    flat_df.columns = [feature_name, feature_name + '_target_0_cnt', feature_name + '_target_1_cnt', feature_name + '_target_share']\n",
    "    flat_df = flat_df.drop(feature_name + '_target_0_cnt', axis = 1)\n",
    "    return flat_df"
   ]
  },
  {
   "cell_type": "code",
   "execution_count": 7,
   "metadata": {},
   "outputs": [],
   "source": [
    "# Не очень честно с т.з. earlier_fraudster (нельзя заглядывать в будущее)\n",
    "def preprocess_features_references(train, test = None, type_cd = 'train', min_typical_trans_cnt = 400):\n",
    "    \"\"\"Функция добавляет к датафрейму аттбируты на основании справочников, полученных из обучающей выборки:\n",
    "    - life_time_days - количество дней между первой транзакцией плательщика и текущей (\"время жизни плательника\")\n",
    "    - typical_zip    - признак того, что код локации является типовым, т.е. в нем совершено большое количество (>400) нефродовых транзакций  \n",
    "    - typical_job    - признак того, что должность является типовой, т.е. для нее совершено большое количество (>400) нефродовых транзакций  \n",
    "    - merchant_target_share - доля фродовых транзакций у получателя платежа\n",
    "    \"\"\"\n",
    "    print(strftime(\"%Y-%m-%d %H:%M:%S\", gmtime()) + ' Preprocess_features_references: zip, job, cc_num, merchant')\n",
    "    zip_df = train.loc[train['is_fraud']==0,:].groupby(['zip','is_fraud'], as_index=False)\\\n",
    "            .aggregate({'unix_time' : 'count'})\\\n",
    "            .rename(columns = {'unix_time': 'cnt'})\n",
    "    typical_zip = list(zip_df.loc[zip_df['cnt']>min_typical_trans_cnt,:]['zip'])\n",
    "    job_df = train.loc[train['is_fraud']==0,:].groupby(['job','is_fraud'], as_index=False)\\\n",
    "            .aggregate({'unix_time' : 'count'})\\\n",
    "            .rename(columns = {'unix_time': 'cnt'})\n",
    "    typical_job = list(job_df.loc[job_df['cnt']>min_typical_trans_cnt,:]['job'])\n",
    "    fraudster = list(train.loc[train['is_fraud']==1,:].groupby(['cc_num','is_fraud'], as_index=False)\\\n",
    "            .aggregate({'unix_time' : 'count'})\\\n",
    "            .rename(columns = {'unix_time': 'cnt'})['cc_num'])\n",
    "    cc_num_min_time = train.groupby(['cc_num'], as_index=False)\\\n",
    "            .aggregate({'unix_time' : 'min'})\\\n",
    "            .rename(columns = {'unix_time': 'first_trans_time'})\n",
    "    merchant_fraud_share = get_feature_str('merchant', 'is_fraud', train)\n",
    "    merchant_fraud_share.drop('merchant_target_1_cnt', axis = 1, inplace = True)\n",
    "    def mark_typical_features(df,typical_zip,typical_job):\n",
    "        df['typical_zip'] = df['zip'].isin(typical_zip).astype(int)\n",
    "        df['typical_job'] = df['job'].isin(typical_job).astype(int)\n",
    "        df['earlier_fraudster'] = df['cc_num'].isin(fraudster).astype(int)\n",
    "        df = df.merge(cc_num_min_time, on='cc_num', how='left')\n",
    "        df['life_time_days'] = df['unix_time'] - df['first_trans_time']\n",
    "        df['life_time_days'].fillna(0, inplace = True)\n",
    "        df['life_time_days'] = df['life_time_days'] / (60*60*24)\n",
    "        df['life_time_days'] = df['life_time_days'].apply(lambda x: x + random.uniform(0.05,0.5))\n",
    "        df['life_time_days'] = df['life_time_days'].round(3)\n",
    "        df = df.merge(merchant_fraud_share, on='merchant', how='left')\n",
    "        df['merchant_target_share'].fillna(0, inplace = True)\n",
    "        return df\n",
    "    if type_cd == 'train':\n",
    "        train = mark_typical_features(train,typical_zip,typical_job)\n",
    "        return train\n",
    "    if type_cd == 'test':\n",
    "        test = mark_typical_features(test,typical_zip,typical_job)\n",
    "        return test"
   ]
  },
  {
   "cell_type": "code",
   "execution_count": 8,
   "metadata": {},
   "outputs": [],
   "source": [
    "def delete_unwanted_features(df):\n",
    "    \"\"\" Удалим лишние аттрибуты\n",
    "    \"\"\"\n",
    "    print(strftime(\"%Y-%m-%d %H:%M:%S\", gmtime()) + ' Deleting unwanted features')\n",
    "    features_to_delete = ['Unnamed: 0','trans_date_trans_time','cc_num','merchant',\n",
    "                          'first','last','street','city','state','zip','lat','long',\n",
    "                          'job','dob','trans_num','unix_time','merch_lat','merch_long',\n",
    "                          'trans_dttm','first_trans_time']\n",
    "    df.drop(features_to_delete, axis = 1, inplace = True)\n",
    "    return df"
   ]
  },
  {
   "cell_type": "code",
   "execution_count": 9,
   "metadata": {},
   "outputs": [],
   "source": [
    "def one_hot_encode(df, col_name):\n",
    "    \"\"\" Функция выполняет one hot encoding по списку аттрибутов\n",
    "    \"\"\"\n",
    "    #pd.get_dummies(df[colnames_list])\n",
    "    # лишний цикл. заменить на pd.get_dummies(test[['category','gender']])\n",
    "    #заменить col_name\n",
    "    for i in list(col_name):\n",
    "        print(strftime(\"%Y-%m-%d %H:%M:%S\", gmtime()) + ' One hot encoding: ' + i)\n",
    "        one_hot = pd.get_dummies(df[i])\n",
    "        one_hot.columns = i + '_' + one_hot.columns\n",
    "        df = df.drop(i, axis = 1)\n",
    "        df = df.join(one_hot)\n",
    "    return df"
   ]
  },
  {
   "cell_type": "code",
   "execution_count": 10,
   "metadata": {},
   "outputs": [],
   "source": [
    "def min_max_scale(df, feature_name_list):\n",
    "    \"\"\" Функция выполняет min-max нормализацию аттрибутов: (x - min_x) / (max_x-min_x)\n",
    "    \"\"\"\n",
    "    # MinMaxScaler (стандартная функция sklearn)\n",
    "    for feature_name in list(feature_name_list):\n",
    "        print(strftime(\"%Y-%m-%d %H:%M:%S\", gmtime()) + ' Min_max_scale: ' + feature_name)\n",
    "        min_x = df[feature_name].min()\n",
    "        max_x = df[feature_name].max()\n",
    "        df[feature_name+'_norm'] = df[feature_name].apply(lambda x: (x - min_x) / (max_x-min_x))\n",
    "        df = df.drop(feature_name, axis = 1)\n",
    "    return df"
   ]
  },
  {
   "cell_type": "code",
   "execution_count": 11,
   "metadata": {},
   "outputs": [],
   "source": [
    "def std_scale(df, feature_name_list):\n",
    "    \"\"\"Функция выполняет Z-стандартизацию аттрибутов: (x - mean) / standard_deviation\n",
    "    \"\"\"\n",
    "    # Standardscaler - есть стандатная функция.\n",
    "    for feature_name in list(feature_name_list):\n",
    "        print(strftime(\"%Y-%m-%d %H:%M:%S\", gmtime()) + ' Min_max_scale: ' + feature_name)\n",
    "        mean_x = df[feature_name].mean()\n",
    "        std_x = df[feature_name].std()\n",
    "        df[feature_name+'_stdnorm'] = df[feature_name].apply(lambda x: (x - mean_x) / (std_x))\n",
    "        df = df.drop(feature_name, axis = 1)\n",
    "    return df"
   ]
  },
  {
   "cell_type": "code",
   "execution_count": 12,
   "metadata": {},
   "outputs": [
    {
     "name": "stdout",
     "output_type": "stream",
     "text": [
      "2020-11-11 15:52:04 Preprocess features: trans_hour, trans_dttm, dob, trans_week_day\n",
      "2020-11-11 15:52:19 Preprocess features: trans_distance\n",
      "2020-11-11 15:54:19 Preprocess_features_references: zip, job, cc_num, merchant\n",
      "2020-11-11 15:54:29 Deleting unwanted features\n"
     ]
    }
   ],
   "source": [
    "train_1 = preprocess_features_basic(train)\n",
    "train_2 = preprocess_features_references(train = train_1, type_cd = 'train')\n",
    "train_3 = delete_unwanted_features(train_2)"
   ]
  },
  {
   "cell_type": "code",
   "execution_count": 14,
   "metadata": {},
   "outputs": [
    {
     "name": "stdout",
     "output_type": "stream",
     "text": [
      "2020-11-11 15:56:03 One hot encoding: category\n",
      "2020-11-11 15:56:03 One hot encoding: gender\n",
      "2020-11-11 15:56:04 One hot encoding: trans_hour\n",
      "2020-11-11 15:56:05 One hot encoding: trans_week_day\n"
     ]
    }
   ],
   "source": [
    "train_4 = one_hot_encode(train_3, ['category','gender','trans_hour', 'trans_week_day'])"
   ]
  },
  {
   "cell_type": "code",
   "execution_count": 13,
   "metadata": {},
   "outputs": [
    {
     "name": "stdout",
     "output_type": "stream",
     "text": [
      "2020-11-11 15:54:30 Preprocess features: trans_hour, trans_dttm, dob, trans_week_day\n",
      "2020-11-11 15:54:39 Preprocess features: trans_distance\n",
      "2020-11-11 15:55:32 Preprocess_features_references: zip, job, cc_num, merchant\n",
      "2020-11-11 15:55:36 Deleting unwanted features\n"
     ]
    }
   ],
   "source": [
    "test_1 = preprocess_features_basic(test)\n",
    "test_2 = preprocess_features_references(train = train_1, test = test_1, type_cd = 'test')\n",
    "test_3 = delete_unwanted_features(test_2)\n"
   ]
  },
  {
   "cell_type": "code",
   "execution_count": 15,
   "metadata": {},
   "outputs": [
    {
     "name": "stdout",
     "output_type": "stream",
     "text": [
      "2020-11-11 15:56:06 One hot encoding: category\n",
      "2020-11-11 15:56:06 One hot encoding: gender\n",
      "2020-11-11 15:56:06 One hot encoding: trans_hour\n",
      "2020-11-11 15:56:07 One hot encoding: trans_week_day\n"
     ]
    }
   ],
   "source": [
    "test_4 = one_hot_encode(test_3, ['category','gender','trans_hour', 'trans_week_day'])"
   ]
  },
  {
   "cell_type": "markdown",
   "metadata": {},
   "source": [
    "# Обучение модели"
   ]
  },
  {
   "cell_type": "code",
   "execution_count": null,
   "metadata": {},
   "outputs": [],
   "source": [
    "# Попробовать сбалансировать классы\n",
    "# undersampling (проверить это в sklearn и imblearn)\n",
    "# Попробовать oversampling\n",
    "# Попробовать синтетическое добавление (imblearn - класс SMOTE)\n",
    "# adasyn - adaptive syntetic generation - разбавить синтетическими данными, но мерить качество (валидироваться) без синтетических данных\n",
    "# Для избежания переобучения - сократить количество фичей\n",
    "# Регуляризация - добавление штрафа в функцию потерь. (L1 & L2 - регуляризация)"
   ]
  },
  {
   "cell_type": "code",
   "execution_count": 167,
   "metadata": {},
   "outputs": [],
   "source": [
    "X = train_4.drop('is_fraud', axis = 1)\n",
    "#X = preprocessing.scale(X)\n",
    "y = train_4.loc[:,'is_fraud']"
   ]
  },
  {
   "cell_type": "code",
   "execution_count": 168,
   "metadata": {},
   "outputs": [
    {
     "name": "stdout",
     "output_type": "stream",
     "text": [
      "2020-11-11 20:39:11 Min_max_scale: amt\n",
      "2020-11-11 20:39:12 Min_max_scale: city_pop\n",
      "2020-11-11 20:39:12 Min_max_scale: trans_distance\n",
      "2020-11-11 20:39:13 Min_max_scale: life_time_days\n",
      "2020-11-11 20:39:14 Min_max_scale: merchant_target_share\n",
      "2020-11-11 20:39:14 Min_max_scale: birth_year\n"
     ]
    }
   ],
   "source": [
    "features_to_scale = ['amt','city_pop', 'trans_distance', 'life_time_days', \n",
    "                     'merchant_target_share','birth_year']\n",
    "X = min_max_scale(X, features_to_scale)"
   ]
  },
  {
   "cell_type": "code",
   "execution_count": 169,
   "metadata": {},
   "outputs": [],
   "source": [
    "parameters = {\"learning_rate\": [0.1, 0.01, 0.001],\n",
    "               \"gamma\" : [0.01, 0.1, 0.3, 0.5, 1, 1.5, 2],\n",
    "               \"max_depth\": [2, 4, 7, 10],\n",
    "               \"colsample_bytree\": [0.3, 0.6, 0.8, 1.0],\n",
    "               \"subsample\": [0.2, 0.4, 0.5, 0.6, 0.7],\n",
    "               \"reg_alpha\": [0, 0.5, 1],\n",
    "               \"reg_lambda\": [1, 1.5, 2, 3, 4.5],\n",
    "               \"min_child_weight\": [1, 3, 5, 7],\n",
    "               \"n_estimators\": [10, 25, 50, 100, 250]}"
   ]
  },
  {
   "cell_type": "code",
   "execution_count": 170,
   "metadata": {},
   "outputs": [],
   "source": [
    "model = XGBClassifier(nthread=-1, max_depth = 4, learning_rate=0.1, n_estimators=100, min_child_weight = 5, reg_alpha=0.01, reg_lambda = 0.1)\n",
    "# alpha gamma - регуляризация модели, чтобы избежать переобучения\n",
    "# для лог.регрессии - числа больше 0. Чем меньше число, тем больше регуляризация. Обычно от 0.0001 до 1000. \n",
    "# Регуляризация подстраивается под конкретные данные. \n",
    "# чем меньше значение, тем проще модель (в случае с логистической регрессией) чем больше лябда, тем больше регуляризация\n",
    "# Задача увеличить коэффициент регуляризации. \n",
    "# Бустинг: использует слабые эстиматоры (оценщики), которые идут друг за другом подряд. Получаем ошибку и даем на вход \n",
    "# Эстиматор - это дерево решений. (c набором параметров)\n",
    "# используется дерево решений с глубиной 6 по умолчанию \n",
    "# n_estimators - количество эстиматоров, идущих друг за ддругом\n",
    "# в каждом эстиматоре есть глубина - уменьшить глубинуб. max_depth - уменьшить (по умолчанию должно стоять 6)\n",
    "\n",
    "\n",
    "#reg_alpha - коэффициент регуляризации\n",
    "#reg_lambda - коэффициент регуляризации\n",
    "\n",
    "# learning_rate - характеризует скорость движения к минимуму функции потерь. Чем он меньше, тем медленнее и аккуратнее мы движемся.\n",
    "# при малых значениях скорее всего получим недообучение, т.к. наша функция потерь не будет меняться. \n",
    "\n",
    "# Идеальная статья про параметны xgboost http://biostat-r.blogspot.com/2016/08/xgboost.html"
   ]
  },
  {
   "cell_type": "code",
   "execution_count": 171,
   "metadata": {},
   "outputs": [],
   "source": [
    "from sklearn.model_selection import RandomizedSearchCV"
   ]
  },
  {
   "cell_type": "code",
   "execution_count": 172,
   "metadata": {},
   "outputs": [],
   "source": [
    "xgb_rscv = RandomizedSearchCV(model, param_distributions = parameters, scoring = \"f1_micro\",\n",
    "                             cv = 7, verbose = 3, random_state = 40)"
   ]
  },
  {
   "cell_type": "code",
   "execution_count": 173,
   "metadata": {},
   "outputs": [
    {
     "name": "stdout",
     "output_type": "stream",
     "text": [
      "Fitting 7 folds for each of 10 candidates, totalling 70 fits\n"
     ]
    },
    {
     "name": "stderr",
     "output_type": "stream",
     "text": [
      "[Parallel(n_jobs=1)]: Using backend SequentialBackend with 1 concurrent workers.\n"
     ]
    },
    {
     "name": "stdout",
     "output_type": "stream",
     "text": [
      "[CV] subsample=0.4, reg_lambda=1.5, reg_alpha=0.5, n_estimators=50, min_child_weight=7, max_depth=4, learning_rate=0.01, gamma=0.1, colsample_bytree=1.0 \n",
      "[CV]  subsample=0.4, reg_lambda=1.5, reg_alpha=0.5, n_estimators=50, min_child_weight=7, max_depth=4, learning_rate=0.01, gamma=0.1, colsample_bytree=1.0, score=0.073, total= 1.0min\n",
      "[CV] subsample=0.4, reg_lambda=1.5, reg_alpha=0.5, n_estimators=50, min_child_weight=7, max_depth=4, learning_rate=0.01, gamma=0.1, colsample_bytree=1.0 \n"
     ]
    },
    {
     "name": "stderr",
     "output_type": "stream",
     "text": [
      "[Parallel(n_jobs=1)]: Done   1 out of   1 | elapsed:  1.0min remaining:    0.0s\n"
     ]
    },
    {
     "name": "stdout",
     "output_type": "stream",
     "text": [
      "[CV]  subsample=0.4, reg_lambda=1.5, reg_alpha=0.5, n_estimators=50, min_child_weight=7, max_depth=4, learning_rate=0.01, gamma=0.1, colsample_bytree=1.0, score=0.997, total=  52.1s\n",
      "[CV] subsample=0.4, reg_lambda=1.5, reg_alpha=0.5, n_estimators=50, min_child_weight=7, max_depth=4, learning_rate=0.01, gamma=0.1, colsample_bytree=1.0 \n"
     ]
    },
    {
     "name": "stderr",
     "output_type": "stream",
     "text": [
      "[Parallel(n_jobs=1)]: Done   2 out of   2 | elapsed:  1.9min remaining:    0.0s\n"
     ]
    },
    {
     "name": "stdout",
     "output_type": "stream",
     "text": [
      "[CV]  subsample=0.4, reg_lambda=1.5, reg_alpha=0.5, n_estimators=50, min_child_weight=7, max_depth=4, learning_rate=0.01, gamma=0.1, colsample_bytree=1.0, score=0.997, total=  59.1s\n",
      "[CV] subsample=0.4, reg_lambda=1.5, reg_alpha=0.5, n_estimators=50, min_child_weight=7, max_depth=4, learning_rate=0.01, gamma=0.1, colsample_bytree=1.0 \n",
      "[CV]  subsample=0.4, reg_lambda=1.5, reg_alpha=0.5, n_estimators=50, min_child_weight=7, max_depth=4, learning_rate=0.01, gamma=0.1, colsample_bytree=1.0, score=0.997, total=  52.7s\n",
      "[CV] subsample=0.4, reg_lambda=1.5, reg_alpha=0.5, n_estimators=50, min_child_weight=7, max_depth=4, learning_rate=0.01, gamma=0.1, colsample_bytree=1.0 \n",
      "[CV]  subsample=0.4, reg_lambda=1.5, reg_alpha=0.5, n_estimators=50, min_child_weight=7, max_depth=4, learning_rate=0.01, gamma=0.1, colsample_bytree=1.0, score=0.997, total=  52.7s\n",
      "[CV] subsample=0.4, reg_lambda=1.5, reg_alpha=0.5, n_estimators=50, min_child_weight=7, max_depth=4, learning_rate=0.01, gamma=0.1, colsample_bytree=1.0 \n",
      "[CV]  subsample=0.4, reg_lambda=1.5, reg_alpha=0.5, n_estimators=50, min_child_weight=7, max_depth=4, learning_rate=0.01, gamma=0.1, colsample_bytree=1.0, score=0.997, total=  53.4s\n",
      "[CV] subsample=0.4, reg_lambda=1.5, reg_alpha=0.5, n_estimators=50, min_child_weight=7, max_depth=4, learning_rate=0.01, gamma=0.1, colsample_bytree=1.0 \n",
      "[CV]  subsample=0.4, reg_lambda=1.5, reg_alpha=0.5, n_estimators=50, min_child_weight=7, max_depth=4, learning_rate=0.01, gamma=0.1, colsample_bytree=1.0, score=0.997, total=  52.5s\n",
      "[CV] subsample=0.6, reg_lambda=1, reg_alpha=0, n_estimators=10, min_child_weight=1, max_depth=7, learning_rate=0.001, gamma=2, colsample_bytree=0.8 \n",
      "[CV]  subsample=0.6, reg_lambda=1, reg_alpha=0, n_estimators=10, min_child_weight=1, max_depth=7, learning_rate=0.001, gamma=2, colsample_bytree=0.8, score=0.070, total=  17.8s\n",
      "[CV] subsample=0.6, reg_lambda=1, reg_alpha=0, n_estimators=10, min_child_weight=1, max_depth=7, learning_rate=0.001, gamma=2, colsample_bytree=0.8 \n",
      "[CV]  subsample=0.6, reg_lambda=1, reg_alpha=0, n_estimators=10, min_child_weight=1, max_depth=7, learning_rate=0.001, gamma=2, colsample_bytree=0.8, score=0.997, total=  17.3s\n",
      "[CV] subsample=0.6, reg_lambda=1, reg_alpha=0, n_estimators=10, min_child_weight=1, max_depth=7, learning_rate=0.001, gamma=2, colsample_bytree=0.8 \n",
      "[CV]  subsample=0.6, reg_lambda=1, reg_alpha=0, n_estimators=10, min_child_weight=1, max_depth=7, learning_rate=0.001, gamma=2, colsample_bytree=0.8, score=0.997, total=  19.3s\n",
      "[CV] subsample=0.6, reg_lambda=1, reg_alpha=0, n_estimators=10, min_child_weight=1, max_depth=7, learning_rate=0.001, gamma=2, colsample_bytree=0.8 \n",
      "[CV]  subsample=0.6, reg_lambda=1, reg_alpha=0, n_estimators=10, min_child_weight=1, max_depth=7, learning_rate=0.001, gamma=2, colsample_bytree=0.8, score=0.998, total=  18.4s\n",
      "[CV] subsample=0.6, reg_lambda=1, reg_alpha=0, n_estimators=10, min_child_weight=1, max_depth=7, learning_rate=0.001, gamma=2, colsample_bytree=0.8 \n",
      "[CV]  subsample=0.6, reg_lambda=1, reg_alpha=0, n_estimators=10, min_child_weight=1, max_depth=7, learning_rate=0.001, gamma=2, colsample_bytree=0.8, score=0.998, total=  18.5s\n",
      "[CV] subsample=0.6, reg_lambda=1, reg_alpha=0, n_estimators=10, min_child_weight=1, max_depth=7, learning_rate=0.001, gamma=2, colsample_bytree=0.8 \n",
      "[CV]  subsample=0.6, reg_lambda=1, reg_alpha=0, n_estimators=10, min_child_weight=1, max_depth=7, learning_rate=0.001, gamma=2, colsample_bytree=0.8, score=0.997, total=  18.4s\n",
      "[CV] subsample=0.6, reg_lambda=1, reg_alpha=0, n_estimators=10, min_child_weight=1, max_depth=7, learning_rate=0.001, gamma=2, colsample_bytree=0.8 \n",
      "[CV]  subsample=0.6, reg_lambda=1, reg_alpha=0, n_estimators=10, min_child_weight=1, max_depth=7, learning_rate=0.001, gamma=2, colsample_bytree=0.8, score=0.039, total=  19.0s\n",
      "[CV] subsample=0.4, reg_lambda=4.5, reg_alpha=1, n_estimators=250, min_child_weight=1, max_depth=10, learning_rate=0.1, gamma=0.3, colsample_bytree=0.8 \n",
      "[CV]  subsample=0.4, reg_lambda=4.5, reg_alpha=1, n_estimators=250, min_child_weight=1, max_depth=10, learning_rate=0.1, gamma=0.3, colsample_bytree=0.8, score=0.638, total= 7.7min\n",
      "[CV] subsample=0.4, reg_lambda=4.5, reg_alpha=1, n_estimators=250, min_child_weight=1, max_depth=10, learning_rate=0.1, gamma=0.3, colsample_bytree=0.8 \n",
      "[CV]  subsample=0.4, reg_lambda=4.5, reg_alpha=1, n_estimators=250, min_child_weight=1, max_depth=10, learning_rate=0.1, gamma=0.3, colsample_bytree=0.8, score=0.994, total= 8.8min\n",
      "[CV] subsample=0.4, reg_lambda=4.5, reg_alpha=1, n_estimators=250, min_child_weight=1, max_depth=10, learning_rate=0.1, gamma=0.3, colsample_bytree=0.8 \n",
      "[CV]  subsample=0.4, reg_lambda=4.5, reg_alpha=1, n_estimators=250, min_child_weight=1, max_depth=10, learning_rate=0.1, gamma=0.3, colsample_bytree=0.8, score=0.998, total= 8.1min\n",
      "[CV] subsample=0.4, reg_lambda=4.5, reg_alpha=1, n_estimators=250, min_child_weight=1, max_depth=10, learning_rate=0.1, gamma=0.3, colsample_bytree=0.8 \n",
      "[CV]  subsample=0.4, reg_lambda=4.5, reg_alpha=1, n_estimators=250, min_child_weight=1, max_depth=10, learning_rate=0.1, gamma=0.3, colsample_bytree=0.8, score=0.999, total= 8.0min\n",
      "[CV] subsample=0.4, reg_lambda=4.5, reg_alpha=1, n_estimators=250, min_child_weight=1, max_depth=10, learning_rate=0.1, gamma=0.3, colsample_bytree=0.8 \n",
      "[CV]  subsample=0.4, reg_lambda=4.5, reg_alpha=1, n_estimators=250, min_child_weight=1, max_depth=10, learning_rate=0.1, gamma=0.3, colsample_bytree=0.8, score=0.998, total= 7.7min\n",
      "[CV] subsample=0.4, reg_lambda=4.5, reg_alpha=1, n_estimators=250, min_child_weight=1, max_depth=10, learning_rate=0.1, gamma=0.3, colsample_bytree=0.8 \n",
      "[CV]  subsample=0.4, reg_lambda=4.5, reg_alpha=1, n_estimators=250, min_child_weight=1, max_depth=10, learning_rate=0.1, gamma=0.3, colsample_bytree=0.8, score=0.998, total=13.0min\n",
      "[CV] subsample=0.4, reg_lambda=4.5, reg_alpha=1, n_estimators=250, min_child_weight=1, max_depth=10, learning_rate=0.1, gamma=0.3, colsample_bytree=0.8 \n",
      "[CV]  subsample=0.4, reg_lambda=4.5, reg_alpha=1, n_estimators=250, min_child_weight=1, max_depth=10, learning_rate=0.1, gamma=0.3, colsample_bytree=0.8, score=0.996, total=21.0min\n",
      "[CV] subsample=0.6, reg_lambda=1, reg_alpha=0, n_estimators=10, min_child_weight=5, max_depth=10, learning_rate=0.1, gamma=1.5, colsample_bytree=1.0 \n",
      "[CV]  subsample=0.6, reg_lambda=1, reg_alpha=0, n_estimators=10, min_child_weight=5, max_depth=10, learning_rate=0.1, gamma=1.5, colsample_bytree=1.0, score=0.088, total=  55.3s\n",
      "[CV] subsample=0.6, reg_lambda=1, reg_alpha=0, n_estimators=10, min_child_weight=5, max_depth=10, learning_rate=0.1, gamma=1.5, colsample_bytree=1.0 \n",
      "[CV]  subsample=0.6, reg_lambda=1, reg_alpha=0, n_estimators=10, min_child_weight=5, max_depth=10, learning_rate=0.1, gamma=1.5, colsample_bytree=1.0, score=0.998, total=  48.7s\n",
      "[CV] subsample=0.6, reg_lambda=1, reg_alpha=0, n_estimators=10, min_child_weight=5, max_depth=10, learning_rate=0.1, gamma=1.5, colsample_bytree=1.0 \n",
      "[CV]  subsample=0.6, reg_lambda=1, reg_alpha=0, n_estimators=10, min_child_weight=5, max_depth=10, learning_rate=0.1, gamma=1.5, colsample_bytree=1.0, score=0.998, total= 1.3min\n",
      "[CV] subsample=0.6, reg_lambda=1, reg_alpha=0, n_estimators=10, min_child_weight=5, max_depth=10, learning_rate=0.1, gamma=1.5, colsample_bytree=1.0 \n",
      "[CV]  subsample=0.6, reg_lambda=1, reg_alpha=0, n_estimators=10, min_child_weight=5, max_depth=10, learning_rate=0.1, gamma=1.5, colsample_bytree=1.0, score=0.998, total= 1.0min\n",
      "[CV] subsample=0.6, reg_lambda=1, reg_alpha=0, n_estimators=10, min_child_weight=5, max_depth=10, learning_rate=0.1, gamma=1.5, colsample_bytree=1.0 \n",
      "[CV]  subsample=0.6, reg_lambda=1, reg_alpha=0, n_estimators=10, min_child_weight=5, max_depth=10, learning_rate=0.1, gamma=1.5, colsample_bytree=1.0, score=0.998, total=  59.3s\n",
      "[CV] subsample=0.6, reg_lambda=1, reg_alpha=0, n_estimators=10, min_child_weight=5, max_depth=10, learning_rate=0.1, gamma=1.5, colsample_bytree=1.0 \n",
      "[CV]  subsample=0.6, reg_lambda=1, reg_alpha=0, n_estimators=10, min_child_weight=5, max_depth=10, learning_rate=0.1, gamma=1.5, colsample_bytree=1.0, score=0.998, total=  44.8s\n",
      "[CV] subsample=0.6, reg_lambda=1, reg_alpha=0, n_estimators=10, min_child_weight=5, max_depth=10, learning_rate=0.1, gamma=1.5, colsample_bytree=1.0 \n"
     ]
    },
    {
     "name": "stdout",
     "output_type": "stream",
     "text": [
      "[CV]  subsample=0.6, reg_lambda=1, reg_alpha=0, n_estimators=10, min_child_weight=5, max_depth=10, learning_rate=0.1, gamma=1.5, colsample_bytree=1.0, score=0.998, total= 1.1min\n",
      "[CV] subsample=0.2, reg_lambda=4.5, reg_alpha=0.5, n_estimators=50, min_child_weight=7, max_depth=2, learning_rate=0.001, gamma=1.5, colsample_bytree=0.8 \n",
      "[CV]  subsample=0.2, reg_lambda=4.5, reg_alpha=0.5, n_estimators=50, min_child_weight=7, max_depth=2, learning_rate=0.001, gamma=1.5, colsample_bytree=0.8, score=0.081, total= 1.6min\n",
      "[CV] subsample=0.2, reg_lambda=4.5, reg_alpha=0.5, n_estimators=50, min_child_weight=7, max_depth=2, learning_rate=0.001, gamma=1.5, colsample_bytree=0.8 \n",
      "[CV]  subsample=0.2, reg_lambda=4.5, reg_alpha=0.5, n_estimators=50, min_child_weight=7, max_depth=2, learning_rate=0.001, gamma=1.5, colsample_bytree=0.8, score=0.995, total= 1.5min\n",
      "[CV] subsample=0.2, reg_lambda=4.5, reg_alpha=0.5, n_estimators=50, min_child_weight=7, max_depth=2, learning_rate=0.001, gamma=1.5, colsample_bytree=0.8 \n",
      "[CV]  subsample=0.2, reg_lambda=4.5, reg_alpha=0.5, n_estimators=50, min_child_weight=7, max_depth=2, learning_rate=0.001, gamma=1.5, colsample_bytree=0.8, score=0.994, total= 1.2min\n",
      "[CV] subsample=0.2, reg_lambda=4.5, reg_alpha=0.5, n_estimators=50, min_child_weight=7, max_depth=2, learning_rate=0.001, gamma=1.5, colsample_bytree=0.8 \n",
      "[CV]  subsample=0.2, reg_lambda=4.5, reg_alpha=0.5, n_estimators=50, min_child_weight=7, max_depth=2, learning_rate=0.001, gamma=1.5, colsample_bytree=0.8, score=0.995, total= 1.2min\n",
      "[CV] subsample=0.2, reg_lambda=4.5, reg_alpha=0.5, n_estimators=50, min_child_weight=7, max_depth=2, learning_rate=0.001, gamma=1.5, colsample_bytree=0.8 \n",
      "[CV]  subsample=0.2, reg_lambda=4.5, reg_alpha=0.5, n_estimators=50, min_child_weight=7, max_depth=2, learning_rate=0.001, gamma=1.5, colsample_bytree=0.8, score=0.995, total= 1.4min\n",
      "[CV] subsample=0.2, reg_lambda=4.5, reg_alpha=0.5, n_estimators=50, min_child_weight=7, max_depth=2, learning_rate=0.001, gamma=1.5, colsample_bytree=0.8 \n",
      "[CV]  subsample=0.2, reg_lambda=4.5, reg_alpha=0.5, n_estimators=50, min_child_weight=7, max_depth=2, learning_rate=0.001, gamma=1.5, colsample_bytree=0.8, score=0.995, total= 1.8min\n",
      "[CV] subsample=0.2, reg_lambda=4.5, reg_alpha=0.5, n_estimators=50, min_child_weight=7, max_depth=2, learning_rate=0.001, gamma=1.5, colsample_bytree=0.8 \n",
      "[CV]  subsample=0.2, reg_lambda=4.5, reg_alpha=0.5, n_estimators=50, min_child_weight=7, max_depth=2, learning_rate=0.001, gamma=1.5, colsample_bytree=0.8, score=0.995, total= 1.5min\n",
      "[CV] subsample=0.7, reg_lambda=1, reg_alpha=0, n_estimators=50, min_child_weight=5, max_depth=2, learning_rate=0.001, gamma=0.5, colsample_bytree=0.8 \n",
      "[CV]  subsample=0.7, reg_lambda=1, reg_alpha=0, n_estimators=50, min_child_weight=5, max_depth=2, learning_rate=0.001, gamma=0.5, colsample_bytree=0.8, score=0.070, total= 1.9min\n",
      "[CV] subsample=0.7, reg_lambda=1, reg_alpha=0, n_estimators=50, min_child_weight=5, max_depth=2, learning_rate=0.001, gamma=0.5, colsample_bytree=0.8 \n",
      "[CV]  subsample=0.7, reg_lambda=1, reg_alpha=0, n_estimators=50, min_child_weight=5, max_depth=2, learning_rate=0.001, gamma=0.5, colsample_bytree=0.8, score=0.995, total= 1.8min\n",
      "[CV] subsample=0.7, reg_lambda=1, reg_alpha=0, n_estimators=50, min_child_weight=5, max_depth=2, learning_rate=0.001, gamma=0.5, colsample_bytree=0.8 \n",
      "[CV]  subsample=0.7, reg_lambda=1, reg_alpha=0, n_estimators=50, min_child_weight=5, max_depth=2, learning_rate=0.001, gamma=0.5, colsample_bytree=0.8, score=0.994, total= 1.7min\n",
      "[CV] subsample=0.7, reg_lambda=1, reg_alpha=0, n_estimators=50, min_child_weight=5, max_depth=2, learning_rate=0.001, gamma=0.5, colsample_bytree=0.8 \n",
      "[CV]  subsample=0.7, reg_lambda=1, reg_alpha=0, n_estimators=50, min_child_weight=5, max_depth=2, learning_rate=0.001, gamma=0.5, colsample_bytree=0.8, score=0.995, total= 1.6min\n",
      "[CV] subsample=0.7, reg_lambda=1, reg_alpha=0, n_estimators=50, min_child_weight=5, max_depth=2, learning_rate=0.001, gamma=0.5, colsample_bytree=0.8 \n",
      "[CV]  subsample=0.7, reg_lambda=1, reg_alpha=0, n_estimators=50, min_child_weight=5, max_depth=2, learning_rate=0.001, gamma=0.5, colsample_bytree=0.8, score=0.995, total= 1.3min\n",
      "[CV] subsample=0.7, reg_lambda=1, reg_alpha=0, n_estimators=50, min_child_weight=5, max_depth=2, learning_rate=0.001, gamma=0.5, colsample_bytree=0.8 \n",
      "[CV]  subsample=0.7, reg_lambda=1, reg_alpha=0, n_estimators=50, min_child_weight=5, max_depth=2, learning_rate=0.001, gamma=0.5, colsample_bytree=0.8, score=0.995, total= 1.8min\n",
      "[CV] subsample=0.7, reg_lambda=1, reg_alpha=0, n_estimators=50, min_child_weight=5, max_depth=2, learning_rate=0.001, gamma=0.5, colsample_bytree=0.8 \n",
      "[CV]  subsample=0.7, reg_lambda=1, reg_alpha=0, n_estimators=50, min_child_weight=5, max_depth=2, learning_rate=0.001, gamma=0.5, colsample_bytree=0.8, score=0.995, total= 1.6min\n",
      "[CV] subsample=0.5, reg_lambda=4.5, reg_alpha=1, n_estimators=50, min_child_weight=1, max_depth=10, learning_rate=0.01, gamma=0.5, colsample_bytree=0.8 \n",
      "[CV]  subsample=0.5, reg_lambda=4.5, reg_alpha=1, n_estimators=50, min_child_weight=1, max_depth=10, learning_rate=0.01, gamma=0.5, colsample_bytree=0.8, score=0.080, total= 3.6min\n",
      "[CV] subsample=0.5, reg_lambda=4.5, reg_alpha=1, n_estimators=50, min_child_weight=1, max_depth=10, learning_rate=0.01, gamma=0.5, colsample_bytree=0.8 \n",
      "[CV]  subsample=0.5, reg_lambda=4.5, reg_alpha=1, n_estimators=50, min_child_weight=1, max_depth=10, learning_rate=0.01, gamma=0.5, colsample_bytree=0.8, score=0.998, total= 3.3min\n",
      "[CV] subsample=0.5, reg_lambda=4.5, reg_alpha=1, n_estimators=50, min_child_weight=1, max_depth=10, learning_rate=0.01, gamma=0.5, colsample_bytree=0.8 \n",
      "[CV]  subsample=0.5, reg_lambda=4.5, reg_alpha=1, n_estimators=50, min_child_weight=1, max_depth=10, learning_rate=0.01, gamma=0.5, colsample_bytree=0.8, score=0.997, total= 3.3min\n",
      "[CV] subsample=0.5, reg_lambda=4.5, reg_alpha=1, n_estimators=50, min_child_weight=1, max_depth=10, learning_rate=0.01, gamma=0.5, colsample_bytree=0.8 \n",
      "[CV]  subsample=0.5, reg_lambda=4.5, reg_alpha=1, n_estimators=50, min_child_weight=1, max_depth=10, learning_rate=0.01, gamma=0.5, colsample_bytree=0.8, score=0.998, total= 3.1min\n",
      "[CV] subsample=0.5, reg_lambda=4.5, reg_alpha=1, n_estimators=50, min_child_weight=1, max_depth=10, learning_rate=0.01, gamma=0.5, colsample_bytree=0.8 \n",
      "[CV]  subsample=0.5, reg_lambda=4.5, reg_alpha=1, n_estimators=50, min_child_weight=1, max_depth=10, learning_rate=0.01, gamma=0.5, colsample_bytree=0.8, score=0.997, total= 3.9min\n",
      "[CV] subsample=0.5, reg_lambda=4.5, reg_alpha=1, n_estimators=50, min_child_weight=1, max_depth=10, learning_rate=0.01, gamma=0.5, colsample_bytree=0.8 \n",
      "[CV]  subsample=0.5, reg_lambda=4.5, reg_alpha=1, n_estimators=50, min_child_weight=1, max_depth=10, learning_rate=0.01, gamma=0.5, colsample_bytree=0.8, score=0.997, total= 3.3min\n",
      "[CV] subsample=0.5, reg_lambda=4.5, reg_alpha=1, n_estimators=50, min_child_weight=1, max_depth=10, learning_rate=0.01, gamma=0.5, colsample_bytree=0.8 \n",
      "[CV]  subsample=0.5, reg_lambda=4.5, reg_alpha=1, n_estimators=50, min_child_weight=1, max_depth=10, learning_rate=0.01, gamma=0.5, colsample_bytree=0.8, score=0.998, total= 2.4min\n",
      "[CV] subsample=0.7, reg_lambda=3, reg_alpha=1, n_estimators=250, min_child_weight=1, max_depth=2, learning_rate=0.01, gamma=2, colsample_bytree=0.3 \n",
      "[CV]  subsample=0.7, reg_lambda=3, reg_alpha=1, n_estimators=250, min_child_weight=1, max_depth=2, learning_rate=0.01, gamma=2, colsample_bytree=0.3, score=0.996, total= 2.8min\n",
      "[CV] subsample=0.7, reg_lambda=3, reg_alpha=1, n_estimators=250, min_child_weight=1, max_depth=2, learning_rate=0.01, gamma=2, colsample_bytree=0.3 \n",
      "[CV]  subsample=0.7, reg_lambda=3, reg_alpha=1, n_estimators=250, min_child_weight=1, max_depth=2, learning_rate=0.01, gamma=2, colsample_bytree=0.3, score=0.995, total= 3.4min\n",
      "[CV] subsample=0.7, reg_lambda=3, reg_alpha=1, n_estimators=250, min_child_weight=1, max_depth=2, learning_rate=0.01, gamma=2, colsample_bytree=0.3 \n",
      "[CV]  subsample=0.7, reg_lambda=3, reg_alpha=1, n_estimators=250, min_child_weight=1, max_depth=2, learning_rate=0.01, gamma=2, colsample_bytree=0.3, score=0.994, total= 2.7min\n",
      "[CV] subsample=0.7, reg_lambda=3, reg_alpha=1, n_estimators=250, min_child_weight=1, max_depth=2, learning_rate=0.01, gamma=2, colsample_bytree=0.3 \n"
     ]
    },
    {
     "name": "stdout",
     "output_type": "stream",
     "text": [
      "[CV]  subsample=0.7, reg_lambda=3, reg_alpha=1, n_estimators=250, min_child_weight=1, max_depth=2, learning_rate=0.01, gamma=2, colsample_bytree=0.3, score=0.995, total= 2.0min\n",
      "[CV] subsample=0.7, reg_lambda=3, reg_alpha=1, n_estimators=250, min_child_weight=1, max_depth=2, learning_rate=0.01, gamma=2, colsample_bytree=0.3 \n",
      "[CV]  subsample=0.7, reg_lambda=3, reg_alpha=1, n_estimators=250, min_child_weight=1, max_depth=2, learning_rate=0.01, gamma=2, colsample_bytree=0.3, score=0.995, total= 2.0min\n",
      "[CV] subsample=0.7, reg_lambda=3, reg_alpha=1, n_estimators=250, min_child_weight=1, max_depth=2, learning_rate=0.01, gamma=2, colsample_bytree=0.3 \n",
      "[CV]  subsample=0.7, reg_lambda=3, reg_alpha=1, n_estimators=250, min_child_weight=1, max_depth=2, learning_rate=0.01, gamma=2, colsample_bytree=0.3, score=0.995, total= 2.0min\n",
      "[CV] subsample=0.7, reg_lambda=3, reg_alpha=1, n_estimators=250, min_child_weight=1, max_depth=2, learning_rate=0.01, gamma=2, colsample_bytree=0.3 \n",
      "[CV]  subsample=0.7, reg_lambda=3, reg_alpha=1, n_estimators=250, min_child_weight=1, max_depth=2, learning_rate=0.01, gamma=2, colsample_bytree=0.3, score=0.995, total= 2.0min\n",
      "[CV] subsample=0.7, reg_lambda=1, reg_alpha=0.5, n_estimators=25, min_child_weight=1, max_depth=10, learning_rate=0.001, gamma=0.01, colsample_bytree=0.6 \n",
      "[CV]  subsample=0.7, reg_lambda=1, reg_alpha=0.5, n_estimators=25, min_child_weight=1, max_depth=10, learning_rate=0.001, gamma=0.01, colsample_bytree=0.6, score=0.107, total=  38.5s\n",
      "[CV] subsample=0.7, reg_lambda=1, reg_alpha=0.5, n_estimators=25, min_child_weight=1, max_depth=10, learning_rate=0.001, gamma=0.01, colsample_bytree=0.6 \n",
      "[CV]  subsample=0.7, reg_lambda=1, reg_alpha=0.5, n_estimators=25, min_child_weight=1, max_depth=10, learning_rate=0.001, gamma=0.01, colsample_bytree=0.6, score=0.997, total=  38.4s\n",
      "[CV] subsample=0.7, reg_lambda=1, reg_alpha=0.5, n_estimators=25, min_child_weight=1, max_depth=10, learning_rate=0.001, gamma=0.01, colsample_bytree=0.6 \n",
      "[CV]  subsample=0.7, reg_lambda=1, reg_alpha=0.5, n_estimators=25, min_child_weight=1, max_depth=10, learning_rate=0.001, gamma=0.01, colsample_bytree=0.6, score=0.996, total=  39.1s\n",
      "[CV] subsample=0.7, reg_lambda=1, reg_alpha=0.5, n_estimators=25, min_child_weight=1, max_depth=10, learning_rate=0.001, gamma=0.01, colsample_bytree=0.6 \n",
      "[CV]  subsample=0.7, reg_lambda=1, reg_alpha=0.5, n_estimators=25, min_child_weight=1, max_depth=10, learning_rate=0.001, gamma=0.01, colsample_bytree=0.6, score=0.996, total=  41.0s\n",
      "[CV] subsample=0.7, reg_lambda=1, reg_alpha=0.5, n_estimators=25, min_child_weight=1, max_depth=10, learning_rate=0.001, gamma=0.01, colsample_bytree=0.6 \n",
      "[CV]  subsample=0.7, reg_lambda=1, reg_alpha=0.5, n_estimators=25, min_child_weight=1, max_depth=10, learning_rate=0.001, gamma=0.01, colsample_bytree=0.6, score=0.996, total=  38.4s\n",
      "[CV] subsample=0.7, reg_lambda=1, reg_alpha=0.5, n_estimators=25, min_child_weight=1, max_depth=10, learning_rate=0.001, gamma=0.01, colsample_bytree=0.6 \n",
      "[CV]  subsample=0.7, reg_lambda=1, reg_alpha=0.5, n_estimators=25, min_child_weight=1, max_depth=10, learning_rate=0.001, gamma=0.01, colsample_bytree=0.6, score=0.996, total=  38.9s\n",
      "[CV] subsample=0.7, reg_lambda=1, reg_alpha=0.5, n_estimators=25, min_child_weight=1, max_depth=10, learning_rate=0.001, gamma=0.01, colsample_bytree=0.6 \n",
      "[CV]  subsample=0.7, reg_lambda=1, reg_alpha=0.5, n_estimators=25, min_child_weight=1, max_depth=10, learning_rate=0.001, gamma=0.01, colsample_bytree=0.6, score=0.136, total=  38.1s\n",
      "[CV] subsample=0.4, reg_lambda=1.5, reg_alpha=0, n_estimators=50, min_child_weight=3, max_depth=10, learning_rate=0.01, gamma=0.01, colsample_bytree=0.6 \n",
      "[CV]  subsample=0.4, reg_lambda=1.5, reg_alpha=0, n_estimators=50, min_child_weight=3, max_depth=10, learning_rate=0.01, gamma=0.01, colsample_bytree=0.6, score=0.117, total= 1.1min\n",
      "[CV] subsample=0.4, reg_lambda=1.5, reg_alpha=0, n_estimators=50, min_child_weight=3, max_depth=10, learning_rate=0.01, gamma=0.01, colsample_bytree=0.6 \n",
      "[CV]  subsample=0.4, reg_lambda=1.5, reg_alpha=0, n_estimators=50, min_child_weight=3, max_depth=10, learning_rate=0.01, gamma=0.01, colsample_bytree=0.6, score=0.997, total= 1.2min\n",
      "[CV] subsample=0.4, reg_lambda=1.5, reg_alpha=0, n_estimators=50, min_child_weight=3, max_depth=10, learning_rate=0.01, gamma=0.01, colsample_bytree=0.6 \n",
      "[CV]  subsample=0.4, reg_lambda=1.5, reg_alpha=0, n_estimators=50, min_child_weight=3, max_depth=10, learning_rate=0.01, gamma=0.01, colsample_bytree=0.6, score=0.997, total= 1.2min\n",
      "[CV] subsample=0.4, reg_lambda=1.5, reg_alpha=0, n_estimators=50, min_child_weight=3, max_depth=10, learning_rate=0.01, gamma=0.01, colsample_bytree=0.6 \n",
      "[CV]  subsample=0.4, reg_lambda=1.5, reg_alpha=0, n_estimators=50, min_child_weight=3, max_depth=10, learning_rate=0.01, gamma=0.01, colsample_bytree=0.6, score=0.997, total= 1.3min\n",
      "[CV] subsample=0.4, reg_lambda=1.5, reg_alpha=0, n_estimators=50, min_child_weight=3, max_depth=10, learning_rate=0.01, gamma=0.01, colsample_bytree=0.6 \n",
      "[CV]  subsample=0.4, reg_lambda=1.5, reg_alpha=0, n_estimators=50, min_child_weight=3, max_depth=10, learning_rate=0.01, gamma=0.01, colsample_bytree=0.6, score=0.997, total= 1.2min\n",
      "[CV] subsample=0.4, reg_lambda=1.5, reg_alpha=0, n_estimators=50, min_child_weight=3, max_depth=10, learning_rate=0.01, gamma=0.01, colsample_bytree=0.6 \n",
      "[CV]  subsample=0.4, reg_lambda=1.5, reg_alpha=0, n_estimators=50, min_child_weight=3, max_depth=10, learning_rate=0.01, gamma=0.01, colsample_bytree=0.6, score=0.997, total= 1.1min\n",
      "[CV] subsample=0.4, reg_lambda=1.5, reg_alpha=0, n_estimators=50, min_child_weight=3, max_depth=10, learning_rate=0.01, gamma=0.01, colsample_bytree=0.6 \n",
      "[CV]  subsample=0.4, reg_lambda=1.5, reg_alpha=0, n_estimators=50, min_child_weight=3, max_depth=10, learning_rate=0.01, gamma=0.01, colsample_bytree=0.6, score=0.997, total= 1.2min\n"
     ]
    },
    {
     "name": "stderr",
     "output_type": "stream",
     "text": [
      "[Parallel(n_jobs=1)]: Done  70 out of  70 | elapsed: 164.6min finished\n"
     ]
    }
   ],
   "source": [
    "model_xgboost = xgb_rscv.fit(X, y)"
   ]
  },
  {
   "cell_type": "code",
   "execution_count": 174,
   "metadata": {},
   "outputs": [
    {
     "name": "stdout",
     "output_type": "stream",
     "text": [
      "Learning Rate:  0.01\n",
      "Gamma:  2\n",
      "Max Depth:  2\n",
      "Subsample:  0.7\n",
      "Max Features at Split:  0.3\n",
      "Alpha:  1\n",
      "Lamda:  3\n",
      "Minimum Sum of the Instance Weight Hessian to Make a Child:  1\n",
      "Number of Trees:  250\n"
     ]
    }
   ],
   "source": [
    "print(\"Learning Rate: \", model_xgboost.best_estimator_.get_params()[\"learning_rate\"])\n",
    "print(\"Gamma: \", model_xgboost.best_estimator_.get_params()[\"gamma\"])\n",
    "print(\"Max Depth: \", model_xgboost.best_estimator_.get_params()[\"max_depth\"])\n",
    "print(\"Subsample: \", model_xgboost.best_estimator_.get_params()[\"subsample\"])\n",
    "print(\"Max Features at Split: \", model_xgboost.best_estimator_.get_params()[\"colsample_bytree\"])\n",
    "print(\"Alpha: \", model_xgboost.best_estimator_.get_params()[\"reg_alpha\"])\n",
    "print(\"Lamda: \", model_xgboost.best_estimator_.get_params()[\"reg_lambda\"])\n",
    "print(\"Minimum Sum of the Instance Weight Hessian to Make a Child: \",\n",
    "      model_xgboost.best_estimator_.get_params()[\"min_child_weight\"])\n",
    "print(\"Number of Trees: \", model_xgboost.best_estimator_.get_params()[\"n_estimators\"])"
   ]
  },
  {
   "cell_type": "code",
   "execution_count": null,
   "metadata": {},
   "outputs": [],
   "source": []
  },
  {
   "cell_type": "code",
   "execution_count": null,
   "metadata": {},
   "outputs": [],
   "source": []
  },
  {
   "cell_type": "code",
   "execution_count": null,
   "metadata": {},
   "outputs": [],
   "source": []
  },
  {
   "cell_type": "code",
   "execution_count": null,
   "metadata": {},
   "outputs": [],
   "source": []
  },
  {
   "cell_type": "code",
   "execution_count": 157,
   "metadata": {},
   "outputs": [
    {
     "data": {
      "text/plain": [
       "XGBClassifier(base_score=0.5, booster=None, colsample_bylevel=1,\n",
       "              colsample_bynode=1, colsample_bytree=1, gamma=0, gpu_id=-1,\n",
       "              importance_type='gain', interaction_constraints=None,\n",
       "              learning_rate=0.1, max_delta_step=0, max_depth=4,\n",
       "              min_child_weight=5, missing=nan, monotone_constraints=None,\n",
       "              n_estimators=100, n_jobs=-1, nthread=-1, num_parallel_tree=1,\n",
       "              objective='binary:logistic', random_state=0, reg_alpha=0.01,\n",
       "              reg_lambda=0.1, scale_pos_weight=1, subsample=1, tree_method=None,\n",
       "              validate_parameters=False, verbosity=None)"
      ]
     },
     "execution_count": 157,
     "metadata": {},
     "output_type": "execute_result"
    }
   ],
   "source": [
    "model.fit(X, y)"
   ]
  },
  {
   "cell_type": "code",
   "execution_count": 158,
   "metadata": {
    "scrolled": true
   },
   "outputs": [
    {
     "name": "stdout",
     "output_type": "stream",
     "text": [
      "              precision    recall  f1-score   support\n",
      "\n",
      "           0       1.00      1.00      1.00   1289169\n",
      "           1       0.94      0.72      0.81      7506\n",
      "\n",
      "    accuracy                           1.00   1296675\n",
      "   macro avg       0.97      0.86      0.91   1296675\n",
      "weighted avg       1.00      1.00      1.00   1296675\n",
      "\n",
      "[[1288833     336]\n",
      " [   2114    5392]]\n"
     ]
    },
    {
     "data": {
      "text/plain": [
       "<sklearn.metrics._plot.confusion_matrix.ConfusionMatrixDisplay at 0x13f27bc5dc8>"
      ]
     },
     "execution_count": 158,
     "metadata": {},
     "output_type": "execute_result"
    },
    {
     "data": {
      "image/png": "[encoded data removed]",
      "text/plain": [
       "<Figure size 432x288 with 2 Axes>"
      ]
     },
     "metadata": {
      "needs_background": "light"
     },
     "output_type": "display_data"
    }
   ],
   "source": [
    "# summarize the fit of the model\n",
    "expected = y\n",
    "predicted = model.predict(X) \n",
    "print(metrics.classification_report(expected, predicted))\n",
    "print(metrics.confusion_matrix(expected, predicted))\n",
    "plot_confusion_matrix(model, X, y)"
   ]
  },
  {
   "cell_type": "code",
   "execution_count": 159,
   "metadata": {},
   "outputs": [
    {
     "data": {
      "text/plain": [
       "0.8590490067018857"
      ]
     },
     "execution_count": 159,
     "metadata": {},
     "output_type": "execute_result"
    }
   ],
   "source": [
    "roc_auc_score(y, predicted)"
   ]
  },
  {
   "cell_type": "code",
   "execution_count": 160,
   "metadata": {},
   "outputs": [
    {
     "name": "stdout",
     "output_type": "stream",
     "text": [
      "2020-11-11 20:29:14 Min_max_scale: amt\n",
      "2020-11-11 20:29:14 Min_max_scale: city_pop\n",
      "2020-11-11 20:29:14 Min_max_scale: trans_distance\n",
      "2020-11-11 20:29:15 Min_max_scale: life_time_days\n",
      "2020-11-11 20:29:15 Min_max_scale: merchant_target_share\n",
      "2020-11-11 20:29:16 Min_max_scale: birth_year\n"
     ]
    }
   ],
   "source": [
    "X = test_4.drop('is_fraud', axis = 1)\n",
    "X = min_max_scale(X, features_to_scale)\n",
    "y = test_4.loc[:,'is_fraud']"
   ]
  },
  {
   "cell_type": "code",
   "execution_count": 161,
   "metadata": {},
   "outputs": [
    {
     "name": "stdout",
     "output_type": "stream",
     "text": [
      "              precision    recall  f1-score   support\n",
      "\n",
      "           0       1.00      1.00      1.00    553574\n",
      "           1       0.01      0.01      0.01      2145\n",
      "\n",
      "    accuracy                           0.99    555719\n",
      "   macro avg       0.50      0.50      0.50    555719\n",
      "weighted avg       0.99      0.99      0.99    555719\n",
      "\n",
      "[[551619   1955]\n",
      " [  2123     22]]\n"
     ]
    },
    {
     "data": {
      "text/plain": [
       "<sklearn.metrics._plot.confusion_matrix.ConfusionMatrixDisplay at 0x13f2966c9c8>"
      ]
     },
     "execution_count": 161,
     "metadata": {},
     "output_type": "execute_result"
    },
    {
     "data": {
      "image/png": "[encoded data removed]",
      "text/plain": [
       "<Figure size 432x288 with 2 Axes>"
      ]
     },
     "metadata": {
      "needs_background": "light"
     },
     "output_type": "display_data"
    }
   ],
   "source": [
    "# summarize the fit of the model\n",
    "expected = y\n",
    "predicted = model.predict(X)\n",
    "print(metrics.classification_report(expected, predicted))\n",
    "print(metrics.confusion_matrix(expected, predicted))\n",
    "plot_confusion_matrix(model, X, y)"
   ]
  },
  {
   "cell_type": "code",
   "execution_count": 162,
   "metadata": {},
   "outputs": [
    {
     "data": {
      "text/plain": [
       "0.5033624068790099"
      ]
     },
     "execution_count": 162,
     "metadata": {},
     "output_type": "execute_result"
    }
   ],
   "source": [
    "roc_auc_score(y, predicted)"
   ]
  },
  {
   "cell_type": "markdown",
   "metadata": {},
   "source": [
    "# Early stopping"
   ]
  },
  {
   "cell_type": "code",
   "execution_count": 55,
   "metadata": {},
   "outputs": [
    {
     "name": "stdout",
     "output_type": "stream",
     "text": [
      "2020-11-10 23:06:56 Min_max_scale: amt\n",
      "2020-11-10 23:06:56 Min_max_scale: city_pop\n",
      "2020-11-10 23:06:57 Min_max_scale: trans_distance\n",
      "2020-11-10 23:06:58 Min_max_scale: life_time_days\n",
      "2020-11-10 23:06:58 Min_max_scale: merchant_target_share\n",
      "2020-11-10 23:06:59 Min_max_scale: birth_year\n"
     ]
    }
   ],
   "source": [
    "features_to_scale = ['amt','city_pop', 'trans_distance', 'life_time_days', \n",
    "                     'merchant_target_share','birth_year']\n",
    "train_5 = min_max_scale(train_3, features_to_scale)"
   ]
  },
  {
   "cell_type": "code",
   "execution_count": null,
   "metadata": {},
   "outputs": [],
   "source": []
  },
  {
   "cell_type": "code",
   "execution_count": null,
   "metadata": {},
   "outputs": [],
   "source": []
  },
  {
   "cell_type": "code",
   "execution_count": 56,
   "metadata": {},
   "outputs": [],
   "source": [
    "target_encoder = TargetEncoder(cols=train_5.select_dtypes(include=[object]).columns)\n",
    "estimator = XGBClassifier(nthread=-1, n_estimators=1000, learning_rate=0.1)\n",
    "\n",
    "pipeline = Pipeline([\n",
    "    ('my_encoder', target_encoder),\n",
    "    ('my_estimator', estimator)\n",
    "])"
   ]
  },
  {
   "cell_type": "code",
   "execution_count": 57,
   "metadata": {},
   "outputs": [
    {
     "data": {
      "text/plain": [
       "((816904, 14), (90768, 14), (389003, 14))"
      ]
     },
     "execution_count": 57,
     "metadata": {},
     "output_type": "execute_result"
    }
   ],
   "source": [
    "X, X_test, y, y_test = train_test_split(train_5, train_5['is_fraud'],\n",
    "                                         stratify=train_5['is_fraud'],\n",
    "                                         test_size=0.3,\n",
    "                                         random_state=43)\n",
    "\n",
    "# отделяем от данных для обучения небольшой сэмпл для early_stopping\n",
    "X_train, X_val, y_train, y_val = train_test_split(X, y,\n",
    "                                                 stratify=y,\n",
    "                                                 test_size=0.1,\n",
    "                                                 random_state=43)\n",
    "\n",
    "# итого\n",
    "X_train.shape, X_val.shape, X_test.shape"
   ]
  },
  {
   "cell_type": "code",
   "execution_count": 58,
   "metadata": {},
   "outputs": [],
   "source": [
    "X_train = X_train.drop(['is_fraud'], axis=1)\n",
    "X_val = X_val.drop(['is_fraud'], axis=1)\n",
    "X_test = X_test.drop(['is_fraud'], axis=1)"
   ]
  },
  {
   "cell_type": "code",
   "execution_count": 59,
   "metadata": {},
   "outputs": [],
   "source": [
    "from sklearn.base import clone\n",
    "\n",
    "initial_steps = []\n",
    "for i in pipeline.steps:\n",
    "    initial_steps.append(clone(i[1]))\n",
    "\n",
    "transformers_pipeline = make_pipeline(*initial_steps[:-1])\n",
    "transformers_pipeline.fit(X_train, y_train)\n",
    "\n",
    "X_val_transformed = transformers_pipeline.transform(X_val)"
   ]
  },
  {
   "cell_type": "code",
   "execution_count": 60,
   "metadata": {},
   "outputs": [
    {
     "name": "stdout",
     "output_type": "stream",
     "text": [
      "[0]\tvalidation_0-auc:0.96047\n",
      "Will train until validation_0-auc hasn't improved in 5 rounds.\n",
      "[10]\tvalidation_0-auc:0.96618\n",
      "Stopping. Best iteration:\n",
      "[12]\tvalidation_0-auc:0.96635\n",
      "\n"
     ]
    },
    {
     "data": {
      "text/plain": [
       "Pipeline(memory=None,\n",
       "         steps=[('my_encoder',\n",
       "                 TargetEncoder(cols=Index(['category', 'gender', 'trans_hour', 'trans_week_day'], dtype='object'),\n",
       "                               drop_invariant=False, handle_missing='value',\n",
       "                               handle_unknown='value', min_samples_leaf=1,\n",
       "                               return_df=True, smoothing=1.0, verbose=0)),\n",
       "                ('my_estimator',\n",
       "                 XGBClassifier(base_score=0.5, booster=None,\n",
       "                               colsample_bylevel=1, colsample_...\n",
       "                               interaction_constraints=None, learning_rate=0.1,\n",
       "                               max_delta_step=0, max_depth=6,\n",
       "                               min_child_weight=1, missing=nan,\n",
       "                               monotone_constraints=None, n_estimators=1000,\n",
       "                               n_jobs=-1, nthread=-1, num_parallel_tree=1,\n",
       "                               objective='binary:logistic', random_state=0,\n",
       "                               reg_alpha=0, reg_lambda=1, scale_pos_weight=1,\n",
       "                               subsample=1, tree_method=None,\n",
       "                               validate_parameters=False, verbosity=None))],\n",
       "         verbose=False)"
      ]
     },
     "execution_count": 60,
     "metadata": {},
     "output_type": "execute_result"
    }
   ],
   "source": [
    "# передаем в fit параметры для early_stopping как: my_estimator__eval_set\n",
    "# учится очень быстро -  смысл в том, что берутся случайным образом перемешанные данные\n",
    "# высокий градиент функции потерь\n",
    "\n",
    "\n",
    "pipeline.fit(X_train, y_train,\n",
    "            my_estimator__eval_set=[(X_val_transformed, y_val)], \n",
    "            my_estimator__eval_metric='auc', \n",
    "            my_estimator__early_stopping_rounds=5, \n",
    "            my_estimator__verbose=10)"
   ]
  },
  {
   "cell_type": "code",
   "execution_count": 61,
   "metadata": {},
   "outputs": [
    {
     "data": {
      "text/plain": [
       "0.9678273182758805"
      ]
     },
     "execution_count": 61,
     "metadata": {},
     "output_type": "execute_result"
    }
   ],
   "source": [
    "y_pred = pipeline.predict_proba(X_test)\n",
    "roc_auc_score(y_test, y_pred[:, 1])"
   ]
  },
  {
   "cell_type": "markdown",
   "metadata": {},
   "source": [
    "# Test results"
   ]
  },
  {
   "cell_type": "code",
   "execution_count": 62,
   "metadata": {},
   "outputs": [
    {
     "name": "stdout",
     "output_type": "stream",
     "text": [
      "2020-11-10 23:07:41 Min_max_scale: amt\n",
      "2020-11-10 23:07:42 Min_max_scale: city_pop\n",
      "2020-11-10 23:07:42 Min_max_scale: trans_distance\n",
      "2020-11-10 23:07:42 Min_max_scale: life_time_days\n",
      "2020-11-10 23:07:43 Min_max_scale: merchant_target_share\n",
      "2020-11-10 23:07:43 Min_max_scale: birth_year\n"
     ]
    }
   ],
   "source": [
    "X_test_real = test_3.drop('is_fraud', axis = 1)\n",
    "X_test_real = min_max_scale(X_test_real, features_to_scale)\n",
    "y_test_real = test_3.loc[:,'is_fraud']"
   ]
  },
  {
   "cell_type": "code",
   "execution_count": 63,
   "metadata": {},
   "outputs": [
    {
     "data": {
      "text/plain": [
       "0.9480965907801345"
      ]
     },
     "execution_count": 63,
     "metadata": {},
     "output_type": "execute_result"
    }
   ],
   "source": [
    "y_pred = pipeline.predict_proba(X_test_real)\n",
    "roc_auc_score(y_test_real, y_pred[:, 1])"
   ]
  },
  {
   "cell_type": "code",
   "execution_count": 23,
   "metadata": {},
   "outputs": [],
   "source": [
    "data_tuples = list(zip(y_test_real,list(y_pred[:,1])))\n",
    "compare = pd.DataFrame(data_tuples, columns=['y_true','y_probas'])\n",
    "compare['y_probas'] = compare['y_probas'].round(3)"
   ]
  },
  {
   "cell_type": "code",
   "execution_count": null,
   "metadata": {},
   "outputs": [],
   "source": [
    "compare.to_excel('compare_8.xlsx', index = False)"
   ]
  },
  {
   "cell_type": "markdown",
   "metadata": {},
   "source": [
    "# Feature importance"
   ]
  },
  {
   "cell_type": "code",
   "execution_count": 81,
   "metadata": {
    "scrolled": true
   },
   "outputs": [
    {
     "data": {
      "text/html": [
       "<div>\n",
       "<style scoped>\n",
       "    .dataframe tbody tr th:only-of-type {\n",
       "        vertical-align: middle;\n",
       "    }\n",
       "\n",
       "    .dataframe tbody tr th {\n",
       "        vertical-align: top;\n",
       "    }\n",
       "\n",
       "    .dataframe thead th {\n",
       "        text-align: right;\n",
       "    }\n",
       "</style>\n",
       "<table border=\"1\" class=\"dataframe\">\n",
       "  <thead>\n",
       "    <tr style=\"text-align: right;\">\n",
       "      <th></th>\n",
       "      <th>importance</th>\n",
       "    </tr>\n",
       "  </thead>\n",
       "  <tbody>\n",
       "    <tr>\n",
       "      <th>trans_hour</th>\n",
       "      <td>0.198757</td>\n",
       "    </tr>\n",
       "    <tr>\n",
       "      <th>typical_zip</th>\n",
       "      <td>0.193100</td>\n",
       "    </tr>\n",
       "    <tr>\n",
       "      <th>amt_norm</th>\n",
       "      <td>0.189923</td>\n",
       "    </tr>\n",
       "    <tr>\n",
       "      <th>category</th>\n",
       "      <td>0.154310</td>\n",
       "    </tr>\n",
       "    <tr>\n",
       "      <th>earlier_fraudster</th>\n",
       "      <td>0.074473</td>\n",
       "    </tr>\n",
       "    <tr>\n",
       "      <th>gender</th>\n",
       "      <td>0.071177</td>\n",
       "    </tr>\n",
       "    <tr>\n",
       "      <th>birth_year_norm</th>\n",
       "      <td>0.066733</td>\n",
       "    </tr>\n",
       "    <tr>\n",
       "      <th>merchant_target_share_norm</th>\n",
       "      <td>0.031752</td>\n",
       "    </tr>\n",
       "    <tr>\n",
       "      <th>city_pop_norm</th>\n",
       "      <td>0.012960</td>\n",
       "    </tr>\n",
       "    <tr>\n",
       "      <th>life_time_days_norm</th>\n",
       "      <td>0.006416</td>\n",
       "    </tr>\n",
       "    <tr>\n",
       "      <th>trans_distance_norm</th>\n",
       "      <td>0.000399</td>\n",
       "    </tr>\n",
       "    <tr>\n",
       "      <th>trans_week_day</th>\n",
       "      <td>0.000000</td>\n",
       "    </tr>\n",
       "    <tr>\n",
       "      <th>typical_job</th>\n",
       "      <td>0.000000</td>\n",
       "    </tr>\n",
       "  </tbody>\n",
       "</table>\n",
       "</div>"
      ],
      "text/plain": [
       "                            importance\n",
       "trans_hour                    0.198757\n",
       "typical_zip                   0.193100\n",
       "amt_norm                      0.189923\n",
       "category                      0.154310\n",
       "earlier_fraudster             0.074473\n",
       "gender                        0.071177\n",
       "birth_year_norm               0.066733\n",
       "merchant_target_share_norm    0.031752\n",
       "city_pop_norm                 0.012960\n",
       "life_time_days_norm           0.006416\n",
       "trans_distance_norm           0.000399\n",
       "trans_week_day                0.000000\n",
       "typical_job                   0.000000"
      ]
     },
     "execution_count": 81,
     "metadata": {},
     "output_type": "execute_result"
    }
   ],
   "source": [
    "fi=pd.DataFrame({'importance':pipeline[1].feature_importances_},index=X_train.columns)\n",
    "fi.sort_values('importance',ascending=False).head(15)\n",
    "# берем фичу, по ней упорядочиваем весь датасет. Например отсортировали по возрасту. Смотрим как поверхность делит выборку и на какие состояния\n",
    "# например больши и меньше 30 лет. На этих областях считается empurity из пропорций\n",
    "# всего доля единичек - 1%. Меньше 30 - 0.5% а больше 30 - 0.5%\n",
    "# Критерий Джини: - 1 - вероятность 1 класса и 1 - вероятность 0 класса. \n",
    "# При каждом делении неопределенность должна уменьшаться. 1 минус сумма квадратов по одному классу и 1 минус сумма квадратов по другому классу. \n",
    "# Когда по какой-то фиче делим - получаем информационный прирост.\n",
    "# featureimportance - информационный прирост, полученный для каждой фичи. какая-то фича может фигурировать в нескольких уровнях дерева. \n",
    "# featureimportance - пример с шафматной доской (делим несколько раз вдоль и поперек)\n",
    "\n"
   ]
  },
  {
   "cell_type": "code",
   "execution_count": 24,
   "metadata": {},
   "outputs": [
    {
     "data": {
      "text/html": [
       "<div>\n",
       "<style scoped>\n",
       "    .dataframe tbody tr th:only-of-type {\n",
       "        vertical-align: middle;\n",
       "    }\n",
       "\n",
       "    .dataframe tbody tr th {\n",
       "        vertical-align: top;\n",
       "    }\n",
       "\n",
       "    .dataframe thead th {\n",
       "        text-align: right;\n",
       "    }\n",
       "</style>\n",
       "<table border=\"1\" class=\"dataframe\">\n",
       "  <thead>\n",
       "    <tr style=\"text-align: right;\">\n",
       "      <th></th>\n",
       "      <th>Unnamed: 0</th>\n",
       "      <th>trans_date_trans_time</th>\n",
       "      <th>cc_num</th>\n",
       "      <th>merchant</th>\n",
       "      <th>category</th>\n",
       "      <th>amt</th>\n",
       "      <th>first</th>\n",
       "      <th>last</th>\n",
       "      <th>gender</th>\n",
       "      <th>street</th>\n",
       "      <th>city</th>\n",
       "      <th>state</th>\n",
       "      <th>zip</th>\n",
       "      <th>lat</th>\n",
       "      <th>long</th>\n",
       "      <th>city_pop</th>\n",
       "      <th>job</th>\n",
       "      <th>dob</th>\n",
       "      <th>trans_num</th>\n",
       "      <th>unix_time</th>\n",
       "      <th>merch_lat</th>\n",
       "      <th>merch_long</th>\n",
       "      <th>is_fraud</th>\n",
       "      <th>trans_hour</th>\n",
       "      <th>trans_dttm</th>\n",
       "      <th>birth_year</th>\n",
       "      <th>trans_week_day</th>\n",
       "      <th>trans_distance</th>\n",
       "      <th>typical_zip</th>\n",
       "      <th>typical_job</th>\n",
       "      <th>earlier_fraudster</th>\n",
       "    </tr>\n",
       "  </thead>\n",
       "  <tbody>\n",
       "    <tr>\n",
       "      <th>0</th>\n",
       "      <td>0</td>\n",
       "      <td>2020-06-21 12:14:25</td>\n",
       "      <td>2291163933867244</td>\n",
       "      <td>fraud_Kirlin and Sons</td>\n",
       "      <td>personal_care</td>\n",
       "      <td>2.86</td>\n",
       "      <td>Jeff</td>\n",
       "      <td>Elliott</td>\n",
       "      <td>M</td>\n",
       "      <td>351 Darlene Green</td>\n",
       "      <td>Columbia</td>\n",
       "      <td>SC</td>\n",
       "      <td>29209</td>\n",
       "      <td>33.9659</td>\n",
       "      <td>-80.9355</td>\n",
       "      <td>333497</td>\n",
       "      <td>Mechanical engineer</td>\n",
       "      <td>1968-03-19</td>\n",
       "      <td>2da90c7d74bd46a0caf3777415b3ebd3</td>\n",
       "      <td>1371816865</td>\n",
       "      <td>33.986391</td>\n",
       "      <td>-81.200714</td>\n",
       "      <td>0</td>\n",
       "      <td>12</td>\n",
       "      <td>2020-06-21 12:14:25</td>\n",
       "      <td>1968</td>\n",
       "      <td>Sunday</td>\n",
       "      <td>24.569172</td>\n",
       "      <td>1</td>\n",
       "      <td>1</td>\n",
       "      <td>1</td>\n",
       "    </tr>\n",
       "    <tr>\n",
       "      <th>1</th>\n",
       "      <td>1</td>\n",
       "      <td>2020-06-21 12:14:33</td>\n",
       "      <td>3573030041201292</td>\n",
       "      <td>fraud_Sporer-Keebler</td>\n",
       "      <td>personal_care</td>\n",
       "      <td>29.84</td>\n",
       "      <td>Joanne</td>\n",
       "      <td>Williams</td>\n",
       "      <td>F</td>\n",
       "      <td>3638 Marsh Union</td>\n",
       "      <td>Altonah</td>\n",
       "      <td>UT</td>\n",
       "      <td>84002</td>\n",
       "      <td>40.3207</td>\n",
       "      <td>-110.4360</td>\n",
       "      <td>302</td>\n",
       "      <td>Sales professional, IT</td>\n",
       "      <td>1990-01-17</td>\n",
       "      <td>324cc204407e99f51b0d6ca0055005e7</td>\n",
       "      <td>1371816873</td>\n",
       "      <td>39.450498</td>\n",
       "      <td>-109.960431</td>\n",
       "      <td>0</td>\n",
       "      <td>12</td>\n",
       "      <td>2020-06-21 12:14:33</td>\n",
       "      <td>1990</td>\n",
       "      <td>Sunday</td>\n",
       "      <td>104.958031</td>\n",
       "      <td>1</td>\n",
       "      <td>1</td>\n",
       "      <td>1</td>\n",
       "    </tr>\n",
       "    <tr>\n",
       "      <th>2</th>\n",
       "      <td>2</td>\n",
       "      <td>2020-06-21 12:14:53</td>\n",
       "      <td>3598215285024754</td>\n",
       "      <td>fraud_Swaniawski, Nitzsche and Welch</td>\n",
       "      <td>health_fitness</td>\n",
       "      <td>41.28</td>\n",
       "      <td>Ashley</td>\n",
       "      <td>Lopez</td>\n",
       "      <td>F</td>\n",
       "      <td>9333 Valentine Point</td>\n",
       "      <td>Bellmore</td>\n",
       "      <td>NY</td>\n",
       "      <td>11710</td>\n",
       "      <td>40.6729</td>\n",
       "      <td>-73.5365</td>\n",
       "      <td>34496</td>\n",
       "      <td>Librarian, public</td>\n",
       "      <td>1970-10-21</td>\n",
       "      <td>c81755dbbbea9d5c77f094348a7579be</td>\n",
       "      <td>1371816893</td>\n",
       "      <td>40.495810</td>\n",
       "      <td>-74.196111</td>\n",
       "      <td>0</td>\n",
       "      <td>12</td>\n",
       "      <td>2020-06-21 12:14:53</td>\n",
       "      <td>1970</td>\n",
       "      <td>Sunday</td>\n",
       "      <td>59.098624</td>\n",
       "      <td>1</td>\n",
       "      <td>1</td>\n",
       "      <td>1</td>\n",
       "    </tr>\n",
       "    <tr>\n",
       "      <th>3</th>\n",
       "      <td>3</td>\n",
       "      <td>2020-06-21 12:15:15</td>\n",
       "      <td>3591919803438423</td>\n",
       "      <td>fraud_Haley Group</td>\n",
       "      <td>misc_pos</td>\n",
       "      <td>60.05</td>\n",
       "      <td>Brian</td>\n",
       "      <td>Williams</td>\n",
       "      <td>M</td>\n",
       "      <td>32941 Krystal Mill Apt. 552</td>\n",
       "      <td>Titusville</td>\n",
       "      <td>FL</td>\n",
       "      <td>32780</td>\n",
       "      <td>28.5697</td>\n",
       "      <td>-80.8191</td>\n",
       "      <td>54767</td>\n",
       "      <td>Set designer</td>\n",
       "      <td>1987-07-25</td>\n",
       "      <td>2159175b9efe66dc301f149d3d5abf8c</td>\n",
       "      <td>1371816915</td>\n",
       "      <td>28.812398</td>\n",
       "      <td>-80.883061</td>\n",
       "      <td>0</td>\n",
       "      <td>12</td>\n",
       "      <td>2020-06-21 12:15:15</td>\n",
       "      <td>1987</td>\n",
       "      <td>Sunday</td>\n",
       "      <td>27.707262</td>\n",
       "      <td>1</td>\n",
       "      <td>1</td>\n",
       "      <td>0</td>\n",
       "    </tr>\n",
       "    <tr>\n",
       "      <th>4</th>\n",
       "      <td>4</td>\n",
       "      <td>2020-06-21 12:15:17</td>\n",
       "      <td>3526826139003047</td>\n",
       "      <td>fraud_Johnston-Casper</td>\n",
       "      <td>travel</td>\n",
       "      <td>3.19</td>\n",
       "      <td>Nathan</td>\n",
       "      <td>Massey</td>\n",
       "      <td>M</td>\n",
       "      <td>5783 Evan Roads Apt. 465</td>\n",
       "      <td>Falmouth</td>\n",
       "      <td>MI</td>\n",
       "      <td>49632</td>\n",
       "      <td>44.2529</td>\n",
       "      <td>-85.0170</td>\n",
       "      <td>1126</td>\n",
       "      <td>Furniture designer</td>\n",
       "      <td>1955-07-06</td>\n",
       "      <td>57ff021bd3f328f8738bb535c302a31b</td>\n",
       "      <td>1371816917</td>\n",
       "      <td>44.959148</td>\n",
       "      <td>-85.884734</td>\n",
       "      <td>0</td>\n",
       "      <td>12</td>\n",
       "      <td>2020-06-21 12:15:17</td>\n",
       "      <td>1955</td>\n",
       "      <td>Sunday</td>\n",
       "      <td>104.367859</td>\n",
       "      <td>1</td>\n",
       "      <td>1</td>\n",
       "      <td>1</td>\n",
       "    </tr>\n",
       "    <tr>\n",
       "      <th>...</th>\n",
       "      <td>...</td>\n",
       "      <td>...</td>\n",
       "      <td>...</td>\n",
       "      <td>...</td>\n",
       "      <td>...</td>\n",
       "      <td>...</td>\n",
       "      <td>...</td>\n",
       "      <td>...</td>\n",
       "      <td>...</td>\n",
       "      <td>...</td>\n",
       "      <td>...</td>\n",
       "      <td>...</td>\n",
       "      <td>...</td>\n",
       "      <td>...</td>\n",
       "      <td>...</td>\n",
       "      <td>...</td>\n",
       "      <td>...</td>\n",
       "      <td>...</td>\n",
       "      <td>...</td>\n",
       "      <td>...</td>\n",
       "      <td>...</td>\n",
       "      <td>...</td>\n",
       "      <td>...</td>\n",
       "      <td>...</td>\n",
       "      <td>...</td>\n",
       "      <td>...</td>\n",
       "      <td>...</td>\n",
       "      <td>...</td>\n",
       "      <td>...</td>\n",
       "      <td>...</td>\n",
       "      <td>...</td>\n",
       "    </tr>\n",
       "    <tr>\n",
       "      <th>555714</th>\n",
       "      <td>555714</td>\n",
       "      <td>2020-12-31 23:59:07</td>\n",
       "      <td>30560609640617</td>\n",
       "      <td>fraud_Reilly and Sons</td>\n",
       "      <td>health_fitness</td>\n",
       "      <td>43.77</td>\n",
       "      <td>Michael</td>\n",
       "      <td>Olson</td>\n",
       "      <td>M</td>\n",
       "      <td>558 Michael Estates</td>\n",
       "      <td>Luray</td>\n",
       "      <td>MO</td>\n",
       "      <td>63453</td>\n",
       "      <td>40.4931</td>\n",
       "      <td>-91.8912</td>\n",
       "      <td>519</td>\n",
       "      <td>Town planner</td>\n",
       "      <td>1966-02-13</td>\n",
       "      <td>9b1f753c79894c9f4b71f04581835ada</td>\n",
       "      <td>1388534347</td>\n",
       "      <td>39.946837</td>\n",
       "      <td>-91.333331</td>\n",
       "      <td>0</td>\n",
       "      <td>23</td>\n",
       "      <td>2020-12-31 23:59:07</td>\n",
       "      <td>1966</td>\n",
       "      <td>Thursday</td>\n",
       "      <td>77.050328</td>\n",
       "      <td>1</td>\n",
       "      <td>1</td>\n",
       "      <td>0</td>\n",
       "    </tr>\n",
       "    <tr>\n",
       "      <th>555715</th>\n",
       "      <td>555715</td>\n",
       "      <td>2020-12-31 23:59:09</td>\n",
       "      <td>3556613125071656</td>\n",
       "      <td>fraud_Hoppe-Parisian</td>\n",
       "      <td>kids_pets</td>\n",
       "      <td>111.84</td>\n",
       "      <td>Jose</td>\n",
       "      <td>Vasquez</td>\n",
       "      <td>M</td>\n",
       "      <td>572 Davis Mountains</td>\n",
       "      <td>Lake Jackson</td>\n",
       "      <td>TX</td>\n",
       "      <td>77566</td>\n",
       "      <td>29.0393</td>\n",
       "      <td>-95.4401</td>\n",
       "      <td>28739</td>\n",
       "      <td>Futures trader</td>\n",
       "      <td>1999-12-27</td>\n",
       "      <td>2090647dac2c89a1d86c514c427f5b91</td>\n",
       "      <td>1388534349</td>\n",
       "      <td>29.661049</td>\n",
       "      <td>-96.186633</td>\n",
       "      <td>0</td>\n",
       "      <td>23</td>\n",
       "      <td>2020-12-31 23:59:09</td>\n",
       "      <td>1999</td>\n",
       "      <td>Thursday</td>\n",
       "      <td>100.105836</td>\n",
       "      <td>1</td>\n",
       "      <td>1</td>\n",
       "      <td>1</td>\n",
       "    </tr>\n",
       "    <tr>\n",
       "      <th>555716</th>\n",
       "      <td>555716</td>\n",
       "      <td>2020-12-31 23:59:15</td>\n",
       "      <td>6011724471098086</td>\n",
       "      <td>fraud_Rau-Robel</td>\n",
       "      <td>kids_pets</td>\n",
       "      <td>86.88</td>\n",
       "      <td>Ann</td>\n",
       "      <td>Lawson</td>\n",
       "      <td>F</td>\n",
       "      <td>144 Evans Islands Apt. 683</td>\n",
       "      <td>Burbank</td>\n",
       "      <td>WA</td>\n",
       "      <td>99323</td>\n",
       "      <td>46.1966</td>\n",
       "      <td>-118.9017</td>\n",
       "      <td>3684</td>\n",
       "      <td>Musician</td>\n",
       "      <td>1981-11-29</td>\n",
       "      <td>6c5b7c8add471975aa0fec023b2e8408</td>\n",
       "      <td>1388534355</td>\n",
       "      <td>46.658340</td>\n",
       "      <td>-119.715054</td>\n",
       "      <td>0</td>\n",
       "      <td>23</td>\n",
       "      <td>2020-12-31 23:59:15</td>\n",
       "      <td>1981</td>\n",
       "      <td>Thursday</td>\n",
       "      <td>80.784654</td>\n",
       "      <td>1</td>\n",
       "      <td>1</td>\n",
       "      <td>1</td>\n",
       "    </tr>\n",
       "    <tr>\n",
       "      <th>555717</th>\n",
       "      <td>555717</td>\n",
       "      <td>2020-12-31 23:59:24</td>\n",
       "      <td>4079773899158</td>\n",
       "      <td>fraud_Breitenberg LLC</td>\n",
       "      <td>travel</td>\n",
       "      <td>7.99</td>\n",
       "      <td>Eric</td>\n",
       "      <td>Preston</td>\n",
       "      <td>M</td>\n",
       "      <td>7020 Doyle Stream Apt. 951</td>\n",
       "      <td>Mesa</td>\n",
       "      <td>ID</td>\n",
       "      <td>83643</td>\n",
       "      <td>44.6255</td>\n",
       "      <td>-116.4493</td>\n",
       "      <td>129</td>\n",
       "      <td>Cartographer</td>\n",
       "      <td>1965-12-15</td>\n",
       "      <td>14392d723bb7737606b2700ac791b7aa</td>\n",
       "      <td>1388534364</td>\n",
       "      <td>44.470525</td>\n",
       "      <td>-117.080888</td>\n",
       "      <td>0</td>\n",
       "      <td>23</td>\n",
       "      <td>2020-12-31 23:59:24</td>\n",
       "      <td>1965</td>\n",
       "      <td>Thursday</td>\n",
       "      <td>52.949857</td>\n",
       "      <td>1</td>\n",
       "      <td>1</td>\n",
       "      <td>1</td>\n",
       "    </tr>\n",
       "    <tr>\n",
       "      <th>555718</th>\n",
       "      <td>555718</td>\n",
       "      <td>2020-12-31 23:59:34</td>\n",
       "      <td>4170689372027579</td>\n",
       "      <td>fraud_Dare-Marvin</td>\n",
       "      <td>entertainment</td>\n",
       "      <td>38.13</td>\n",
       "      <td>Samuel</td>\n",
       "      <td>Frey</td>\n",
       "      <td>M</td>\n",
       "      <td>830 Myers Plaza Apt. 384</td>\n",
       "      <td>Edmond</td>\n",
       "      <td>OK</td>\n",
       "      <td>73034</td>\n",
       "      <td>35.6665</td>\n",
       "      <td>-97.4798</td>\n",
       "      <td>116001</td>\n",
       "      <td>Media buyer</td>\n",
       "      <td>1993-05-10</td>\n",
       "      <td>1765bb45b3aa3224b4cdcb6e7a96cee3</td>\n",
       "      <td>1388534374</td>\n",
       "      <td>36.210097</td>\n",
       "      <td>-97.036372</td>\n",
       "      <td>0</td>\n",
       "      <td>23</td>\n",
       "      <td>2020-12-31 23:59:34</td>\n",
       "      <td>1993</td>\n",
       "      <td>Thursday</td>\n",
       "      <td>72.461029</td>\n",
       "      <td>1</td>\n",
       "      <td>1</td>\n",
       "      <td>0</td>\n",
       "    </tr>\n",
       "  </tbody>\n",
       "</table>\n",
       "<p>555719 rows × 31 columns</p>\n",
       "</div>"
      ],
      "text/plain": [
       "        Unnamed: 0 trans_date_trans_time            cc_num                              merchant        category     amt    first      last gender                       street          city state    zip      lat      long  city_pop                     job         dob                         trans_num   unix_time  merch_lat  merch_long  is_fraud trans_hour          trans_dttm  birth_year trans_week_day  trans_distance  typical_zip  typical_job  earlier_fraudster\n",
       "0                0   2020-06-21 12:14:25  2291163933867244                 fraud_Kirlin and Sons   personal_care    2.86     Jeff   Elliott      M            351 Darlene Green      Columbia    SC  29209  33.9659  -80.9355    333497     Mechanical engineer  1968-03-19  2da90c7d74bd46a0caf3777415b3ebd3  1371816865  33.986391  -81.200714         0         12 2020-06-21 12:14:25        1968         Sunday       24.569172            1            1                  1\n",
       "1                1   2020-06-21 12:14:33  3573030041201292                  fraud_Sporer-Keebler   personal_care   29.84   Joanne  Williams      F             3638 Marsh Union       Altonah    UT  84002  40.3207 -110.4360       302  Sales professional, IT  1990-01-17  324cc204407e99f51b0d6ca0055005e7  1371816873  39.450498 -109.960431         0         12 2020-06-21 12:14:33        1990         Sunday      104.958031            1            1                  1\n",
       "2                2   2020-06-21 12:14:53  3598215285024754  fraud_Swaniawski, Nitzsche and Welch  health_fitness   41.28   Ashley     Lopez      F         9333 Valentine Point      Bellmore    NY  11710  40.6729  -73.5365     34496       Librarian, public  1970-10-21  c81755dbbbea9d5c77f094348a7579be  1371816893  40.495810  -74.196111         0         12 2020-06-21 12:14:53        1970         Sunday       59.098624            1            1                  1\n",
       "3                3   2020-06-21 12:15:15  3591919803438423                     fraud_Haley Group        misc_pos   60.05    Brian  Williams      M  32941 Krystal Mill Apt. 552    Titusville    FL  32780  28.5697  -80.8191     54767            Set designer  1987-07-25  2159175b9efe66dc301f149d3d5abf8c  1371816915  28.812398  -80.883061         0         12 2020-06-21 12:15:15        1987         Sunday       27.707262            1            1                  0\n",
       "4                4   2020-06-21 12:15:17  3526826139003047                 fraud_Johnston-Casper          travel    3.19   Nathan    Massey      M     5783 Evan Roads Apt. 465      Falmouth    MI  49632  44.2529  -85.0170      1126      Furniture designer  1955-07-06  57ff021bd3f328f8738bb535c302a31b  1371816917  44.959148  -85.884734         0         12 2020-06-21 12:15:17        1955         Sunday      104.367859            1            1                  1\n",
       "...            ...                   ...               ...                                   ...             ...     ...      ...       ...    ...                          ...           ...   ...    ...      ...       ...       ...                     ...         ...                               ...         ...        ...         ...       ...        ...                 ...         ...            ...             ...          ...          ...                ...\n",
       "555714      555714   2020-12-31 23:59:07    30560609640617                 fraud_Reilly and Sons  health_fitness   43.77  Michael     Olson      M          558 Michael Estates         Luray    MO  63453  40.4931  -91.8912       519            Town planner  1966-02-13  9b1f753c79894c9f4b71f04581835ada  1388534347  39.946837  -91.333331         0         23 2020-12-31 23:59:07        1966       Thursday       77.050328            1            1                  0\n",
       "555715      555715   2020-12-31 23:59:09  3556613125071656                  fraud_Hoppe-Parisian       kids_pets  111.84     Jose   Vasquez      M          572 Davis Mountains  Lake Jackson    TX  77566  29.0393  -95.4401     28739          Futures trader  1999-12-27  2090647dac2c89a1d86c514c427f5b91  1388534349  29.661049  -96.186633         0         23 2020-12-31 23:59:09        1999       Thursday      100.105836            1            1                  1\n",
       "555716      555716   2020-12-31 23:59:15  6011724471098086                       fraud_Rau-Robel       kids_pets   86.88      Ann    Lawson      F   144 Evans Islands Apt. 683       Burbank    WA  99323  46.1966 -118.9017      3684                Musician  1981-11-29  6c5b7c8add471975aa0fec023b2e8408  1388534355  46.658340 -119.715054         0         23 2020-12-31 23:59:15        1981       Thursday       80.784654            1            1                  1\n",
       "555717      555717   2020-12-31 23:59:24     4079773899158                 fraud_Breitenberg LLC          travel    7.99     Eric   Preston      M   7020 Doyle Stream Apt. 951          Mesa    ID  83643  44.6255 -116.4493       129            Cartographer  1965-12-15  14392d723bb7737606b2700ac791b7aa  1388534364  44.470525 -117.080888         0         23 2020-12-31 23:59:24        1965       Thursday       52.949857            1            1                  1\n",
       "555718      555718   2020-12-31 23:59:34  4170689372027579                     fraud_Dare-Marvin   entertainment   38.13   Samuel      Frey      M     830 Myers Plaza Apt. 384        Edmond    OK  73034  35.6665  -97.4798    116001             Media buyer  1993-05-10  1765bb45b3aa3224b4cdcb6e7a96cee3  1388534374  36.210097  -97.036372         0         23 2020-12-31 23:59:34        1993       Thursday       72.461029            1            1                  0\n",
       "\n",
       "[555719 rows x 31 columns]"
      ]
     },
     "execution_count": 24,
     "metadata": {},
     "output_type": "execute_result"
    }
   ],
   "source": [
    "test"
   ]
  },
  {
   "cell_type": "code",
   "execution_count": 26,
   "metadata": {},
   "outputs": [
    {
     "data": {
      "text/html": [
       "<div>\n",
       "<style scoped>\n",
       "    .dataframe tbody tr th:only-of-type {\n",
       "        vertical-align: middle;\n",
       "    }\n",
       "\n",
       "    .dataframe tbody tr th {\n",
       "        vertical-align: top;\n",
       "    }\n",
       "\n",
       "    .dataframe thead th {\n",
       "        text-align: right;\n",
       "    }\n",
       "</style>\n",
       "<table border=\"1\" class=\"dataframe\">\n",
       "  <thead>\n",
       "    <tr style=\"text-align: right;\">\n",
       "      <th></th>\n",
       "      <th>category_entertainment</th>\n",
       "      <th>category_food_dining</th>\n",
       "      <th>category_gas_transport</th>\n",
       "      <th>category_grocery_net</th>\n",
       "      <th>category_grocery_pos</th>\n",
       "      <th>category_health_fitness</th>\n",
       "      <th>category_home</th>\n",
       "      <th>category_kids_pets</th>\n",
       "      <th>category_misc_net</th>\n",
       "      <th>category_misc_pos</th>\n",
       "      <th>category_personal_care</th>\n",
       "      <th>category_shopping_net</th>\n",
       "      <th>category_shopping_pos</th>\n",
       "      <th>category_travel</th>\n",
       "      <th>gender_F</th>\n",
       "      <th>gender_M</th>\n",
       "    </tr>\n",
       "  </thead>\n",
       "  <tbody>\n",
       "    <tr>\n",
       "      <th>0</th>\n",
       "      <td>0</td>\n",
       "      <td>0</td>\n",
       "      <td>0</td>\n",
       "      <td>0</td>\n",
       "      <td>0</td>\n",
       "      <td>0</td>\n",
       "      <td>0</td>\n",
       "      <td>0</td>\n",
       "      <td>0</td>\n",
       "      <td>0</td>\n",
       "      <td>1</td>\n",
       "      <td>0</td>\n",
       "      <td>0</td>\n",
       "      <td>0</td>\n",
       "      <td>0</td>\n",
       "      <td>1</td>\n",
       "    </tr>\n",
       "    <tr>\n",
       "      <th>1</th>\n",
       "      <td>0</td>\n",
       "      <td>0</td>\n",
       "      <td>0</td>\n",
       "      <td>0</td>\n",
       "      <td>0</td>\n",
       "      <td>0</td>\n",
       "      <td>0</td>\n",
       "      <td>0</td>\n",
       "      <td>0</td>\n",
       "      <td>0</td>\n",
       "      <td>1</td>\n",
       "      <td>0</td>\n",
       "      <td>0</td>\n",
       "      <td>0</td>\n",
       "      <td>1</td>\n",
       "      <td>0</td>\n",
       "    </tr>\n",
       "    <tr>\n",
       "      <th>2</th>\n",
       "      <td>0</td>\n",
       "      <td>0</td>\n",
       "      <td>0</td>\n",
       "      <td>0</td>\n",
       "      <td>0</td>\n",
       "      <td>1</td>\n",
       "      <td>0</td>\n",
       "      <td>0</td>\n",
       "      <td>0</td>\n",
       "      <td>0</td>\n",
       "      <td>0</td>\n",
       "      <td>0</td>\n",
       "      <td>0</td>\n",
       "      <td>0</td>\n",
       "      <td>1</td>\n",
       "      <td>0</td>\n",
       "    </tr>\n",
       "    <tr>\n",
       "      <th>3</th>\n",
       "      <td>0</td>\n",
       "      <td>0</td>\n",
       "      <td>0</td>\n",
       "      <td>0</td>\n",
       "      <td>0</td>\n",
       "      <td>0</td>\n",
       "      <td>0</td>\n",
       "      <td>0</td>\n",
       "      <td>0</td>\n",
       "      <td>1</td>\n",
       "      <td>0</td>\n",
       "      <td>0</td>\n",
       "      <td>0</td>\n",
       "      <td>0</td>\n",
       "      <td>0</td>\n",
       "      <td>1</td>\n",
       "    </tr>\n",
       "    <tr>\n",
       "      <th>4</th>\n",
       "      <td>0</td>\n",
       "      <td>0</td>\n",
       "      <td>0</td>\n",
       "      <td>0</td>\n",
       "      <td>0</td>\n",
       "      <td>0</td>\n",
       "      <td>0</td>\n",
       "      <td>0</td>\n",
       "      <td>0</td>\n",
       "      <td>0</td>\n",
       "      <td>0</td>\n",
       "      <td>0</td>\n",
       "      <td>0</td>\n",
       "      <td>1</td>\n",
       "      <td>0</td>\n",
       "      <td>1</td>\n",
       "    </tr>\n",
       "    <tr>\n",
       "      <th>...</th>\n",
       "      <td>...</td>\n",
       "      <td>...</td>\n",
       "      <td>...</td>\n",
       "      <td>...</td>\n",
       "      <td>...</td>\n",
       "      <td>...</td>\n",
       "      <td>...</td>\n",
       "      <td>...</td>\n",
       "      <td>...</td>\n",
       "      <td>...</td>\n",
       "      <td>...</td>\n",
       "      <td>...</td>\n",
       "      <td>...</td>\n",
       "      <td>...</td>\n",
       "      <td>...</td>\n",
       "      <td>...</td>\n",
       "    </tr>\n",
       "    <tr>\n",
       "      <th>555714</th>\n",
       "      <td>0</td>\n",
       "      <td>0</td>\n",
       "      <td>0</td>\n",
       "      <td>0</td>\n",
       "      <td>0</td>\n",
       "      <td>1</td>\n",
       "      <td>0</td>\n",
       "      <td>0</td>\n",
       "      <td>0</td>\n",
       "      <td>0</td>\n",
       "      <td>0</td>\n",
       "      <td>0</td>\n",
       "      <td>0</td>\n",
       "      <td>0</td>\n",
       "      <td>0</td>\n",
       "      <td>1</td>\n",
       "    </tr>\n",
       "    <tr>\n",
       "      <th>555715</th>\n",
       "      <td>0</td>\n",
       "      <td>0</td>\n",
       "      <td>0</td>\n",
       "      <td>0</td>\n",
       "      <td>0</td>\n",
       "      <td>0</td>\n",
       "      <td>0</td>\n",
       "      <td>1</td>\n",
       "      <td>0</td>\n",
       "      <td>0</td>\n",
       "      <td>0</td>\n",
       "      <td>0</td>\n",
       "      <td>0</td>\n",
       "      <td>0</td>\n",
       "      <td>0</td>\n",
       "      <td>1</td>\n",
       "    </tr>\n",
       "    <tr>\n",
       "      <th>555716</th>\n",
       "      <td>0</td>\n",
       "      <td>0</td>\n",
       "      <td>0</td>\n",
       "      <td>0</td>\n",
       "      <td>0</td>\n",
       "      <td>0</td>\n",
       "      <td>0</td>\n",
       "      <td>1</td>\n",
       "      <td>0</td>\n",
       "      <td>0</td>\n",
       "      <td>0</td>\n",
       "      <td>0</td>\n",
       "      <td>0</td>\n",
       "      <td>0</td>\n",
       "      <td>1</td>\n",
       "      <td>0</td>\n",
       "    </tr>\n",
       "    <tr>\n",
       "      <th>555717</th>\n",
       "      <td>0</td>\n",
       "      <td>0</td>\n",
       "      <td>0</td>\n",
       "      <td>0</td>\n",
       "      <td>0</td>\n",
       "      <td>0</td>\n",
       "      <td>0</td>\n",
       "      <td>0</td>\n",
       "      <td>0</td>\n",
       "      <td>0</td>\n",
       "      <td>0</td>\n",
       "      <td>0</td>\n",
       "      <td>0</td>\n",
       "      <td>1</td>\n",
       "      <td>0</td>\n",
       "      <td>1</td>\n",
       "    </tr>\n",
       "    <tr>\n",
       "      <th>555718</th>\n",
       "      <td>1</td>\n",
       "      <td>0</td>\n",
       "      <td>0</td>\n",
       "      <td>0</td>\n",
       "      <td>0</td>\n",
       "      <td>0</td>\n",
       "      <td>0</td>\n",
       "      <td>0</td>\n",
       "      <td>0</td>\n",
       "      <td>0</td>\n",
       "      <td>0</td>\n",
       "      <td>0</td>\n",
       "      <td>0</td>\n",
       "      <td>0</td>\n",
       "      <td>0</td>\n",
       "      <td>1</td>\n",
       "    </tr>\n",
       "  </tbody>\n",
       "</table>\n",
       "<p>555719 rows × 16 columns</p>\n",
       "</div>"
      ],
      "text/plain": [
       "        category_entertainment  category_food_dining  category_gas_transport  category_grocery_net  category_grocery_pos  category_health_fitness  category_home  category_kids_pets  category_misc_net  category_misc_pos  category_personal_care  category_shopping_net  category_shopping_pos  category_travel  gender_F  gender_M\n",
       "0                            0                     0                       0                     0                     0                        0              0                   0                  0                  0                       1                      0                      0                0         0         1\n",
       "1                            0                     0                       0                     0                     0                        0              0                   0                  0                  0                       1                      0                      0                0         1         0\n",
       "2                            0                     0                       0                     0                     0                        1              0                   0                  0                  0                       0                      0                      0                0         1         0\n",
       "3                            0                     0                       0                     0                     0                        0              0                   0                  0                  1                       0                      0                      0                0         0         1\n",
       "4                            0                     0                       0                     0                     0                        0              0                   0                  0                  0                       0                      0                      0                1         0         1\n",
       "...                        ...                   ...                     ...                   ...                   ...                      ...            ...                 ...                ...                ...                     ...                    ...                    ...              ...       ...       ...\n",
       "555714                       0                     0                       0                     0                     0                        1              0                   0                  0                  0                       0                      0                      0                0         0         1\n",
       "555715                       0                     0                       0                     0                     0                        0              0                   1                  0                  0                       0                      0                      0                0         0         1\n",
       "555716                       0                     0                       0                     0                     0                        0              0                   1                  0                  0                       0                      0                      0                0         1         0\n",
       "555717                       0                     0                       0                     0                     0                        0              0                   0                  0                  0                       0                      0                      0                1         0         1\n",
       "555718                       1                     0                       0                     0                     0                        0              0                   0                  0                  0                       0                      0                      0                0         0         1\n",
       "\n",
       "[555719 rows x 16 columns]"
      ]
     },
     "execution_count": 26,
     "metadata": {},
     "output_type": "execute_result"
    }
   ],
   "source": []
  },
  {
   "cell_type": "code",
   "execution_count": null,
   "metadata": {},
   "outputs": [],
   "source": [
    "# попробовать несколько моделей. "
   ]
  },
  {
   "cell_type": "code",
   "execution_count": null,
   "metadata": {},
   "outputs": [],
   "source": []
  }
 ],
 "metadata": {
  "kernelspec": {
   "display_name": "Python 3",
   "language": "python",
   "name": "python3"
  },
  "language_info": {
   "codemirror_mode": {
    "name": "ipython",
    "version": 3
   },
   "file_extension": ".py",
   "mimetype": "text/x-python",
   "name": "python",
   "nbconvert_exporter": "python",
   "pygments_lexer": "ipython3",
   "version": "3.7.6"
  }
 },
 "nbformat": 4,
 "nbformat_minor": 4
}
